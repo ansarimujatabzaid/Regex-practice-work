{
 "cells": [
  {
   "cell_type": "markdown",
   "id": "eae71750",
   "metadata": {},
   "source": [
    "Q:11"
   ]
  },
  {
   "cell_type": "code",
   "execution_count": 7,
   "id": "9a1b0997",
   "metadata": {},
   "outputs": [
    {
     "name": "stdout",
     "output_type": "stream",
     "text": [
      "enter a number7\n",
      "the factorial of 7 is 5040\n"
     ]
    }
   ],
   "source": [
    "num=int(input(\"enter a number\"))\n",
    "fact=1\n",
    "a=1\n",
    "\n",
    "while a<=num:\n",
    "    fact=fact*a\n",
    "    a=a+1\n",
    "    \n",
    "print(\"the factorial of\",num,\"is\",fact)    "
   ]
  },
  {
   "cell_type": "markdown",
   "id": "0887f972",
   "metadata": {},
   "source": [
    "Q:12"
   ]
  },
  {
   "cell_type": "code",
   "execution_count": 27,
   "id": "8053745a",
   "metadata": {},
   "outputs": [
    {
     "name": "stdout",
     "output_type": "stream",
     "text": [
      "enter any number:9\n",
      "this is composite number\n"
     ]
    }
   ],
   "source": [
    "number=int(input(\"enter any number:\"))\n",
    "count=0\n",
    "i=1\n",
    "\n",
    "while i<=number:\n",
    "    if number%i==0:\n",
    "        count=count+1\n",
    "        \n",
    "    i=i+1\n",
    "    \n",
    "    \n",
    "if count==2:\n",
    "    print('this is prime number')\n",
    "    \n",
    "elif count>2:\n",
    "    print('this is composite number')\n",
    "    \n",
    "    "
   ]
  },
  {
   "cell_type": "markdown",
   "id": "aedbd79e",
   "metadata": {},
   "source": [
    "Q:13"
   ]
  },
  {
   "cell_type": "code",
   "execution_count": 31,
   "id": "2599903f",
   "metadata": {},
   "outputs": [
    {
     "name": "stdout",
     "output_type": "stream",
     "text": [
      "enter a stringmama\n",
      "string is not palindrome\n"
     ]
    }
   ],
   "source": [
    "string=input(\"enter a string\")\n",
    "\n",
    "#slicing the string in reverse order\n",
    "\n",
    "new_string=string[-1::-1]\n",
    "\n",
    "if string==new_string:\n",
    "    print(\"string is palindrome\")\n",
    "    \n",
    "else:\n",
    "    print('string is not palindrome')\n",
    "    "
   ]
  },
  {
   "cell_type": "code",
   "execution_count": null,
   "id": "7428ab65",
   "metadata": {},
   "outputs": [],
   "source": []
  },
  {
   "cell_type": "code",
   "execution_count": null,
   "id": "e8b4f029",
   "metadata": {},
   "outputs": [],
   "source": []
  }
 ],
 "metadata": {
  "kernelspec": {
   "display_name": "Python 3 (ipykernel)",
   "language": "python",
   "name": "python3"
  },
  "language_info": {
   "codemirror_mode": {
    "name": "ipython",
    "version": 3
   },
   "file_extension": ".py",
   "mimetype": "text/x-python",
   "name": "python",
   "nbconvert_exporter": "python",
   "pygments_lexer": "ipython3",
   "version": "3.10.9"
  }
 },
 "nbformat": 4,
 "nbformat_minor": 5
}
