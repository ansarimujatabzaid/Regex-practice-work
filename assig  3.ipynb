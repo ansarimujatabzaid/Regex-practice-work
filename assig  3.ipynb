{
 "cells": [
  {
   "cell_type": "code",
   "execution_count": 5,
   "id": "623135c0",
   "metadata": {},
   "outputs": [
    {
     "name": "stdout",
     "output_type": "stream",
     "text": [
      "Requirement already satisfied: selenium in c:\\users\\admin\\anaconda3\\lib\\site-packages (4.17.2)\n",
      "Requirement already satisfied: trio~=0.17 in c:\\users\\admin\\anaconda3\\lib\\site-packages (from selenium) (0.24.0)\n",
      "Requirement already satisfied: urllib3[socks]<3,>=1.26 in c:\\users\\admin\\anaconda3\\lib\\site-packages (from selenium) (1.26.14)\n",
      "Requirement already satisfied: trio-websocket~=0.9 in c:\\users\\admin\\anaconda3\\lib\\site-packages (from selenium) (0.11.1)\n",
      "Requirement already satisfied: typing_extensions>=4.9.0 in c:\\users\\admin\\anaconda3\\lib\\site-packages (from selenium) (4.9.0)\n",
      "Requirement already satisfied: certifi>=2021.10.8 in c:\\users\\admin\\anaconda3\\lib\\site-packages (from selenium) (2022.12.7)\n",
      "Requirement already satisfied: outcome in c:\\users\\admin\\anaconda3\\lib\\site-packages (from trio~=0.17->selenium) (1.3.0.post0)\n",
      "Requirement already satisfied: cffi>=1.14 in c:\\users\\admin\\anaconda3\\lib\\site-packages (from trio~=0.17->selenium) (1.15.1)\n",
      "Requirement already satisfied: attrs>=20.1.0 in c:\\users\\admin\\anaconda3\\lib\\site-packages (from trio~=0.17->selenium) (22.1.0)\n",
      "Requirement already satisfied: sortedcontainers in c:\\users\\admin\\anaconda3\\lib\\site-packages (from trio~=0.17->selenium) (2.4.0)\n",
      "Requirement already satisfied: exceptiongroup in c:\\users\\admin\\anaconda3\\lib\\site-packages (from trio~=0.17->selenium) (1.2.0)\n",
      "Requirement already satisfied: idna in c:\\users\\admin\\anaconda3\\lib\\site-packages (from trio~=0.17->selenium) (3.4)\n",
      "Requirement already satisfied: sniffio>=1.3.0 in c:\\users\\admin\\anaconda3\\lib\\site-packages (from trio~=0.17->selenium) (1.3.0)\n",
      "Requirement already satisfied: wsproto>=0.14 in c:\\users\\admin\\anaconda3\\lib\\site-packages (from trio-websocket~=0.9->selenium) (1.2.0)\n",
      "Requirement already satisfied: PySocks!=1.5.7,<2.0,>=1.5.6 in c:\\users\\admin\\anaconda3\\lib\\site-packages (from urllib3[socks]<3,>=1.26->selenium) (1.7.1)\n",
      "Requirement already satisfied: pycparser in c:\\users\\admin\\anaconda3\\lib\\site-packages (from cffi>=1.14->trio~=0.17->selenium) (2.21)\n",
      "Requirement already satisfied: h11<1,>=0.9.0 in c:\\users\\admin\\anaconda3\\lib\\site-packages (from wsproto>=0.14->trio-websocket~=0.9->selenium) (0.14.0)\n"
     ]
    }
   ],
   "source": [
    "!pip install selenium "
   ]
  },
  {
   "cell_type": "code",
   "execution_count": 6,
   "id": "c3d958f5",
   "metadata": {},
   "outputs": [],
   "source": [
    "import selenium \n",
    "import pandas as pd\n",
    "from selenium import webdriver\n",
    "import warnings\n",
    "warnings.filterwarnings(\"ignore\")\n",
    "from selenium.webdriver.common.by import By\n",
    "import time "
   ]
  },
  {
   "cell_type": "code",
   "execution_count": 7,
   "id": "295e7521",
   "metadata": {},
   "outputs": [],
   "source": [
    "driver=webdriver.Chrome()"
   ]
  },
  {
   "cell_type": "code",
   "execution_count": 6,
   "id": "6752b525",
   "metadata": {},
   "outputs": [],
   "source": [
    "driver.get(\"http://www.amazon.in/\")"
   ]
  },
  {
   "cell_type": "code",
   "execution_count": 6,
   "id": "6a21d045",
   "metadata": {},
   "outputs": [
    {
     "ename": "NoSuchElementException",
     "evalue": "Message: no such element: Unable to locate element: {\"method\":\"css selector\",\"selector\":\".nav-input nav-progressive-attribute\"}\n  (Session info: chrome=121.0.6167.140); For documentation on this error, please visit: https://www.selenium.dev/documentation/webdriver/troubleshooting/errors#no-such-element-exception\nStacktrace:\n\tGetHandleVerifier [0x00007FF66DA75E42+3538674]\n\t(No symbol) [0x00007FF66D694C02]\n\t(No symbol) [0x00007FF66D545AEB]\n\t(No symbol) [0x00007FF66D58BF4E]\n\t(No symbol) [0x00007FF66D58C0CC]\n\t(No symbol) [0x00007FF66D5CE477]\n\t(No symbol) [0x00007FF66D5AF0EF]\n\t(No symbol) [0x00007FF66D5CBDE3]\n\t(No symbol) [0x00007FF66D5AEE53]\n\t(No symbol) [0x00007FF66D57F514]\n\t(No symbol) [0x00007FF66D580631]\n\tGetHandleVerifier [0x00007FF66DAA6CAD+3738973]\n\tGetHandleVerifier [0x00007FF66DAFC506+4089270]\n\tGetHandleVerifier [0x00007FF66DAF4823+4057299]\n\tGetHandleVerifier [0x00007FF66D7C5C49+720121]\n\t(No symbol) [0x00007FF66D6A126F]\n\t(No symbol) [0x00007FF66D69C304]\n\t(No symbol) [0x00007FF66D69C432]\n\t(No symbol) [0x00007FF66D68BD04]\n\tBaseThreadInitThunk [0x00007FFEEA8F7344+20]\n\tRtlUserThreadStart [0x00007FFEEC4E26B1+33]\n",
     "output_type": "error",
     "traceback": [
      "\u001b[1;31m---------------------------------------------------------------------------\u001b[0m",
      "\u001b[1;31mNoSuchElementException\u001b[0m                    Traceback (most recent call last)",
      "Cell \u001b[1;32mIn[6], line 1\u001b[0m\n\u001b[1;32m----> 1\u001b[0m search\u001b[38;5;241m=\u001b[39m\u001b[43mdriver\u001b[49m\u001b[38;5;241;43m.\u001b[39;49m\u001b[43mfind_element\u001b[49m\u001b[43m(\u001b[49m\u001b[43mBy\u001b[49m\u001b[38;5;241;43m.\u001b[39;49m\u001b[43mCLASS_NAME\u001b[49m\u001b[43m,\u001b[49m\u001b[38;5;124;43m\"\u001b[39;49m\u001b[38;5;124;43mnav-input nav-progressive-attribute\u001b[39;49m\u001b[38;5;124;43m\"\u001b[39;49m\u001b[43m)\u001b[49m\n\u001b[0;32m      2\u001b[0m search\u001b[38;5;241m.\u001b[39msend_keys(\u001b[38;5;28minput\u001b[39m(\u001b[38;5;124m\"\u001b[39m\u001b[38;5;124menter any word\u001b[39m\u001b[38;5;124m\"\u001b[39m))\n",
      "File \u001b[1;32m~\\anaconda3\\lib\\site-packages\\selenium\\webdriver\\remote\\webdriver.py:741\u001b[0m, in \u001b[0;36mWebDriver.find_element\u001b[1;34m(self, by, value)\u001b[0m\n\u001b[0;32m    738\u001b[0m     by \u001b[38;5;241m=\u001b[39m By\u001b[38;5;241m.\u001b[39mCSS_SELECTOR\n\u001b[0;32m    739\u001b[0m     value \u001b[38;5;241m=\u001b[39m \u001b[38;5;124mf\u001b[39m\u001b[38;5;124m'\u001b[39m\u001b[38;5;124m[name=\u001b[39m\u001b[38;5;124m\"\u001b[39m\u001b[38;5;132;01m{\u001b[39;00mvalue\u001b[38;5;132;01m}\u001b[39;00m\u001b[38;5;124m\"\u001b[39m\u001b[38;5;124m]\u001b[39m\u001b[38;5;124m'\u001b[39m\n\u001b[1;32m--> 741\u001b[0m \u001b[38;5;28;01mreturn\u001b[39;00m \u001b[38;5;28;43mself\u001b[39;49m\u001b[38;5;241;43m.\u001b[39;49m\u001b[43mexecute\u001b[49m\u001b[43m(\u001b[49m\u001b[43mCommand\u001b[49m\u001b[38;5;241;43m.\u001b[39;49m\u001b[43mFIND_ELEMENT\u001b[49m\u001b[43m,\u001b[49m\u001b[43m \u001b[49m\u001b[43m{\u001b[49m\u001b[38;5;124;43m\"\u001b[39;49m\u001b[38;5;124;43musing\u001b[39;49m\u001b[38;5;124;43m\"\u001b[39;49m\u001b[43m:\u001b[49m\u001b[43m \u001b[49m\u001b[43mby\u001b[49m\u001b[43m,\u001b[49m\u001b[43m \u001b[49m\u001b[38;5;124;43m\"\u001b[39;49m\u001b[38;5;124;43mvalue\u001b[39;49m\u001b[38;5;124;43m\"\u001b[39;49m\u001b[43m:\u001b[49m\u001b[43m \u001b[49m\u001b[43mvalue\u001b[49m\u001b[43m}\u001b[49m\u001b[43m)\u001b[49m[\u001b[38;5;124m\"\u001b[39m\u001b[38;5;124mvalue\u001b[39m\u001b[38;5;124m\"\u001b[39m]\n",
      "File \u001b[1;32m~\\anaconda3\\lib\\site-packages\\selenium\\webdriver\\remote\\webdriver.py:347\u001b[0m, in \u001b[0;36mWebDriver.execute\u001b[1;34m(self, driver_command, params)\u001b[0m\n\u001b[0;32m    345\u001b[0m response \u001b[38;5;241m=\u001b[39m \u001b[38;5;28mself\u001b[39m\u001b[38;5;241m.\u001b[39mcommand_executor\u001b[38;5;241m.\u001b[39mexecute(driver_command, params)\n\u001b[0;32m    346\u001b[0m \u001b[38;5;28;01mif\u001b[39;00m response:\n\u001b[1;32m--> 347\u001b[0m     \u001b[38;5;28;43mself\u001b[39;49m\u001b[38;5;241;43m.\u001b[39;49m\u001b[43merror_handler\u001b[49m\u001b[38;5;241;43m.\u001b[39;49m\u001b[43mcheck_response\u001b[49m\u001b[43m(\u001b[49m\u001b[43mresponse\u001b[49m\u001b[43m)\u001b[49m\n\u001b[0;32m    348\u001b[0m     response[\u001b[38;5;124m\"\u001b[39m\u001b[38;5;124mvalue\u001b[39m\u001b[38;5;124m\"\u001b[39m] \u001b[38;5;241m=\u001b[39m \u001b[38;5;28mself\u001b[39m\u001b[38;5;241m.\u001b[39m_unwrap_value(response\u001b[38;5;241m.\u001b[39mget(\u001b[38;5;124m\"\u001b[39m\u001b[38;5;124mvalue\u001b[39m\u001b[38;5;124m\"\u001b[39m, \u001b[38;5;28;01mNone\u001b[39;00m))\n\u001b[0;32m    349\u001b[0m     \u001b[38;5;28;01mreturn\u001b[39;00m response\n",
      "File \u001b[1;32m~\\anaconda3\\lib\\site-packages\\selenium\\webdriver\\remote\\errorhandler.py:229\u001b[0m, in \u001b[0;36mErrorHandler.check_response\u001b[1;34m(self, response)\u001b[0m\n\u001b[0;32m    227\u001b[0m         alert_text \u001b[38;5;241m=\u001b[39m value[\u001b[38;5;124m\"\u001b[39m\u001b[38;5;124malert\u001b[39m\u001b[38;5;124m\"\u001b[39m]\u001b[38;5;241m.\u001b[39mget(\u001b[38;5;124m\"\u001b[39m\u001b[38;5;124mtext\u001b[39m\u001b[38;5;124m\"\u001b[39m)\n\u001b[0;32m    228\u001b[0m     \u001b[38;5;28;01mraise\u001b[39;00m exception_class(message, screen, stacktrace, alert_text)  \u001b[38;5;66;03m# type: ignore[call-arg]  # mypy is not smart enough here\u001b[39;00m\n\u001b[1;32m--> 229\u001b[0m \u001b[38;5;28;01mraise\u001b[39;00m exception_class(message, screen, stacktrace)\n",
      "\u001b[1;31mNoSuchElementException\u001b[0m: Message: no such element: Unable to locate element: {\"method\":\"css selector\",\"selector\":\".nav-input nav-progressive-attribute\"}\n  (Session info: chrome=121.0.6167.140); For documentation on this error, please visit: https://www.selenium.dev/documentation/webdriver/troubleshooting/errors#no-such-element-exception\nStacktrace:\n\tGetHandleVerifier [0x00007FF66DA75E42+3538674]\n\t(No symbol) [0x00007FF66D694C02]\n\t(No symbol) [0x00007FF66D545AEB]\n\t(No symbol) [0x00007FF66D58BF4E]\n\t(No symbol) [0x00007FF66D58C0CC]\n\t(No symbol) [0x00007FF66D5CE477]\n\t(No symbol) [0x00007FF66D5AF0EF]\n\t(No symbol) [0x00007FF66D5CBDE3]\n\t(No symbol) [0x00007FF66D5AEE53]\n\t(No symbol) [0x00007FF66D57F514]\n\t(No symbol) [0x00007FF66D580631]\n\tGetHandleVerifier [0x00007FF66DAA6CAD+3738973]\n\tGetHandleVerifier [0x00007FF66DAFC506+4089270]\n\tGetHandleVerifier [0x00007FF66DAF4823+4057299]\n\tGetHandleVerifier [0x00007FF66D7C5C49+720121]\n\t(No symbol) [0x00007FF66D6A126F]\n\t(No symbol) [0x00007FF66D69C304]\n\t(No symbol) [0x00007FF66D69C432]\n\t(No symbol) [0x00007FF66D68BD04]\n\tBaseThreadInitThunk [0x00007FFEEA8F7344+20]\n\tRtlUserThreadStart [0x00007FFEEC4E26B1+33]\n"
     ]
    }
   ],
   "source": [
    "search=driver.find_element(By.CLASS_NAME,\"nav-input nav-progressive-attribute\")\n",
    "search.send_keys(input(\"enter any word\"))"
   ]
  },
  {
   "cell_type": "code",
   "execution_count": 7,
   "id": "7f791c84",
   "metadata": {},
   "outputs": [],
   "source": [
    "driver.close()"
   ]
  },
  {
   "cell_type": "code",
   "execution_count": 8,
   "id": "0c337752",
   "metadata": {},
   "outputs": [],
   "source": [
    "from selenium import webdriver\n",
    "from selenium.webdriver.support.ui import WebDriverWait\n",
    "from selenium.webdriver.support import expected_conditions as EC\n",
    "from selenium.webdriver.common.by import By"
   ]
  },
  {
   "cell_type": "code",
   "execution_count": 9,
   "id": "13109b41",
   "metadata": {},
   "outputs": [],
   "source": [
    "driver=webdriver.Chrome()"
   ]
  },
  {
   "cell_type": "code",
   "execution_count": 10,
   "id": "98c87fd5",
   "metadata": {},
   "outputs": [],
   "source": [
    "driver.get(\"http://www.amazon.in/\")"
   ]
  },
  {
   "cell_type": "code",
   "execution_count": 11,
   "id": "41d34c40",
   "metadata": {},
   "outputs": [],
   "source": [
    "delay=10"
   ]
  },
  {
   "cell_type": "code",
   "execution_count": 12,
   "id": "e24773ce",
   "metadata": {},
   "outputs": [
    {
     "ename": "TimeoutException",
     "evalue": "Message: \nStacktrace:\n\tGetHandleVerifier [0x00007FF66DA75E42+3538674]\n\t(No symbol) [0x00007FF66D694C02]\n\t(No symbol) [0x00007FF66D545AEB]\n\t(No symbol) [0x00007FF66D58BF4E]\n\t(No symbol) [0x00007FF66D58C0CC]\n\t(No symbol) [0x00007FF66D5CE477]\n\t(No symbol) [0x00007FF66D5AF0EF]\n\t(No symbol) [0x00007FF66D5CBDE3]\n\t(No symbol) [0x00007FF66D5AEE53]\n\t(No symbol) [0x00007FF66D57F514]\n\t(No symbol) [0x00007FF66D580631]\n\tGetHandleVerifier [0x00007FF66DAA6CAD+3738973]\n\tGetHandleVerifier [0x00007FF66DAFC506+4089270]\n\tGetHandleVerifier [0x00007FF66DAF4823+4057299]\n\tGetHandleVerifier [0x00007FF66D7C5C49+720121]\n\t(No symbol) [0x00007FF66D6A126F]\n\t(No symbol) [0x00007FF66D69C304]\n\t(No symbol) [0x00007FF66D69C432]\n\t(No symbol) [0x00007FF66D68BD04]\n\tBaseThreadInitThunk [0x00007FFEEA8F7344+20]\n\tRtlUserThreadStart [0x00007FFEEC4E26B1+33]\n",
     "output_type": "error",
     "traceback": [
      "\u001b[1;31m---------------------------------------------------------------------------\u001b[0m",
      "\u001b[1;31mTimeoutException\u001b[0m                          Traceback (most recent call last)",
      "Cell \u001b[1;32mIn[12], line 1\u001b[0m\n\u001b[1;32m----> 1\u001b[0m \u001b[43mWebDriverWait\u001b[49m\u001b[43m(\u001b[49m\u001b[43mdriver\u001b[49m\u001b[43m,\u001b[49m\u001b[43mdelay\u001b[49m\u001b[43m)\u001b[49m\u001b[38;5;241;43m.\u001b[39;49m\u001b[43muntil\u001b[49m\u001b[43m(\u001b[49m\u001b[43mEC\u001b[49m\u001b[38;5;241;43m.\u001b[39;49m\u001b[43mpresence_of_element_located\u001b[49m\u001b[43m(\u001b[49m\u001b[43m(\u001b[49m\u001b[43mBy\u001b[49m\u001b[38;5;241;43m.\u001b[39;49m\u001b[43mCLASS_NAME\u001b[49m\u001b[43m,\u001b[49m\u001b[38;5;124;43m\"\u001b[39;49m\u001b[38;5;124;43mnav-input nav-progressive-attribute\u001b[39;49m\u001b[38;5;124;43m\"\u001b[39;49m\u001b[43m)\u001b[49m\u001b[43m)\u001b[49m\u001b[43m)\u001b[49m\n\u001b[0;32m      2\u001b[0m element\u001b[38;5;241m=\u001b[39mdriver\u001b[38;5;241m.\u001b[39mfind_element(By\u001b[38;5;241m.\u001b[39mXPATH,\u001b[38;5;124m\"\u001b[39m\u001b[38;5;124m//input[@class=\u001b[39m\u001b[38;5;124m'\u001b[39m\u001b[38;5;124mnav-input nav-progressive-attribute\u001b[39m\u001b[38;5;124m'\u001b[39m\u001b[38;5;124m]\u001b[39m\u001b[38;5;124m\"\u001b[39m)\n\u001b[0;32m      3\u001b[0m element\n",
      "File \u001b[1;32m~\\anaconda3\\lib\\site-packages\\selenium\\webdriver\\support\\wait.py:105\u001b[0m, in \u001b[0;36mWebDriverWait.until\u001b[1;34m(self, method, message)\u001b[0m\n\u001b[0;32m    103\u001b[0m     \u001b[38;5;28;01mif\u001b[39;00m time\u001b[38;5;241m.\u001b[39mmonotonic() \u001b[38;5;241m>\u001b[39m end_time:\n\u001b[0;32m    104\u001b[0m         \u001b[38;5;28;01mbreak\u001b[39;00m\n\u001b[1;32m--> 105\u001b[0m \u001b[38;5;28;01mraise\u001b[39;00m TimeoutException(message, screen, stacktrace)\n",
      "\u001b[1;31mTimeoutException\u001b[0m: Message: \nStacktrace:\n\tGetHandleVerifier [0x00007FF66DA75E42+3538674]\n\t(No symbol) [0x00007FF66D694C02]\n\t(No symbol) [0x00007FF66D545AEB]\n\t(No symbol) [0x00007FF66D58BF4E]\n\t(No symbol) [0x00007FF66D58C0CC]\n\t(No symbol) [0x00007FF66D5CE477]\n\t(No symbol) [0x00007FF66D5AF0EF]\n\t(No symbol) [0x00007FF66D5CBDE3]\n\t(No symbol) [0x00007FF66D5AEE53]\n\t(No symbol) [0x00007FF66D57F514]\n\t(No symbol) [0x00007FF66D580631]\n\tGetHandleVerifier [0x00007FF66DAA6CAD+3738973]\n\tGetHandleVerifier [0x00007FF66DAFC506+4089270]\n\tGetHandleVerifier [0x00007FF66DAF4823+4057299]\n\tGetHandleVerifier [0x00007FF66D7C5C49+720121]\n\t(No symbol) [0x00007FF66D6A126F]\n\t(No symbol) [0x00007FF66D69C304]\n\t(No symbol) [0x00007FF66D69C432]\n\t(No symbol) [0x00007FF66D68BD04]\n\tBaseThreadInitThunk [0x00007FFEEA8F7344+20]\n\tRtlUserThreadStart [0x00007FFEEC4E26B1+33]\n"
     ]
    }
   ],
   "source": [
    "WebDriverWait(driver,delay).until(EC.presence_of_element_located((By.CLASS_NAME,\"nav-input nav-progressive-attribute\")))\n",
    "element=driver.find_element(By.XPATH,\"//input[@class='nav-input nav-progressive-attribute']\")\n",
    "element"
   ]
  },
  {
   "cell_type": "code",
   "execution_count": 14,
   "id": "224424bc",
   "metadata": {},
   "outputs": [],
   "source": [
    "from selenium.webdriver.support.ui import WebDriverWait\n",
    "from selenium.webdriver.support import expected_conditions as EC\n",
    "from selenium.webdriver.common.by import By\n",
    "from selenium.common.exceptions import TimeoutException"
   ]
  },
  {
   "cell_type": "code",
   "execution_count": 17,
   "id": "cefe4298",
   "metadata": {},
   "outputs": [
    {
     "name": "stdout",
     "output_type": "stream",
     "text": [
      "Exception Raised: Message: \n",
      "Stacktrace:\n",
      "\tGetHandleVerifier [0x00007FF66DA75E42+3538674]\n",
      "\t(No symbol) [0x00007FF66D694C02]\n",
      "\t(No symbol) [0x00007FF66D545AEB]\n",
      "\t(No symbol) [0x00007FF66D58BF4E]\n",
      "\t(No symbol) [0x00007FF66D58C0CC]\n",
      "\t(No symbol) [0x00007FF66D5CE477]\n",
      "\t(No symbol) [0x00007FF66D5AF0EF]\n",
      "\t(No symbol) [0x00007FF66D5CBDE3]\n",
      "\t(No symbol) [0x00007FF66D5AEE53]\n",
      "\t(No symbol) [0x00007FF66D57F514]\n",
      "\t(No symbol) [0x00007FF66D580631]\n",
      "\tGetHandleVerifier [0x00007FF66DAA6CAD+3738973]\n",
      "\tGetHandleVerifier [0x00007FF66DAFC506+4089270]\n",
      "\tGetHandleVerifier [0x00007FF66DAF4823+4057299]\n",
      "\tGetHandleVerifier [0x00007FF66D7C5C49+720121]\n",
      "\t(No symbol) [0x00007FF66D6A126F]\n",
      "\t(No symbol) [0x00007FF66D69C304]\n",
      "\t(No symbol) [0x00007FF66D69C432]\n",
      "\t(No symbol) [0x00007FF66D68BD04]\n",
      "\tBaseThreadInitThunk [0x00007FFEEA8F7344+20]\n",
      "\tRtlUserThreadStart [0x00007FFEEC4E26B1+33]\n",
      "\n"
     ]
    }
   ],
   "source": [
    "driver=webdriver.Chrome()\n",
    "delay=5\n",
    "try:\n",
    "    driver.get(\"http://www.amazon.in/\")\n",
    "    WebDriverWait(driver,delay).until(EC.presence_of_element_located((By.CLASS_NAME,'nav-input nav-progressive-attribute')))\n",
    "    element=driver.find_element_by_xpath(\"//input[@class='nav-input nav-progressive-attribute']\")\n",
    "    print(element)\n",
    "except TimeoutException as e:\n",
    "    print(\"Exception Raised:\",e)\n",
    "    "
   ]
  },
  {
   "cell_type": "markdown",
   "id": "37b7eb85",
   "metadata": {},
   "source": [
    "Q.3"
   ]
  },
  {
   "cell_type": "code",
   "execution_count": 45,
   "id": "1b0047ee",
   "metadata": {},
   "outputs": [],
   "source": [
    "driver=webdriver.Chrome()"
   ]
  },
  {
   "cell_type": "code",
   "execution_count": 14,
   "id": "0ac3d19b",
   "metadata": {},
   "outputs": [
    {
     "ename": "InvalidArgumentException",
     "evalue": "Message: invalid argument\n  (Session info: chrome=121.0.6167.140)\nStacktrace:\n\tGetHandleVerifier [0x00007FF79B4D5E42+3538674]\n\t(No symbol) [0x00007FF79B0F4C02]\n\t(No symbol) [0x00007FF79AFA599D]\n\t(No symbol) [0x00007FF79AF933C6]\n\t(No symbol) [0x00007FF79AF913F1]\n\t(No symbol) [0x00007FF79AF91C8C]\n\t(No symbol) [0x00007FF79AFA8179]\n\t(No symbol) [0x00007FF79B02C757]\n\t(No symbol) [0x00007FF79B00F0AA]\n\t(No symbol) [0x00007FF79B02BDE3]\n\t(No symbol) [0x00007FF79B00EE53]\n\t(No symbol) [0x00007FF79AFDF514]\n\t(No symbol) [0x00007FF79AFE0631]\n\tGetHandleVerifier [0x00007FF79B506CAD+3738973]\n\tGetHandleVerifier [0x00007FF79B55C506+4089270]\n\tGetHandleVerifier [0x00007FF79B554823+4057299]\n\tGetHandleVerifier [0x00007FF79B225C49+720121]\n\t(No symbol) [0x00007FF79B10126F]\n\t(No symbol) [0x00007FF79B0FC304]\n\t(No symbol) [0x00007FF79B0FC432]\n\t(No symbol) [0x00007FF79B0EBD04]\n\tBaseThreadInitThunk [0x00007FFEEA8F7344+20]\n\tRtlUserThreadStart [0x00007FFEEC4E26B1+33]\n",
     "output_type": "error",
     "traceback": [
      "\u001b[1;31m---------------------------------------------------------------------------\u001b[0m",
      "\u001b[1;31mInvalidArgumentException\u001b[0m                  Traceback (most recent call last)",
      "Cell \u001b[1;32mIn[14], line 1\u001b[0m\n\u001b[1;32m----> 1\u001b[0m \u001b[43mdriver\u001b[49m\u001b[38;5;241;43m.\u001b[39;49m\u001b[43mget\u001b[49m\u001b[43m(\u001b[49m\u001b[38;5;124;43m\"\u001b[39;49m\u001b[38;5;124;43mimages.google.com\u001b[39;49m\u001b[38;5;124;43m\"\u001b[39;49m\u001b[43m)\u001b[49m\n",
      "File \u001b[1;32m~\\anaconda3\\lib\\site-packages\\selenium\\webdriver\\remote\\webdriver.py:356\u001b[0m, in \u001b[0;36mWebDriver.get\u001b[1;34m(self, url)\u001b[0m\n\u001b[0;32m    354\u001b[0m \u001b[38;5;28;01mdef\u001b[39;00m \u001b[38;5;21mget\u001b[39m(\u001b[38;5;28mself\u001b[39m, url: \u001b[38;5;28mstr\u001b[39m) \u001b[38;5;241m-\u001b[39m\u001b[38;5;241m>\u001b[39m \u001b[38;5;28;01mNone\u001b[39;00m:\n\u001b[0;32m    355\u001b[0m     \u001b[38;5;124;03m\"\"\"Loads a web page in the current browser session.\"\"\"\u001b[39;00m\n\u001b[1;32m--> 356\u001b[0m     \u001b[38;5;28;43mself\u001b[39;49m\u001b[38;5;241;43m.\u001b[39;49m\u001b[43mexecute\u001b[49m\u001b[43m(\u001b[49m\u001b[43mCommand\u001b[49m\u001b[38;5;241;43m.\u001b[39;49m\u001b[43mGET\u001b[49m\u001b[43m,\u001b[49m\u001b[43m \u001b[49m\u001b[43m{\u001b[49m\u001b[38;5;124;43m\"\u001b[39;49m\u001b[38;5;124;43murl\u001b[39;49m\u001b[38;5;124;43m\"\u001b[39;49m\u001b[43m:\u001b[49m\u001b[43m \u001b[49m\u001b[43murl\u001b[49m\u001b[43m}\u001b[49m\u001b[43m)\u001b[49m\n",
      "File \u001b[1;32m~\\anaconda3\\lib\\site-packages\\selenium\\webdriver\\remote\\webdriver.py:347\u001b[0m, in \u001b[0;36mWebDriver.execute\u001b[1;34m(self, driver_command, params)\u001b[0m\n\u001b[0;32m    345\u001b[0m response \u001b[38;5;241m=\u001b[39m \u001b[38;5;28mself\u001b[39m\u001b[38;5;241m.\u001b[39mcommand_executor\u001b[38;5;241m.\u001b[39mexecute(driver_command, params)\n\u001b[0;32m    346\u001b[0m \u001b[38;5;28;01mif\u001b[39;00m response:\n\u001b[1;32m--> 347\u001b[0m     \u001b[38;5;28;43mself\u001b[39;49m\u001b[38;5;241;43m.\u001b[39;49m\u001b[43merror_handler\u001b[49m\u001b[38;5;241;43m.\u001b[39;49m\u001b[43mcheck_response\u001b[49m\u001b[43m(\u001b[49m\u001b[43mresponse\u001b[49m\u001b[43m)\u001b[49m\n\u001b[0;32m    348\u001b[0m     response[\u001b[38;5;124m\"\u001b[39m\u001b[38;5;124mvalue\u001b[39m\u001b[38;5;124m\"\u001b[39m] \u001b[38;5;241m=\u001b[39m \u001b[38;5;28mself\u001b[39m\u001b[38;5;241m.\u001b[39m_unwrap_value(response\u001b[38;5;241m.\u001b[39mget(\u001b[38;5;124m\"\u001b[39m\u001b[38;5;124mvalue\u001b[39m\u001b[38;5;124m\"\u001b[39m, \u001b[38;5;28;01mNone\u001b[39;00m))\n\u001b[0;32m    349\u001b[0m     \u001b[38;5;28;01mreturn\u001b[39;00m response\n",
      "File \u001b[1;32m~\\anaconda3\\lib\\site-packages\\selenium\\webdriver\\remote\\errorhandler.py:229\u001b[0m, in \u001b[0;36mErrorHandler.check_response\u001b[1;34m(self, response)\u001b[0m\n\u001b[0;32m    227\u001b[0m         alert_text \u001b[38;5;241m=\u001b[39m value[\u001b[38;5;124m\"\u001b[39m\u001b[38;5;124malert\u001b[39m\u001b[38;5;124m\"\u001b[39m]\u001b[38;5;241m.\u001b[39mget(\u001b[38;5;124m\"\u001b[39m\u001b[38;5;124mtext\u001b[39m\u001b[38;5;124m\"\u001b[39m)\n\u001b[0;32m    228\u001b[0m     \u001b[38;5;28;01mraise\u001b[39;00m exception_class(message, screen, stacktrace, alert_text)  \u001b[38;5;66;03m# type: ignore[call-arg]  # mypy is not smart enough here\u001b[39;00m\n\u001b[1;32m--> 229\u001b[0m \u001b[38;5;28;01mraise\u001b[39;00m exception_class(message, screen, stacktrace)\n",
      "\u001b[1;31mInvalidArgumentException\u001b[0m: Message: invalid argument\n  (Session info: chrome=121.0.6167.140)\nStacktrace:\n\tGetHandleVerifier [0x00007FF79B4D5E42+3538674]\n\t(No symbol) [0x00007FF79B0F4C02]\n\t(No symbol) [0x00007FF79AFA599D]\n\t(No symbol) [0x00007FF79AF933C6]\n\t(No symbol) [0x00007FF79AF913F1]\n\t(No symbol) [0x00007FF79AF91C8C]\n\t(No symbol) [0x00007FF79AFA8179]\n\t(No symbol) [0x00007FF79B02C757]\n\t(No symbol) [0x00007FF79B00F0AA]\n\t(No symbol) [0x00007FF79B02BDE3]\n\t(No symbol) [0x00007FF79B00EE53]\n\t(No symbol) [0x00007FF79AFDF514]\n\t(No symbol) [0x00007FF79AFE0631]\n\tGetHandleVerifier [0x00007FF79B506CAD+3738973]\n\tGetHandleVerifier [0x00007FF79B55C506+4089270]\n\tGetHandleVerifier [0x00007FF79B554823+4057299]\n\tGetHandleVerifier [0x00007FF79B225C49+720121]\n\t(No symbol) [0x00007FF79B10126F]\n\t(No symbol) [0x00007FF79B0FC304]\n\t(No symbol) [0x00007FF79B0FC432]\n\t(No symbol) [0x00007FF79B0EBD04]\n\tBaseThreadInitThunk [0x00007FFEEA8F7344+20]\n\tRtlUserThreadStart [0x00007FFEEC4E26B1+33]\n"
     ]
    }
   ],
   "source": [
    "driver.get(\"images.google.com\")"
   ]
  },
  {
   "cell_type": "markdown",
   "id": "77c292b9",
   "metadata": {},
   "source": [
    "Q:5"
   ]
  },
  {
   "cell_type": "code",
   "execution_count": 31,
   "id": "4f3467f1",
   "metadata": {},
   "outputs": [],
   "source": [
    "driver.get(\"https://www.google.com/maps/@18.9762368,72.8359596,14z?entry=ttu\")"
   ]
  },
  {
   "cell_type": "code",
   "execution_count": 44,
   "id": "87b97928",
   "metadata": {},
   "outputs": [
    {
     "ename": "SyntaxError",
     "evalue": "invalid decimal literal (1488880817.py, line 2)",
     "output_type": "error",
     "traceback": [
      "\u001b[1;36m  Cell \u001b[1;32mIn[44], line 2\u001b[1;36m\u001b[0m\n\u001b[1;33m    latitude.send_keys(int(19°05'23.9\"N 72°52'38.7\"E))\u001b[0m\n\u001b[1;37m                            ^\u001b[0m\n\u001b[1;31mSyntaxError\u001b[0m\u001b[1;31m:\u001b[0m invalid decimal literal\n"
     ]
    }
   ],
   "source": [
    "latitude=driver.find_element(By.CLASS_NAME,\"searchboxinput xiQnY\")\n",
    "latitude.send_keys(int(19°05'23.9\"N 72°52'38.7\"E))"
   ]
  },
  {
   "cell_type": "code",
   "execution_count": 47,
   "id": "8a7376d9",
   "metadata": {},
   "outputs": [
    {
     "ename": "InvalidArgumentException",
     "evalue": "Message: invalid argument\n  (Session info: chrome=121.0.6167.140)\nStacktrace:\n\tGetHandleVerifier [0x00007FF66DA75E42+3538674]\n\t(No symbol) [0x00007FF66D694C02]\n\t(No symbol) [0x00007FF66D54599D]\n\t(No symbol) [0x00007FF66D5333C6]\n\t(No symbol) [0x00007FF66D5313F1]\n\t(No symbol) [0x00007FF66D531C8C]\n\t(No symbol) [0x00007FF66D548179]\n\t(No symbol) [0x00007FF66D5CC757]\n\t(No symbol) [0x00007FF66D5AF0AA]\n\t(No symbol) [0x00007FF66D5CBDE3]\n\t(No symbol) [0x00007FF66D5AEE53]\n\t(No symbol) [0x00007FF66D57F514]\n\t(No symbol) [0x00007FF66D580631]\n\tGetHandleVerifier [0x00007FF66DAA6CAD+3738973]\n\tGetHandleVerifier [0x00007FF66DAFC506+4089270]\n\tGetHandleVerifier [0x00007FF66DAF4823+4057299]\n\tGetHandleVerifier [0x00007FF66D7C5C49+720121]\n\t(No symbol) [0x00007FF66D6A126F]\n\t(No symbol) [0x00007FF66D69C304]\n\t(No symbol) [0x00007FF66D69C432]\n\t(No symbol) [0x00007FF66D68BD04]\n\tBaseThreadInitThunk [0x00007FFEEA8F7344+20]\n\tRtlUserThreadStart [0x00007FFEEC4E26B1+33]\n",
     "output_type": "error",
     "traceback": [
      "\u001b[1;31m---------------------------------------------------------------------------\u001b[0m",
      "\u001b[1;31mInvalidArgumentException\u001b[0m                  Traceback (most recent call last)",
      "Cell \u001b[1;32mIn[47], line 1\u001b[0m\n\u001b[1;32m----> 1\u001b[0m \u001b[43mdriver\u001b[49m\u001b[38;5;241;43m.\u001b[39;49m\u001b[43mget\u001b[49m\u001b[43m(\u001b[49m\u001b[38;5;124;43m\"\u001b[39;49m\u001b[38;5;124;43mdigit.in\u001b[39;49m\u001b[38;5;124;43m\"\u001b[39;49m\u001b[43m)\u001b[49m\n",
      "File \u001b[1;32m~\\anaconda3\\lib\\site-packages\\selenium\\webdriver\\remote\\webdriver.py:356\u001b[0m, in \u001b[0;36mWebDriver.get\u001b[1;34m(self, url)\u001b[0m\n\u001b[0;32m    354\u001b[0m \u001b[38;5;28;01mdef\u001b[39;00m \u001b[38;5;21mget\u001b[39m(\u001b[38;5;28mself\u001b[39m, url: \u001b[38;5;28mstr\u001b[39m) \u001b[38;5;241m-\u001b[39m\u001b[38;5;241m>\u001b[39m \u001b[38;5;28;01mNone\u001b[39;00m:\n\u001b[0;32m    355\u001b[0m     \u001b[38;5;124;03m\"\"\"Loads a web page in the current browser session.\"\"\"\u001b[39;00m\n\u001b[1;32m--> 356\u001b[0m     \u001b[38;5;28;43mself\u001b[39;49m\u001b[38;5;241;43m.\u001b[39;49m\u001b[43mexecute\u001b[49m\u001b[43m(\u001b[49m\u001b[43mCommand\u001b[49m\u001b[38;5;241;43m.\u001b[39;49m\u001b[43mGET\u001b[49m\u001b[43m,\u001b[49m\u001b[43m \u001b[49m\u001b[43m{\u001b[49m\u001b[38;5;124;43m\"\u001b[39;49m\u001b[38;5;124;43murl\u001b[39;49m\u001b[38;5;124;43m\"\u001b[39;49m\u001b[43m:\u001b[49m\u001b[43m \u001b[49m\u001b[43murl\u001b[49m\u001b[43m}\u001b[49m\u001b[43m)\u001b[49m\n",
      "File \u001b[1;32m~\\anaconda3\\lib\\site-packages\\selenium\\webdriver\\remote\\webdriver.py:347\u001b[0m, in \u001b[0;36mWebDriver.execute\u001b[1;34m(self, driver_command, params)\u001b[0m\n\u001b[0;32m    345\u001b[0m response \u001b[38;5;241m=\u001b[39m \u001b[38;5;28mself\u001b[39m\u001b[38;5;241m.\u001b[39mcommand_executor\u001b[38;5;241m.\u001b[39mexecute(driver_command, params)\n\u001b[0;32m    346\u001b[0m \u001b[38;5;28;01mif\u001b[39;00m response:\n\u001b[1;32m--> 347\u001b[0m     \u001b[38;5;28;43mself\u001b[39;49m\u001b[38;5;241;43m.\u001b[39;49m\u001b[43merror_handler\u001b[49m\u001b[38;5;241;43m.\u001b[39;49m\u001b[43mcheck_response\u001b[49m\u001b[43m(\u001b[49m\u001b[43mresponse\u001b[49m\u001b[43m)\u001b[49m\n\u001b[0;32m    348\u001b[0m     response[\u001b[38;5;124m\"\u001b[39m\u001b[38;5;124mvalue\u001b[39m\u001b[38;5;124m\"\u001b[39m] \u001b[38;5;241m=\u001b[39m \u001b[38;5;28mself\u001b[39m\u001b[38;5;241m.\u001b[39m_unwrap_value(response\u001b[38;5;241m.\u001b[39mget(\u001b[38;5;124m\"\u001b[39m\u001b[38;5;124mvalue\u001b[39m\u001b[38;5;124m\"\u001b[39m, \u001b[38;5;28;01mNone\u001b[39;00m))\n\u001b[0;32m    349\u001b[0m     \u001b[38;5;28;01mreturn\u001b[39;00m response\n",
      "File \u001b[1;32m~\\anaconda3\\lib\\site-packages\\selenium\\webdriver\\remote\\errorhandler.py:229\u001b[0m, in \u001b[0;36mErrorHandler.check_response\u001b[1;34m(self, response)\u001b[0m\n\u001b[0;32m    227\u001b[0m         alert_text \u001b[38;5;241m=\u001b[39m value[\u001b[38;5;124m\"\u001b[39m\u001b[38;5;124malert\u001b[39m\u001b[38;5;124m\"\u001b[39m]\u001b[38;5;241m.\u001b[39mget(\u001b[38;5;124m\"\u001b[39m\u001b[38;5;124mtext\u001b[39m\u001b[38;5;124m\"\u001b[39m)\n\u001b[0;32m    228\u001b[0m     \u001b[38;5;28;01mraise\u001b[39;00m exception_class(message, screen, stacktrace, alert_text)  \u001b[38;5;66;03m# type: ignore[call-arg]  # mypy is not smart enough here\u001b[39;00m\n\u001b[1;32m--> 229\u001b[0m \u001b[38;5;28;01mraise\u001b[39;00m exception_class(message, screen, stacktrace)\n",
      "\u001b[1;31mInvalidArgumentException\u001b[0m: Message: invalid argument\n  (Session info: chrome=121.0.6167.140)\nStacktrace:\n\tGetHandleVerifier [0x00007FF66DA75E42+3538674]\n\t(No symbol) [0x00007FF66D694C02]\n\t(No symbol) [0x00007FF66D54599D]\n\t(No symbol) [0x00007FF66D5333C6]\n\t(No symbol) [0x00007FF66D5313F1]\n\t(No symbol) [0x00007FF66D531C8C]\n\t(No symbol) [0x00007FF66D548179]\n\t(No symbol) [0x00007FF66D5CC757]\n\t(No symbol) [0x00007FF66D5AF0AA]\n\t(No symbol) [0x00007FF66D5CBDE3]\n\t(No symbol) [0x00007FF66D5AEE53]\n\t(No symbol) [0x00007FF66D57F514]\n\t(No symbol) [0x00007FF66D580631]\n\tGetHandleVerifier [0x00007FF66DAA6CAD+3738973]\n\tGetHandleVerifier [0x00007FF66DAFC506+4089270]\n\tGetHandleVerifier [0x00007FF66DAF4823+4057299]\n\tGetHandleVerifier [0x00007FF66D7C5C49+720121]\n\t(No symbol) [0x00007FF66D6A126F]\n\t(No symbol) [0x00007FF66D69C304]\n\t(No symbol) [0x00007FF66D69C432]\n\t(No symbol) [0x00007FF66D68BD04]\n\tBaseThreadInitThunk [0x00007FFEEA8F7344+20]\n\tRtlUserThreadStart [0x00007FFEEC4E26B1+33]\n"
     ]
    }
   ],
   "source": [
    "driver.get(\"digit.in\")"
   ]
  },
  {
   "cell_type": "markdown",
   "id": "c7d5883e",
   "metadata": {},
   "source": [
    "Q:4"
   ]
  },
  {
   "cell_type": "code",
   "execution_count": 6,
   "id": "b00b792a",
   "metadata": {},
   "outputs": [],
   "source": [
    "driver.get(\"http://www.flipkart.com/\")"
   ]
  },
  {
   "cell_type": "code",
   "execution_count": 7,
   "id": "75332c1c",
   "metadata": {},
   "outputs": [],
   "source": [
    "search=driver.find_element(By.CLASS_NAME,\"_3704LK\")\n",
    "search.send_keys(\"mobilephones\")"
   ]
  },
  {
   "cell_type": "code",
   "execution_count": 12,
   "id": "c6ec4a39",
   "metadata": {},
   "outputs": [],
   "source": [
    "brands=[]\n",
    "color=[]\n",
    "RAM_ROM=[]\n",
    "primary_camera=[]\n",
    "secondry_camera=[]\n",
    "display_size=[]\n",
    "battery_capacity=[]\n",
    "price=[]\n",
    "product_url=[]"
   ]
  },
  {
   "cell_type": "code",
   "execution_count": 13,
   "id": "bd77d17c",
   "metadata": {},
   "outputs": [
    {
     "ename": "AttributeError",
     "evalue": "'str' object has no attribute 'text'",
     "output_type": "error",
     "traceback": [
      "\u001b[1;31m---------------------------------------------------------------------------\u001b[0m",
      "\u001b[1;31mAttributeError\u001b[0m                            Traceback (most recent call last)",
      "Cell \u001b[1;32mIn[13], line 3\u001b[0m\n\u001b[0;32m      1\u001b[0m brands\u001b[38;5;241m=\u001b[39mdriver\u001b[38;5;241m.\u001b[39mfind_elements(By\u001b[38;5;241m.\u001b[39mXPATH,\u001b[38;5;124m\"\u001b[39m\u001b[38;5;124m//div[@class=\u001b[39m\u001b[38;5;124m'\u001b[39m\u001b[38;5;124m_4rR01T\u001b[39m\u001b[38;5;124m'\u001b[39m\u001b[38;5;124m]\u001b[39m\u001b[38;5;124m\"\u001b[39m)\n\u001b[0;32m      2\u001b[0m \u001b[38;5;28;01mfor\u001b[39;00m i \u001b[38;5;129;01min\u001b[39;00m brands:\n\u001b[1;32m----> 3\u001b[0m     brands\u001b[38;5;241m.\u001b[39mappend(\u001b[43mi\u001b[49m\u001b[38;5;241;43m.\u001b[39;49m\u001b[43mtext\u001b[49m)\n",
      "\u001b[1;31mAttributeError\u001b[0m: 'str' object has no attribute 'text'"
     ]
    }
   ],
   "source": [
    "brands=driver.find_elements(By.XPATH,\"//div[@class='_4rR01T']\")\n",
    "for i in brands:\n",
    "    brands.append(i.text)\n"
   ]
  },
  {
   "cell_type": "code",
   "execution_count": null,
   "id": "2d2c9e2e",
   "metadata": {},
   "outputs": [],
   "source": []
  },
  {
   "cell_type": "code",
   "execution_count": 15,
   "id": "0a377c3e",
   "metadata": {},
   "outputs": [
    {
     "ename": "AttributeError",
     "evalue": "'str' object has no attribute 'text'",
     "output_type": "error",
     "traceback": [
      "\u001b[1;31m---------------------------------------------------------------------------\u001b[0m",
      "\u001b[1;31mAttributeError\u001b[0m                            Traceback (most recent call last)",
      "Cell \u001b[1;32mIn[15], line 4\u001b[0m\n\u001b[0;32m      1\u001b[0m RAM_ROM\u001b[38;5;241m=\u001b[39mdriver\u001b[38;5;241m.\u001b[39mfind_elements(By\u001b[38;5;241m.\u001b[39mXPATH,\u001b[38;5;124m\"\u001b[39m\u001b[38;5;124m//li[@class=\u001b[39m\u001b[38;5;124m'\u001b[39m\u001b[38;5;124mrgWa7D\u001b[39m\u001b[38;5;124m'\u001b[39m\u001b[38;5;124m]\u001b[39m\u001b[38;5;124m\"\u001b[39m)\n\u001b[0;32m      3\u001b[0m \u001b[38;5;28;01mfor\u001b[39;00m i \u001b[38;5;129;01min\u001b[39;00m RAM_ROM:\n\u001b[1;32m----> 4\u001b[0m     RAM_ROM\u001b[38;5;241m.\u001b[39mappend(\u001b[43mi\u001b[49m\u001b[38;5;241;43m.\u001b[39;49m\u001b[43mtext\u001b[49m)\n",
      "\u001b[1;31mAttributeError\u001b[0m: 'str' object has no attribute 'text'"
     ]
    }
   ],
   "source": [
    "RAM_ROM=driver.find_elements(By.XPATH,\"//li[@class='rgWa7D']\")\n",
    "\n",
    "for i in RAM_ROM:\n",
    "    RAM_ROM.append(i.text)"
   ]
  },
  {
   "cell_type": "markdown",
   "id": "4367d893",
   "metadata": {},
   "source": [
    "Q:7"
   ]
  },
  {
   "cell_type": "code",
   "execution_count": 20,
   "id": "b88eba93",
   "metadata": {},
   "outputs": [],
   "source": [
    "driver=webdriver.Chrome()"
   ]
  },
  {
   "cell_type": "code",
   "execution_count": 4,
   "id": "64c792a8",
   "metadata": {},
   "outputs": [],
   "source": [
    "driver.get(\"http://www.forbes.com/\")"
   ]
  },
  {
   "cell_type": "code",
   "execution_count": null,
   "id": "ab9ef1e9",
   "metadata": {},
   "outputs": [],
   "source": [
    "rank_tags=[]\n",
    "name_tags=[]\n",
    "networth_tags=[]\n",
    "age_tags=[]\n",
    "citizenship_tags=[]\n",
    "sourc_tagse=[]\n",
    "industry_tags=[]\n"
   ]
  },
  {
   "cell_type": "code",
   "execution_count": null,
   "id": "6a106fea",
   "metadata": {},
   "outputs": [],
   "source": []
  },
  {
   "cell_type": "code",
   "execution_count": 17,
   "id": "28ac4621",
   "metadata": {},
   "outputs": [],
   "source": [
    "name_title=driver.find_elements(By.XPATH,\"//div[@class='TableRow_cell__db-hv Table_cell__houv9']\")\n",
    "\n",
    "for i in name_title:\n",
    "    name=i.text\n",
    "    name_tags.append(name)"
   ]
  },
  {
   "cell_type": "code",
   "execution_count": 19,
   "id": "1a89f694",
   "metadata": {},
   "outputs": [
    {
     "name": "stdout",
     "output_type": "stream",
     "text": [
      "5408\n"
     ]
    }
   ],
   "source": [
    "print(len(name_tags))"
   ]
  },
  {
   "cell_type": "code",
   "execution_count": 21,
   "id": "0c3f4b61",
   "metadata": {},
   "outputs": [],
   "source": [
    "driver.get(\"http://www.hostelworld.com/\")"
   ]
  },
  {
   "cell_type": "code",
   "execution_count": 26,
   "id": "08e0d978",
   "metadata": {},
   "outputs": [],
   "source": [
    "search=driver.find_element(By.XPATH,\"/html/body/div[3]/div/div/div[2]/div[2]/div[2]/div/div/div/div[1]/div[1]/div/div[2]/input\")\n",
    "search.send_keys('London')"
   ]
  },
  {
   "cell_type": "code",
   "execution_count": 27,
   "id": "9e2c4a55",
   "metadata": {},
   "outputs": [],
   "source": [
    "hostel_tags=[]"
   ]
  },
  {
   "cell_type": "code",
   "execution_count": 30,
   "id": "6ca68a86",
   "metadata": {},
   "outputs": [],
   "source": [
    "hostel_name=driver.find_elements(By.XPATH,\"//div[@class='property-info-header']/div[1]\")\n",
    "for i in hostel_name:\n",
    "    hostel=i.text\n",
    "    hostel_tags.append(hostel)"
   ]
  },
  {
   "cell_type": "code",
   "execution_count": 31,
   "id": "b65dc97d",
   "metadata": {},
   "outputs": [],
   "source": [
    "distance_tags=[]"
   ]
  },
  {
   "cell_type": "code",
   "execution_count": 34,
   "id": "28b5b168",
   "metadata": {},
   "outputs": [],
   "source": [
    "distance_name=driver.find_elements(By.XPATH,\"//span[@class='distance-description']\")\n",
    "for i in distance_name:\n",
    "    distance=i.text\n",
    "    distance_tags.append(distance)"
   ]
  },
  {
   "cell_type": "code",
   "execution_count": 35,
   "id": "c26df8d0",
   "metadata": {},
   "outputs": [],
   "source": [
    "rating_tags=[]"
   ]
  },
  {
   "cell_type": "code",
   "execution_count": 36,
   "id": "629e5f85",
   "metadata": {},
   "outputs": [],
   "source": [
    "rating_name=driver.find_elements(By.XPATH,\"//div[@class='rating medium theme-null']\")\n",
    "\n",
    "for i in rating_name:\n",
    "    rating=i.text\n",
    "    rating_tags.append(rating)"
   ]
  },
  {
   "cell_type": "code",
   "execution_count": 37,
   "id": "43cf9110",
   "metadata": {},
   "outputs": [],
   "source": [
    "reviewe_tags=[]"
   ]
  },
  {
   "cell_type": "code",
   "execution_count": 38,
   "id": "3a26d11c",
   "metadata": {},
   "outputs": [],
   "source": [
    "reviewe_name=driver.find_elements(By.XPATH,\"//div[@class='review']\")\n",
    "\n",
    "for i in reviewe_name:\n",
    "    reviewe=i.text\n",
    "    reviewe_tags.append(reviewe)"
   ]
  },
  {
   "cell_type": "code",
   "execution_count": 39,
   "id": "a329e002",
   "metadata": {},
   "outputs": [],
   "source": [
    "price_tags=[]"
   ]
  },
  {
   "cell_type": "code",
   "execution_count": 40,
   "id": "b43c9efd",
   "metadata": {},
   "outputs": [],
   "source": [
    "price_name=driver.find_elements(By.XPATH,\"//div[@class='property-accommodation-prices']/div[1]\")\n",
    "\n",
    "for i in price_name:\n",
    "    price=i.text\n",
    "    price_tags.append(price)"
   ]
  },
  {
   "cell_type": "code",
   "execution_count": 41,
   "id": "5c2bfd45",
   "metadata": {},
   "outputs": [],
   "source": [
    "dorms_tags=[]"
   ]
  },
  {
   "cell_type": "code",
   "execution_count": 42,
   "id": "eb94040f",
   "metadata": {},
   "outputs": [],
   "source": [
    "dorms_name=driver.find_elements(By.XPATH,\"//div[@class='property-accommodation-prices']/div[2]\")\n",
    "\n",
    "for i in dorms_name:\n",
    "    dorms=i.text\n",
    "    dorms_tags.append(dorms)"
   ]
  },
  {
   "cell_type": "code",
   "execution_count": 43,
   "id": "405aacb0",
   "metadata": {},
   "outputs": [],
   "source": [
    "facilities_tags=[]"
   ]
  },
  {
   "cell_type": "code",
   "execution_count": 44,
   "id": "4209246d",
   "metadata": {},
   "outputs": [],
   "source": [
    "facilities_name=driver.find_elements(By.XPATH,\"//div[@class='property-badges']\")\n",
    "\n",
    "for i in facilities_name:\n",
    "    facilities=i.text\n",
    "    facilities_tags.append(facilities)"
   ]
  },
  {
   "cell_type": "code",
   "execution_count": 46,
   "id": "fefaed22",
   "metadata": {},
   "outputs": [
    {
     "name": "stdout",
     "output_type": "stream",
     "text": [
      "30 30 30 30 30 30\n"
     ]
    }
   ],
   "source": [
    "print(len(rating_tags),len(reviewe_tags),len(price_tags),len(dorms_tags),len(distance_tags),len(facilities_tags))"
   ]
  },
  {
   "cell_type": "code",
   "execution_count": 47,
   "id": "71ab1e83",
   "metadata": {},
   "outputs": [],
   "source": [
    "df=pd.DataFrame({\"Ratings\":rating_tags,\"Reviewes\":reviewe_tags,\"Price\":price_tags,\"Dorms\":dorms_tags,\"Facilities\":facilities_tags})\n"
   ]
  },
  {
   "cell_type": "code",
   "execution_count": 48,
   "id": "154378fa",
   "metadata": {},
   "outputs": [
    {
     "data": {
      "text/html": [
       "<div>\n",
       "<style scoped>\n",
       "    .dataframe tbody tr th:only-of-type {\n",
       "        vertical-align: middle;\n",
       "    }\n",
       "\n",
       "    .dataframe tbody tr th {\n",
       "        vertical-align: top;\n",
       "    }\n",
       "\n",
       "    .dataframe thead th {\n",
       "        text-align: right;\n",
       "    }\n",
       "</style>\n",
       "<table border=\"1\" class=\"dataframe\">\n",
       "  <thead>\n",
       "    <tr style=\"text-align: right;\">\n",
       "      <th></th>\n",
       "      <th>Ratings</th>\n",
       "      <th>Reviewes</th>\n",
       "      <th>Price</th>\n",
       "      <th>Dorms</th>\n",
       "      <th>Facilities</th>\n",
       "    </tr>\n",
       "  </thead>\n",
       "  <tbody>\n",
       "    <tr>\n",
       "      <th>0</th>\n",
       "      <td>9.1\\nSuperb\\n(15894)</td>\n",
       "      <td>(15894)</td>\n",
       "      <td>-30%\\nPrivates From\\n₹18,899\\n₹13,229</td>\n",
       "      <td>No Dorms Available</td>\n",
       "      <td></td>\n",
       "    </tr>\n",
       "    <tr>\n",
       "      <th>1</th>\n",
       "      <td>8.8\\nFabulous\\n(15971)</td>\n",
       "      <td>(15971)</td>\n",
       "      <td>No Privates Available</td>\n",
       "      <td>-26%\\nDorms From\\n₹3,331\\n₹2,465</td>\n",
       "      <td></td>\n",
       "    </tr>\n",
       "    <tr>\n",
       "      <th>2</th>\n",
       "      <td>7.8\\nVery Good\\n(12871)</td>\n",
       "      <td>(12871)</td>\n",
       "      <td>No Privates Available</td>\n",
       "      <td>-10%\\nDorms From\\n₹1,849\\n₹1,664</td>\n",
       "      <td></td>\n",
       "    </tr>\n",
       "    <tr>\n",
       "      <th>3</th>\n",
       "      <td>8.9\\nFabulous\\n(2146)</td>\n",
       "      <td>(2146)</td>\n",
       "      <td>-20%\\nPrivates From\\n₹16,083\\n₹12,866</td>\n",
       "      <td>-15%\\nDorms From\\n₹3,424\\n₹2,910</td>\n",
       "      <td></td>\n",
       "    </tr>\n",
       "    <tr>\n",
       "      <th>4</th>\n",
       "      <td>9.5\\nSuperb\\n(1125)</td>\n",
       "      <td>(1125)</td>\n",
       "      <td>Privates From\\n₹12,469</td>\n",
       "      <td>Dorms From\\n₹3,318</td>\n",
       "      <td></td>\n",
       "    </tr>\n",
       "    <tr>\n",
       "      <th>5</th>\n",
       "      <td>9.6\\nSuperb\\n(2588)</td>\n",
       "      <td>(2588)</td>\n",
       "      <td>No Privates Available</td>\n",
       "      <td>Dorms From\\n₹3,260</td>\n",
       "      <td></td>\n",
       "    </tr>\n",
       "    <tr>\n",
       "      <th>6</th>\n",
       "      <td>7.5\\nVery Good\\n(8081)</td>\n",
       "      <td>(8081)</td>\n",
       "      <td>Privates From\\n₹11,964</td>\n",
       "      <td>Dorms From\\n₹3,185</td>\n",
       "      <td></td>\n",
       "    </tr>\n",
       "    <tr>\n",
       "      <th>7</th>\n",
       "      <td>9.6\\nSuperb\\n(131)</td>\n",
       "      <td>(131)</td>\n",
       "      <td>No Privates Available</td>\n",
       "      <td>Dorms From\\n₹4,322</td>\n",
       "      <td></td>\n",
       "    </tr>\n",
       "    <tr>\n",
       "      <th>8</th>\n",
       "      <td>8.2\\nFabulous\\n(12327)</td>\n",
       "      <td>(12327)</td>\n",
       "      <td>No Privates Available</td>\n",
       "      <td>-10%\\nDorms From\\n₹2,305\\n₹2,074</td>\n",
       "      <td></td>\n",
       "    </tr>\n",
       "    <tr>\n",
       "      <th>9</th>\n",
       "      <td>7.2\\nVery Good\\n(5278)</td>\n",
       "      <td>(5278)</td>\n",
       "      <td>Privates From\\n₹20,072</td>\n",
       "      <td>Dorms From\\n₹2,136</td>\n",
       "      <td></td>\n",
       "    </tr>\n",
       "    <tr>\n",
       "      <th>10</th>\n",
       "      <td>8.3\\nFabulous\\n(9455)</td>\n",
       "      <td>(9455)</td>\n",
       "      <td>Privates From\\n₹11,663</td>\n",
       "      <td>Dorms From\\n₹3,080</td>\n",
       "      <td></td>\n",
       "    </tr>\n",
       "    <tr>\n",
       "      <th>11</th>\n",
       "      <td>7.7\\nVery Good\\n(4178)</td>\n",
       "      <td>(4178)</td>\n",
       "      <td>No Privates Available</td>\n",
       "      <td>Dorms From\\n₹1,130</td>\n",
       "      <td></td>\n",
       "    </tr>\n",
       "    <tr>\n",
       "      <th>12</th>\n",
       "      <td>7.2\\nVery Good\\n(5201)</td>\n",
       "      <td>(5201)</td>\n",
       "      <td>Privates From\\n₹3,347</td>\n",
       "      <td>Dorms From\\n₹1,007</td>\n",
       "      <td></td>\n",
       "    </tr>\n",
       "    <tr>\n",
       "      <th>13</th>\n",
       "      <td>7.9\\nVery Good\\n(514)</td>\n",
       "      <td>(514)</td>\n",
       "      <td>Privates From\\n₹9,617</td>\n",
       "      <td>Dorms From\\n₹2,558</td>\n",
       "      <td></td>\n",
       "    </tr>\n",
       "    <tr>\n",
       "      <th>14</th>\n",
       "      <td>7.7\\nVery Good\\n(10205)</td>\n",
       "      <td>(10205)</td>\n",
       "      <td>No Privates Available</td>\n",
       "      <td>Dorms From\\n₹1,829</td>\n",
       "      <td></td>\n",
       "    </tr>\n",
       "    <tr>\n",
       "      <th>15</th>\n",
       "      <td>7.0\\nVery Good\\n(1781)</td>\n",
       "      <td>(1781)</td>\n",
       "      <td>No Privates Available</td>\n",
       "      <td>Dorms From\\n₹1,781</td>\n",
       "      <td></td>\n",
       "    </tr>\n",
       "    <tr>\n",
       "      <th>16</th>\n",
       "      <td>9.0\\nSuperb\\n(4703)</td>\n",
       "      <td>(4703)</td>\n",
       "      <td>Privates From\\n₹12,222</td>\n",
       "      <td>No Dorms Available</td>\n",
       "      <td></td>\n",
       "    </tr>\n",
       "    <tr>\n",
       "      <th>17</th>\n",
       "      <td>7.8\\nVery Good\\n(6800)</td>\n",
       "      <td>(6800)</td>\n",
       "      <td>Privates From\\n₹10,544</td>\n",
       "      <td>Dorms From\\n₹1,672</td>\n",
       "      <td></td>\n",
       "    </tr>\n",
       "    <tr>\n",
       "      <th>18</th>\n",
       "      <td>9.1\\nSuperb\\n(316)</td>\n",
       "      <td>(316)</td>\n",
       "      <td>No Privates Available</td>\n",
       "      <td>Dorms From\\n₹3,801</td>\n",
       "      <td></td>\n",
       "    </tr>\n",
       "    <tr>\n",
       "      <th>19</th>\n",
       "      <td>7.4\\nVery Good\\n(3685)</td>\n",
       "      <td>(3685)</td>\n",
       "      <td>No Privates Available</td>\n",
       "      <td>Dorms From\\n₹2,029</td>\n",
       "      <td></td>\n",
       "    </tr>\n",
       "    <tr>\n",
       "      <th>20</th>\n",
       "      <td>8.8\\nFabulous\\n(115)</td>\n",
       "      <td>(115)</td>\n",
       "      <td>No Privates Available</td>\n",
       "      <td>Dorms From\\n₹2,898</td>\n",
       "      <td></td>\n",
       "    </tr>\n",
       "    <tr>\n",
       "      <th>21</th>\n",
       "      <td>8.5\\nFabulous\\n(871)</td>\n",
       "      <td>(871)</td>\n",
       "      <td>No Privates Available</td>\n",
       "      <td>Dorms From\\n₹3,210</td>\n",
       "      <td></td>\n",
       "    </tr>\n",
       "    <tr>\n",
       "      <th>22</th>\n",
       "      <td>8.2\\nFabulous\\n(2977)</td>\n",
       "      <td>(2977)</td>\n",
       "      <td>No Privates Available</td>\n",
       "      <td>-20%\\nDorms From\\n₹4,562\\n₹3,650</td>\n",
       "      <td></td>\n",
       "    </tr>\n",
       "    <tr>\n",
       "      <th>23</th>\n",
       "      <td>8.1\\nFabulous\\n(4567)</td>\n",
       "      <td>(4567)</td>\n",
       "      <td>No Privates Available</td>\n",
       "      <td>Dorms From\\n₹1,467</td>\n",
       "      <td></td>\n",
       "    </tr>\n",
       "    <tr>\n",
       "      <th>24</th>\n",
       "      <td>8.3\\nFabulous\\n(3143)</td>\n",
       "      <td>(3143)</td>\n",
       "      <td>No Privates Available</td>\n",
       "      <td>Dorms From\\n₹2,175</td>\n",
       "      <td></td>\n",
       "    </tr>\n",
       "    <tr>\n",
       "      <th>25</th>\n",
       "      <td>8.5\\nFabulous\\n(6594)</td>\n",
       "      <td>(6594)</td>\n",
       "      <td>-10%\\nPrivates From\\n₹10,755\\n₹9,680</td>\n",
       "      <td>-10%\\nDorms From\\n₹1,956\\n₹1,760</td>\n",
       "      <td></td>\n",
       "    </tr>\n",
       "    <tr>\n",
       "      <th>26</th>\n",
       "      <td>7.7\\nVery Good\\n(4389)</td>\n",
       "      <td>(4389)</td>\n",
       "      <td>No Privates Available</td>\n",
       "      <td>-10%\\nDorms From\\n₹2,082\\n₹1,873</td>\n",
       "      <td></td>\n",
       "    </tr>\n",
       "    <tr>\n",
       "      <th>27</th>\n",
       "      <td>7.3\\nVery Good\\n(15097)</td>\n",
       "      <td>(15097)</td>\n",
       "      <td>Privates From\\n₹10,895</td>\n",
       "      <td>Dorms From\\n₹1,956</td>\n",
       "      <td></td>\n",
       "    </tr>\n",
       "    <tr>\n",
       "      <th>28</th>\n",
       "      <td>6.3\\nGood\\n(4624)</td>\n",
       "      <td>(4624)</td>\n",
       "      <td>-5%\\nPrivates From\\n₹6,003\\n₹5,703</td>\n",
       "      <td>-5%\\nDorms From\\n₹1,603\\n₹1,523</td>\n",
       "      <td></td>\n",
       "    </tr>\n",
       "    <tr>\n",
       "      <th>29</th>\n",
       "      <td>9.1\\nSuperb\\n(2041)</td>\n",
       "      <td>(2041)</td>\n",
       "      <td>Privates From\\n₹6,984</td>\n",
       "      <td>Dorms From\\n₹2,968</td>\n",
       "      <td></td>\n",
       "    </tr>\n",
       "  </tbody>\n",
       "</table>\n",
       "</div>"
      ],
      "text/plain": [
       "                    Ratings Reviewes                                  Price  \\\n",
       "0      9.1\\nSuperb\\n(15894)  (15894)  -30%\\nPrivates From\\n₹18,899\\n₹13,229   \n",
       "1    8.8\\nFabulous\\n(15971)  (15971)                  No Privates Available   \n",
       "2   7.8\\nVery Good\\n(12871)  (12871)                  No Privates Available   \n",
       "3     8.9\\nFabulous\\n(2146)   (2146)  -20%\\nPrivates From\\n₹16,083\\n₹12,866   \n",
       "4       9.5\\nSuperb\\n(1125)   (1125)                 Privates From\\n₹12,469   \n",
       "5       9.6\\nSuperb\\n(2588)   (2588)                  No Privates Available   \n",
       "6    7.5\\nVery Good\\n(8081)   (8081)                 Privates From\\n₹11,964   \n",
       "7        9.6\\nSuperb\\n(131)    (131)                  No Privates Available   \n",
       "8    8.2\\nFabulous\\n(12327)  (12327)                  No Privates Available   \n",
       "9    7.2\\nVery Good\\n(5278)   (5278)                 Privates From\\n₹20,072   \n",
       "10    8.3\\nFabulous\\n(9455)   (9455)                 Privates From\\n₹11,663   \n",
       "11   7.7\\nVery Good\\n(4178)   (4178)                  No Privates Available   \n",
       "12   7.2\\nVery Good\\n(5201)   (5201)                  Privates From\\n₹3,347   \n",
       "13    7.9\\nVery Good\\n(514)    (514)                  Privates From\\n₹9,617   \n",
       "14  7.7\\nVery Good\\n(10205)  (10205)                  No Privates Available   \n",
       "15   7.0\\nVery Good\\n(1781)   (1781)                  No Privates Available   \n",
       "16      9.0\\nSuperb\\n(4703)   (4703)                 Privates From\\n₹12,222   \n",
       "17   7.8\\nVery Good\\n(6800)   (6800)                 Privates From\\n₹10,544   \n",
       "18       9.1\\nSuperb\\n(316)    (316)                  No Privates Available   \n",
       "19   7.4\\nVery Good\\n(3685)   (3685)                  No Privates Available   \n",
       "20     8.8\\nFabulous\\n(115)    (115)                  No Privates Available   \n",
       "21     8.5\\nFabulous\\n(871)    (871)                  No Privates Available   \n",
       "22    8.2\\nFabulous\\n(2977)   (2977)                  No Privates Available   \n",
       "23    8.1\\nFabulous\\n(4567)   (4567)                  No Privates Available   \n",
       "24    8.3\\nFabulous\\n(3143)   (3143)                  No Privates Available   \n",
       "25    8.5\\nFabulous\\n(6594)   (6594)   -10%\\nPrivates From\\n₹10,755\\n₹9,680   \n",
       "26   7.7\\nVery Good\\n(4389)   (4389)                  No Privates Available   \n",
       "27  7.3\\nVery Good\\n(15097)  (15097)                 Privates From\\n₹10,895   \n",
       "28        6.3\\nGood\\n(4624)   (4624)     -5%\\nPrivates From\\n₹6,003\\n₹5,703   \n",
       "29      9.1\\nSuperb\\n(2041)   (2041)                  Privates From\\n₹6,984   \n",
       "\n",
       "                               Dorms Facilities  \n",
       "0                 No Dorms Available             \n",
       "1   -26%\\nDorms From\\n₹3,331\\n₹2,465             \n",
       "2   -10%\\nDorms From\\n₹1,849\\n₹1,664             \n",
       "3   -15%\\nDorms From\\n₹3,424\\n₹2,910             \n",
       "4                 Dorms From\\n₹3,318             \n",
       "5                 Dorms From\\n₹3,260             \n",
       "6                 Dorms From\\n₹3,185             \n",
       "7                 Dorms From\\n₹4,322             \n",
       "8   -10%\\nDorms From\\n₹2,305\\n₹2,074             \n",
       "9                 Dorms From\\n₹2,136             \n",
       "10                Dorms From\\n₹3,080             \n",
       "11                Dorms From\\n₹1,130             \n",
       "12                Dorms From\\n₹1,007             \n",
       "13                Dorms From\\n₹2,558             \n",
       "14                Dorms From\\n₹1,829             \n",
       "15                Dorms From\\n₹1,781             \n",
       "16                No Dorms Available             \n",
       "17                Dorms From\\n₹1,672             \n",
       "18                Dorms From\\n₹3,801             \n",
       "19                Dorms From\\n₹2,029             \n",
       "20                Dorms From\\n₹2,898             \n",
       "21                Dorms From\\n₹3,210             \n",
       "22  -20%\\nDorms From\\n₹4,562\\n₹3,650             \n",
       "23                Dorms From\\n₹1,467             \n",
       "24                Dorms From\\n₹2,175             \n",
       "25  -10%\\nDorms From\\n₹1,956\\n₹1,760             \n",
       "26  -10%\\nDorms From\\n₹2,082\\n₹1,873             \n",
       "27                Dorms From\\n₹1,956             \n",
       "28   -5%\\nDorms From\\n₹1,603\\n₹1,523             \n",
       "29                Dorms From\\n₹2,968             "
      ]
     },
     "execution_count": 48,
     "metadata": {},
     "output_type": "execute_result"
    }
   ],
   "source": [
    "df"
   ]
  },
  {
   "cell_type": "code",
   "execution_count": null,
   "id": "64407cad",
   "metadata": {},
   "outputs": [],
   "source": []
  },
  {
   "cell_type": "code",
   "execution_count": 4,
   "id": "8919eace",
   "metadata": {},
   "outputs": [],
   "source": [
    "driver.get(\"https://www.youtube.com/redirect?event=video_description&redir_token=QUFFLUhqbFRmR0FZaVNWZkJYZFBLNHlycE5tOWZodHAzZ3xBQ3Jtc0tuY0dsbVZHeFJTbjJNRkFKeXpyM1F6M2lBaFRGSFQwejROQjRPQXpZX1R1eEwwNFBuQVd1WDBCTXJKRXJ4ZE5sVlpGT0YtSnJxbTl4aFBZb0tQYkJ3R1RZOTUwNW0zenFuUGxha3l1aFBOWVZyZUcwbw&q=http%3A%2F%2Fbit.ly%2FTSeriesYouTube&v=2ibPLYwVM38\")"
   ]
  },
  {
   "cell_type": "code",
   "execution_count": 5,
   "id": "8297e790",
   "metadata": {},
   "outputs": [],
   "source": [
    "TSEREIS_Comment=[]"
   ]
  },
  {
   "cell_type": "code",
   "execution_count": 11,
   "id": "f7d2956f",
   "metadata": {},
   "outputs": [],
   "source": [
    "comments_x=driver.find_elements(By.XPATH,\"//span[@class='style-scope yt-formatted-string']\")\n",
    "\n",
    "for i in comments_x:\n",
    "    comment=i.text\n",
    "    TSEREIS_Comment.append(comment)"
   ]
  },
  {
   "cell_type": "code",
   "execution_count": 12,
   "id": "8d8d48e3",
   "metadata": {},
   "outputs": [],
   "source": [
    "df=pd.DataFrame({\"COMMENTS\":TSEREIS_Comment})"
   ]
  },
  {
   "cell_type": "code",
   "execution_count": 13,
   "id": "15c00a5f",
   "metadata": {},
   "outputs": [
    {
     "data": {
      "text/html": [
       "<div>\n",
       "<style scoped>\n",
       "    .dataframe tbody tr th:only-of-type {\n",
       "        vertical-align: middle;\n",
       "    }\n",
       "\n",
       "    .dataframe tbody tr th {\n",
       "        vertical-align: top;\n",
       "    }\n",
       "\n",
       "    .dataframe thead th {\n",
       "        text-align: right;\n",
       "    }\n",
       "</style>\n",
       "<table border=\"1\" class=\"dataframe\">\n",
       "  <thead>\n",
       "    <tr style=\"text-align: right;\">\n",
       "      <th></th>\n",
       "      <th>COMMENTS</th>\n",
       "    </tr>\n",
       "  </thead>\n",
       "  <tbody>\n",
       "    <tr>\n",
       "      <th>0</th>\n",
       "      <td></td>\n",
       "    </tr>\n",
       "    <tr>\n",
       "      <th>1</th>\n",
       "      <td></td>\n",
       "    </tr>\n",
       "    <tr>\n",
       "      <th>2</th>\n",
       "      <td></td>\n",
       "    </tr>\n",
       "    <tr>\n",
       "      <th>3</th>\n",
       "      <td></td>\n",
       "    </tr>\n",
       "    <tr>\n",
       "      <th>4</th>\n",
       "      <td></td>\n",
       "    </tr>\n",
       "    <tr>\n",
       "      <th>...</th>\n",
       "      <td>...</td>\n",
       "    </tr>\n",
       "    <tr>\n",
       "      <th>259</th>\n",
       "      <td>sidha Dil chu jaate hai</td>\n",
       "    </tr>\n",
       "    <tr>\n",
       "      <th>260</th>\n",
       "      <td>Arijit singh</td>\n",
       "    </tr>\n",
       "    <tr>\n",
       "      <th>261</th>\n",
       "      <td></td>\n",
       "    </tr>\n",
       "    <tr>\n",
       "      <th>262</th>\n",
       "      <td></td>\n",
       "    </tr>\n",
       "    <tr>\n",
       "      <th>263</th>\n",
       "      <td></td>\n",
       "    </tr>\n",
       "  </tbody>\n",
       "</table>\n",
       "<p>264 rows × 1 columns</p>\n",
       "</div>"
      ],
      "text/plain": [
       "                      COMMENTS\n",
       "0                             \n",
       "1                             \n",
       "2                             \n",
       "3                             \n",
       "4                             \n",
       "..                         ...\n",
       "259   sidha Dil chu jaate hai \n",
       "260              Arijit singh \n",
       "261                           \n",
       "262                           \n",
       "263                           \n",
       "\n",
       "[264 rows x 1 columns]"
      ]
     },
     "execution_count": 13,
     "metadata": {},
     "output_type": "execute_result"
    }
   ],
   "source": [
    "df"
   ]
  },
  {
   "cell_type": "code",
   "execution_count": 10,
   "id": "33183265",
   "metadata": {},
   "outputs": [
    {
     "data": {
      "text/html": [
       "<div>\n",
       "<style scoped>\n",
       "    .dataframe tbody tr th:only-of-type {\n",
       "        vertical-align: middle;\n",
       "    }\n",
       "\n",
       "    .dataframe tbody tr th {\n",
       "        vertical-align: top;\n",
       "    }\n",
       "\n",
       "    .dataframe thead th {\n",
       "        text-align: right;\n",
       "    }\n",
       "</style>\n",
       "<table border=\"1\" class=\"dataframe\">\n",
       "  <thead>\n",
       "    <tr style=\"text-align: right;\">\n",
       "      <th></th>\n",
       "      <th>COMMENTS</th>\n",
       "    </tr>\n",
       "  </thead>\n",
       "  <tbody>\n",
       "    <tr>\n",
       "      <th>0</th>\n",
       "      <td></td>\n",
       "    </tr>\n",
       "    <tr>\n",
       "      <th>1</th>\n",
       "      <td></td>\n",
       "    </tr>\n",
       "    <tr>\n",
       "      <th>2</th>\n",
       "      <td></td>\n",
       "    </tr>\n",
       "    <tr>\n",
       "      <th>3</th>\n",
       "      <td></td>\n",
       "    </tr>\n",
       "    <tr>\n",
       "      <th>4</th>\n",
       "      <td></td>\n",
       "    </tr>\n",
       "  </tbody>\n",
       "</table>\n",
       "</div>"
      ],
      "text/plain": [
       "  COMMENTS\n",
       "0         \n",
       "1         \n",
       "2         \n",
       "3         \n",
       "4         "
      ]
     },
     "execution_count": 10,
     "metadata": {},
     "output_type": "execute_result"
    }
   ],
   "source": [
    "df.head()"
   ]
  },
  {
   "cell_type": "markdown",
   "id": "c8fb1432",
   "metadata": {},
   "source": [
    "Q:3"
   ]
  },
  {
   "cell_type": "code",
   "execution_count": 8,
   "id": "735597a1",
   "metadata": {},
   "outputs": [],
   "source": [
    "driver.get('https://images.google.com/')"
   ]
  },
  {
   "cell_type": "code",
   "execution_count": 10,
   "id": "4d32d8bb",
   "metadata": {},
   "outputs": [],
   "source": [
    "search=driver.find_element(By.CLASS_NAME,\"gLFyf\")\n",
    "search.send_keys(\"fruits\")"
   ]
  },
  {
   "cell_type": "code",
   "execution_count": 11,
   "id": "3fa82241",
   "metadata": {},
   "outputs": [],
   "source": [
    "button=driver.find_element(By.CLASS_NAME,\"zgAlFc\")\n",
    "button.click()"
   ]
  },
  {
   "cell_type": "code",
   "execution_count": 41,
   "id": "2c13d417",
   "metadata": {},
   "outputs": [
    {
     "data": {
      "text/plain": [
       "[<selenium.webdriver.remote.webelement.WebElement (session=\"7e12415487b9df60df66a852359043a9\", element=\"EB352797546DED5A4AAB2B1FA80F2902_element_1357\")>,\n",
       " <selenium.webdriver.remote.webelement.WebElement (session=\"7e12415487b9df60df66a852359043a9\", element=\"EB352797546DED5A4AAB2B1FA80F2902_element_1422\")>,\n",
       " <selenium.webdriver.remote.webelement.WebElement (session=\"7e12415487b9df60df66a852359043a9\", element=\"EB352797546DED5A4AAB2B1FA80F2902_element_1423\")>,\n",
       " <selenium.webdriver.remote.webelement.WebElement (session=\"7e12415487b9df60df66a852359043a9\", element=\"EB352797546DED5A4AAB2B1FA80F2902_element_1424\")>,\n",
       " <selenium.webdriver.remote.webelement.WebElement (session=\"7e12415487b9df60df66a852359043a9\", element=\"EB352797546DED5A4AAB2B1FA80F2902_element_1425\")>,\n",
       " <selenium.webdriver.remote.webelement.WebElement (session=\"7e12415487b9df60df66a852359043a9\", element=\"EB352797546DED5A4AAB2B1FA80F2902_element_1426\")>,\n",
       " <selenium.webdriver.remote.webelement.WebElement (session=\"7e12415487b9df60df66a852359043a9\", element=\"EB352797546DED5A4AAB2B1FA80F2902_element_1427\")>,\n",
       " <selenium.webdriver.remote.webelement.WebElement (session=\"7e12415487b9df60df66a852359043a9\", element=\"EB352797546DED5A4AAB2B1FA80F2902_element_1428\")>,\n",
       " <selenium.webdriver.remote.webelement.WebElement (session=\"7e12415487b9df60df66a852359043a9\", element=\"EB352797546DED5A4AAB2B1FA80F2902_element_1429\")>,\n",
       " <selenium.webdriver.remote.webelement.WebElement (session=\"7e12415487b9df60df66a852359043a9\", element=\"EB352797546DED5A4AAB2B1FA80F2902_element_1430\")>]"
      ]
     },
     "execution_count": 41,
     "metadata": {},
     "output_type": "execute_result"
    }
   ],
   "source": [
    "Fruits=driver.find_elements(By.XPATH,\"//a[@class='iGVLpd kGQAp BqKtob lNHeqe']\")\n",
    "Fruits[0:10]"
   ]
  },
  {
   "cell_type": "code",
   "execution_count": 42,
   "id": "daedccd9",
   "metadata": {},
   "outputs": [
    {
     "name": "stdout",
     "output_type": "stream",
     "text": [
      "https://www.pinterest.com/pin/single-full-orange-fruit-a-single-full-orange-fruit-isolated-on-white-backgroun-affiliate-orange-full-single-f--829858668820819728/\n",
      "https://stock.adobe.com/search?k=%22single+fruit%22\n",
      "https://m.indiamart.com/proddetail/fresh-watermelon-fruits-25282911512.html\n",
      "https://freefoodphotos.com/imagelibrary/fruit/slides/red_apple.html\n",
      "https://www.dreamstime.com/stock-illustration-single-watermelon-fruit-close-up-raw-melon-white-background-qualitative-vector-illustration-agriculture-fruits-cooking-image87739645\n",
      "https://www.vectorstock.com/royalty-free-vector/single-pear-fruit-close-up-vector-46400451\n",
      "https://pxhere.com/en/photo/1386949\n",
      "https://www.istockphoto.com/photos/single-seeded-fruits\n",
      "https://www.dreamstime.com/photos-images/single-fruit.html\n",
      "https://m.economictimes.com/magazines/panache/rich-fruits-from-50k-for-12-mangoes-to-4395-for-a-single-strawberry/pineapples-united-kingdom/slideshow/64446451.cms\n"
     ]
    }
   ],
   "source": [
    "for i in Fruits[0:10]:\n",
    "    print(i.get_attribute(\"href\"))"
   ]
  },
  {
   "cell_type": "code",
   "execution_count": 14,
   "id": "cda26cfc",
   "metadata": {},
   "outputs": [],
   "source": [
    "search=driver.find_element(By.CLASS_NAME,\"og3lId\")\n",
    "search.send_keys(\"cakes\")"
   ]
  },
  {
   "cell_type": "code",
   "execution_count": 15,
   "id": "755d1d4a",
   "metadata": {},
   "outputs": [],
   "source": [
    "button=driver.find_element(By.CLASS_NAME,\"XZ5MVe\")\n",
    "button.click()"
   ]
  },
  {
   "cell_type": "code",
   "execution_count": 17,
   "id": "30b6ae93",
   "metadata": {},
   "outputs": [
    {
     "data": {
      "text/plain": [
       "[<selenium.webdriver.remote.webelement.WebElement (session=\"e0b54e5d0e274feab8450f311ba4da4c\", element=\"BE3F81E432BC893272970D647DC8BE40_element_2331\")>,\n",
       " <selenium.webdriver.remote.webelement.WebElement (session=\"e0b54e5d0e274feab8450f311ba4da4c\", element=\"BE3F81E432BC893272970D647DC8BE40_element_2346\")>,\n",
       " <selenium.webdriver.remote.webelement.WebElement (session=\"e0b54e5d0e274feab8450f311ba4da4c\", element=\"BE3F81E432BC893272970D647DC8BE40_element_2347\")>,\n",
       " <selenium.webdriver.remote.webelement.WebElement (session=\"e0b54e5d0e274feab8450f311ba4da4c\", element=\"BE3F81E432BC893272970D647DC8BE40_element_2348\")>,\n",
       " <selenium.webdriver.remote.webelement.WebElement (session=\"e0b54e5d0e274feab8450f311ba4da4c\", element=\"BE3F81E432BC893272970D647DC8BE40_element_2349\")>,\n",
       " <selenium.webdriver.remote.webelement.WebElement (session=\"e0b54e5d0e274feab8450f311ba4da4c\", element=\"BE3F81E432BC893272970D647DC8BE40_element_2350\")>,\n",
       " <selenium.webdriver.remote.webelement.WebElement (session=\"e0b54e5d0e274feab8450f311ba4da4c\", element=\"BE3F81E432BC893272970D647DC8BE40_element_2351\")>,\n",
       " <selenium.webdriver.remote.webelement.WebElement (session=\"e0b54e5d0e274feab8450f311ba4da4c\", element=\"BE3F81E432BC893272970D647DC8BE40_element_2352\")>,\n",
       " <selenium.webdriver.remote.webelement.WebElement (session=\"e0b54e5d0e274feab8450f311ba4da4c\", element=\"BE3F81E432BC893272970D647DC8BE40_element_2353\")>,\n",
       " <selenium.webdriver.remote.webelement.WebElement (session=\"e0b54e5d0e274feab8450f311ba4da4c\", element=\"BE3F81E432BC893272970D647DC8BE40_element_2354\")>]"
      ]
     },
     "execution_count": 17,
     "metadata": {},
     "output_type": "execute_result"
    }
   ],
   "source": [
    "cakes=driver.find_elements(By.XPATH,\"//a[@class='iGVLpd kGQAp BqKtob lNHeqe']\")\n",
    "cakes[0:10]"
   ]
  },
  {
   "cell_type": "code",
   "execution_count": 18,
   "id": "a86e7832",
   "metadata": {},
   "outputs": [
    {
     "name": "stdout",
     "output_type": "stream",
     "text": [
      "https://www.deliciaecakes.com/categories/wedding-cakes/\n",
      "https://www.justdial.com/Mumbai/Simply-Cakes-Near-Monarch-Apartment-Andheri-East/022PXX22-XX22-190215192614-C5A2_BZDET\n",
      "https://www.kalpaflorist.com/product/online-cake-order-in-mumbai/\n",
      "https://handletheheat.com/best-birthday-cake/\n",
      "https://www.deliciaecakes.com/categories/theme-cakes/\n",
      "https://www.justdial.com/Mumbai/Hangout-Cakes-And-Gourmet-Food-Beside-Vodafone-Centre-Kandivali-West/022PXX22-XX22-140503122242-P9P7_BZDET\n",
      "https://www.cakeskart.com/shop/product/vnspc01-1-5kg-vanilla-spice-cake-344\n",
      "https://www.missmalini.com/2018/06/25/10-bakeries-in-mumbai-for-cakes-thatll-make-every-celebration-extra-special\n",
      "https://merakcakes.com/products/order-magic-premium-cake-online-near-me\n",
      "https://scientificallysweet.com/the-best-moist-chocolate-cake/\n"
     ]
    }
   ],
   "source": [
    "for i in cakes[0:10]:\n",
    "    print(i.get_attribute('href'))"
   ]
  },
  {
   "cell_type": "code",
   "execution_count": 19,
   "id": "6da23d2d",
   "metadata": {},
   "outputs": [],
   "source": [
    "search=driver.find_element(By.CLASS_NAME,\"og3lId\")\n",
    "search.send_keys(\"machine learning\")"
   ]
  },
  {
   "cell_type": "code",
   "execution_count": 20,
   "id": "8b4d03a6",
   "metadata": {},
   "outputs": [],
   "source": [
    "button=driver.find_element(By.CLASS_NAME,\"XZ5MVe\")\n",
    "button.click()"
   ]
  },
  {
   "cell_type": "code",
   "execution_count": 21,
   "id": "0ebafed4",
   "metadata": {},
   "outputs": [
    {
     "data": {
      "text/plain": [
       "[<selenium.webdriver.remote.webelement.WebElement (session=\"e0b54e5d0e274feab8450f311ba4da4c\", element=\"79EA7272D0C78DF936BB779C4DFAA1EF_element_3492\")>,\n",
       " <selenium.webdriver.remote.webelement.WebElement (session=\"e0b54e5d0e274feab8450f311ba4da4c\", element=\"79EA7272D0C78DF936BB779C4DFAA1EF_element_3496\")>,\n",
       " <selenium.webdriver.remote.webelement.WebElement (session=\"e0b54e5d0e274feab8450f311ba4da4c\", element=\"79EA7272D0C78DF936BB779C4DFAA1EF_element_3500\")>,\n",
       " <selenium.webdriver.remote.webelement.WebElement (session=\"e0b54e5d0e274feab8450f311ba4da4c\", element=\"79EA7272D0C78DF936BB779C4DFAA1EF_element_3504\")>,\n",
       " <selenium.webdriver.remote.webelement.WebElement (session=\"e0b54e5d0e274feab8450f311ba4da4c\", element=\"79EA7272D0C78DF936BB779C4DFAA1EF_element_3508\")>,\n",
       " <selenium.webdriver.remote.webelement.WebElement (session=\"e0b54e5d0e274feab8450f311ba4da4c\", element=\"79EA7272D0C78DF936BB779C4DFAA1EF_element_3512\")>,\n",
       " <selenium.webdriver.remote.webelement.WebElement (session=\"e0b54e5d0e274feab8450f311ba4da4c\", element=\"79EA7272D0C78DF936BB779C4DFAA1EF_element_3769\")>,\n",
       " <selenium.webdriver.remote.webelement.WebElement (session=\"e0b54e5d0e274feab8450f311ba4da4c\", element=\"79EA7272D0C78DF936BB779C4DFAA1EF_element_3770\")>,\n",
       " <selenium.webdriver.remote.webelement.WebElement (session=\"e0b54e5d0e274feab8450f311ba4da4c\", element=\"79EA7272D0C78DF936BB779C4DFAA1EF_element_3771\")>,\n",
       " <selenium.webdriver.remote.webelement.WebElement (session=\"e0b54e5d0e274feab8450f311ba4da4c\", element=\"79EA7272D0C78DF936BB779C4DFAA1EF_element_3772\")>]"
      ]
     },
     "execution_count": 21,
     "metadata": {},
     "output_type": "execute_result"
    }
   ],
   "source": [
    "machine_learning=driver.find_elements(By.XPATH,\"//a[@class='iGVLpd kGQAp BqKtob lNHeqe']\")\n",
    "machine_learning[0:10]"
   ]
  },
  {
   "cell_type": "code",
   "execution_count": 22,
   "id": "91927da6",
   "metadata": {},
   "outputs": [
    {
     "name": "stdout",
     "output_type": "stream",
     "text": [
      "https://www.fsm.ac.in/blog/an-introduction-to-machine-learning-its-importance-types-and-applications/\n",
      "https://towardsdatascience.com/introduction-to-machine-learning-for-beginners-eed6024fdb08\n",
      "https://builtin.com/machine-learning\n",
      "https://www.analyticsvidhya.com/blog/2021/03/everything-you-need-to-know-about-machine-learning/\n",
      "https://towardsdatascience.com/machine-learning-types-2-c1291d4f04b1\n",
      "https://www.udacity.com/course/machine-learning-for-engineers--ud262\n",
      "https://www.forbes.com/sites/kalevleetaru/2019/01/15/why-machine-learning-needs-semantics-not-just-statistics/\n",
      "https://levity.ai/blog/difference-machine-learning-deep-learning\n",
      "https://www.insiris.com/blog/machine-learning-in-the-real-world\n",
      "https://www.spiceworks.com/tech/artificial-intelligence/articles/what-is-ml/\n"
     ]
    }
   ],
   "source": [
    "for i in machine_learning[0:10]:\n",
    "    print(i.get_attribute(\"href\"))"
   ]
  },
  {
   "cell_type": "code",
   "execution_count": 23,
   "id": "d8b32624",
   "metadata": {},
   "outputs": [],
   "source": [
    "search=driver.find_element(By.CLASS_NAME,\"og3lId\")\n",
    "search.send_keys(\"cars\")"
   ]
  },
  {
   "cell_type": "code",
   "execution_count": 24,
   "id": "c8c46840",
   "metadata": {},
   "outputs": [],
   "source": [
    "button=driver.find_element(By.CLASS_NAME,\"XZ5MVe\")\n",
    "button.click()"
   ]
  },
  {
   "cell_type": "code",
   "execution_count": 25,
   "id": "4c84fa4d",
   "metadata": {},
   "outputs": [
    {
     "data": {
      "text/plain": [
       "[<selenium.webdriver.remote.webelement.WebElement (session=\"e0b54e5d0e274feab8450f311ba4da4c\", element=\"4B8D860DE8EC1FF3953C73C4F1C33864_element_4687\")>,\n",
       " <selenium.webdriver.remote.webelement.WebElement (session=\"e0b54e5d0e274feab8450f311ba4da4c\", element=\"4B8D860DE8EC1FF3953C73C4F1C33864_element_4697\")>,\n",
       " <selenium.webdriver.remote.webelement.WebElement (session=\"e0b54e5d0e274feab8450f311ba4da4c\", element=\"4B8D860DE8EC1FF3953C73C4F1C33864_element_4698\")>,\n",
       " <selenium.webdriver.remote.webelement.WebElement (session=\"e0b54e5d0e274feab8450f311ba4da4c\", element=\"4B8D860DE8EC1FF3953C73C4F1C33864_element_4699\")>,\n",
       " <selenium.webdriver.remote.webelement.WebElement (session=\"e0b54e5d0e274feab8450f311ba4da4c\", element=\"4B8D860DE8EC1FF3953C73C4F1C33864_element_4700\")>,\n",
       " <selenium.webdriver.remote.webelement.WebElement (session=\"e0b54e5d0e274feab8450f311ba4da4c\", element=\"4B8D860DE8EC1FF3953C73C4F1C33864_element_4701\")>,\n",
       " <selenium.webdriver.remote.webelement.WebElement (session=\"e0b54e5d0e274feab8450f311ba4da4c\", element=\"4B8D860DE8EC1FF3953C73C4F1C33864_element_4702\")>,\n",
       " <selenium.webdriver.remote.webelement.WebElement (session=\"e0b54e5d0e274feab8450f311ba4da4c\", element=\"4B8D860DE8EC1FF3953C73C4F1C33864_element_4703\")>,\n",
       " <selenium.webdriver.remote.webelement.WebElement (session=\"e0b54e5d0e274feab8450f311ba4da4c\", element=\"4B8D860DE8EC1FF3953C73C4F1C33864_element_4704\")>,\n",
       " <selenium.webdriver.remote.webelement.WebElement (session=\"e0b54e5d0e274feab8450f311ba4da4c\", element=\"4B8D860DE8EC1FF3953C73C4F1C33864_element_4705\")>]"
      ]
     },
     "execution_count": 25,
     "metadata": {},
     "output_type": "execute_result"
    }
   ],
   "source": [
    "cars=driver.find_elements(By.XPATH,\"//a[@class='iGVLpd kGQAp BqKtob lNHeqe']\")\n",
    "cars[0:10]"
   ]
  },
  {
   "cell_type": "code",
   "execution_count": 26,
   "id": "dd8557d8",
   "metadata": {},
   "outputs": [
    {
     "name": "stdout",
     "output_type": "stream",
     "text": [
      "https://www.forbes.com/sites/jimgorzelany/2019/07/23/here-are-the-coolest-new-cars-for-2020/\n",
      "https://www.carwale.com/mahindra-cars/scorpio/price-in-godda/\n",
      "https://www.motor1.com/features/453112/future-cars/\n",
      "https://www.carwow.co.uk/best/best-supercars\n",
      "https://www.architecturaldigest.com/gallery/cars-future-bentley-bugatti-lamborghini\n",
      "https://www.forbes.com/sites/kbrauer/2020/10/26/these-are-the-25-fastest-cars-in-the-world-in-2020/\n",
      "https://www.spinny.com/blog/index.php/types-of-cars-in-india/\n",
      "https://www.sixt.com/magazine/tips/top-10-fastest-cars-in-the-world/\n",
      "https://www.cardekho.com/new-hatchback+cars\n",
      "https://www.motor1.com/features/308149/most-expensive-new-cars-ever/\n"
     ]
    }
   ],
   "source": [
    "for i in cars[0:10]:\n",
    "    print(i.get_attribute('href'))"
   ]
  },
  {
   "cell_type": "code",
   "execution_count": 27,
   "id": "7cdf14f3",
   "metadata": {},
   "outputs": [],
   "source": [
    "search=driver.find_element(By.CLASS_NAME,\"og3lId\")\n",
    "search.send_keys(\"guitar\")"
   ]
  },
  {
   "cell_type": "code",
   "execution_count": 28,
   "id": "919fa936",
   "metadata": {},
   "outputs": [],
   "source": [
    "button=driver.find_element(By.CLASS_NAME,\"XZ5MVe\")\n",
    "button.click()"
   ]
  },
  {
   "cell_type": "code",
   "execution_count": 29,
   "id": "769db272",
   "metadata": {},
   "outputs": [
    {
     "data": {
      "text/plain": [
       "[<selenium.webdriver.remote.webelement.WebElement (session=\"e0b54e5d0e274feab8450f311ba4da4c\", element=\"B0FF67C91E7B9430761C42FD35996FD8_element_5892\")>,\n",
       " <selenium.webdriver.remote.webelement.WebElement (session=\"e0b54e5d0e274feab8450f311ba4da4c\", element=\"B0FF67C91E7B9430761C42FD35996FD8_element_5899\")>,\n",
       " <selenium.webdriver.remote.webelement.WebElement (session=\"e0b54e5d0e274feab8450f311ba4da4c\", element=\"B0FF67C91E7B9430761C42FD35996FD8_element_5900\")>,\n",
       " <selenium.webdriver.remote.webelement.WebElement (session=\"e0b54e5d0e274feab8450f311ba4da4c\", element=\"B0FF67C91E7B9430761C42FD35996FD8_element_5901\")>,\n",
       " <selenium.webdriver.remote.webelement.WebElement (session=\"e0b54e5d0e274feab8450f311ba4da4c\", element=\"B0FF67C91E7B9430761C42FD35996FD8_element_5902\")>,\n",
       " <selenium.webdriver.remote.webelement.WebElement (session=\"e0b54e5d0e274feab8450f311ba4da4c\", element=\"B0FF67C91E7B9430761C42FD35996FD8_element_5903\")>,\n",
       " <selenium.webdriver.remote.webelement.WebElement (session=\"e0b54e5d0e274feab8450f311ba4da4c\", element=\"B0FF67C91E7B9430761C42FD35996FD8_element_5904\")>,\n",
       " <selenium.webdriver.remote.webelement.WebElement (session=\"e0b54e5d0e274feab8450f311ba4da4c\", element=\"B0FF67C91E7B9430761C42FD35996FD8_element_5905\")>,\n",
       " <selenium.webdriver.remote.webelement.WebElement (session=\"e0b54e5d0e274feab8450f311ba4da4c\", element=\"B0FF67C91E7B9430761C42FD35996FD8_element_5906\")>,\n",
       " <selenium.webdriver.remote.webelement.WebElement (session=\"e0b54e5d0e274feab8450f311ba4da4c\", element=\"B0FF67C91E7B9430761C42FD35996FD8_element_5907\")>]"
      ]
     },
     "execution_count": 29,
     "metadata": {},
     "output_type": "execute_result"
    }
   ],
   "source": [
    "guitar=driver.find_elements(By.XPATH,\"//a[@class='iGVLpd kGQAp BqKtob lNHeqe']\")\n",
    "guitar[0:10]"
   ]
  },
  {
   "cell_type": "code",
   "execution_count": 31,
   "id": "ef38cb8f",
   "metadata": {},
   "outputs": [
    {
     "name": "stdout",
     "output_type": "stream",
     "text": [
      "https://yamahamusicstore.in/yamaha-fgc-ta-brown-sunburst-acoustic-guitar.html\n",
      "https://yamahamusicstore.in/pacifica112j-wa78360.html\n",
      "https://www.amazon.in/Westwood-GA-340C-Acoustic-Guitar-Natural/dp/B0BLNSHMTH\n",
      "https://www.musikshack.com/cordoba-c5-classical-guitar-natural.html\n",
      "https://www.amazon.in/Yamaha-F280-Acoustic-Guitar-Natural/dp/B08317Y4VP\n",
      "https://kadence.in/product/frontier-series-blue-acoustic-40-guitar-with-combo/\n",
      "https://www.amazon.in/Electric-Guitar-Interactive-Buttons-Dimple/dp/B00JLNU188\n",
      "https://en.wikipedia.org/wiki/Guitar\n",
      "https://www.britannica.com/art/guitar\n",
      "https://kadence.in/product/acoustic-guitar-with-bag-and-guitar-learning-course-a281/\n"
     ]
    }
   ],
   "source": [
    "for i in guitar[0:10]:\n",
    "    print(i.get_attribute(\"href\"))"
   ]
  },
  {
   "cell_type": "code",
   "execution_count": null,
   "id": "550bdf9e",
   "metadata": {},
   "outputs": [],
   "source": []
  },
  {
   "cell_type": "code",
   "execution_count": 33,
   "id": "15664e92",
   "metadata": {},
   "outputs": [],
   "source": [
    "driver.get(\"https://www.digit.in/\")"
   ]
  },
  {
   "cell_type": "code",
   "execution_count": 44,
   "id": "8059f576",
   "metadata": {},
   "outputs": [],
   "source": [
    "search=driver.find_element(By.XPATH,\"/html/body/div[5]/div/form/input[1]\")\n",
    "search.send_keys(\"gaming laptops\")"
   ]
  },
  {
   "cell_type": "code",
   "execution_count": 45,
   "id": "e6507d20",
   "metadata": {},
   "outputs": [],
   "source": [
    "button=driver.find_element(By.XPATH,\"/html/body/div[5]/div/form/button/i\")\n",
    "button.click()"
   ]
  },
  {
   "cell_type": "code",
   "execution_count": null,
   "id": "98d5fdad",
   "metadata": {},
   "outputs": [],
   "source": []
  },
  {
   "cell_type": "code",
   "execution_count": null,
   "id": "aaa64a9f",
   "metadata": {},
   "outputs": [],
   "source": []
  },
  {
   "cell_type": "code",
   "execution_count": null,
   "id": "093ac414",
   "metadata": {},
   "outputs": [],
   "source": []
  },
  {
   "cell_type": "code",
   "execution_count": null,
   "id": "12d9c262",
   "metadata": {},
   "outputs": [],
   "source": []
  },
  {
   "cell_type": "code",
   "execution_count": null,
   "id": "1bb81644",
   "metadata": {},
   "outputs": [],
   "source": []
  },
  {
   "cell_type": "code",
   "execution_count": null,
   "id": "7e138c99",
   "metadata": {},
   "outputs": [],
   "source": []
  },
  {
   "cell_type": "code",
   "execution_count": null,
   "id": "16677095",
   "metadata": {},
   "outputs": [],
   "source": []
  },
  {
   "cell_type": "code",
   "execution_count": null,
   "id": "42d1f9d7",
   "metadata": {},
   "outputs": [],
   "source": []
  },
  {
   "cell_type": "code",
   "execution_count": null,
   "id": "23c0de91",
   "metadata": {},
   "outputs": [],
   "source": []
  },
  {
   "cell_type": "code",
   "execution_count": null,
   "id": "200c64cf",
   "metadata": {},
   "outputs": [],
   "source": []
  },
  {
   "cell_type": "code",
   "execution_count": null,
   "id": "176ee418",
   "metadata": {},
   "outputs": [],
   "source": []
  },
  {
   "cell_type": "code",
   "execution_count": null,
   "id": "ab2c9d7c",
   "metadata": {},
   "outputs": [],
   "source": []
  },
  {
   "cell_type": "code",
   "execution_count": null,
   "id": "988b33b4",
   "metadata": {},
   "outputs": [],
   "source": []
  },
  {
   "cell_type": "code",
   "execution_count": null,
   "id": "83d3255b",
   "metadata": {},
   "outputs": [],
   "source": []
  },
  {
   "cell_type": "code",
   "execution_count": null,
   "id": "5f8cdca9",
   "metadata": {},
   "outputs": [],
   "source": []
  },
  {
   "cell_type": "code",
   "execution_count": null,
   "id": "4c7859fc",
   "metadata": {},
   "outputs": [],
   "source": []
  },
  {
   "cell_type": "code",
   "execution_count": null,
   "id": "b78c8f04",
   "metadata": {},
   "outputs": [],
   "source": []
  },
  {
   "cell_type": "code",
   "execution_count": null,
   "id": "9c426b55",
   "metadata": {},
   "outputs": [],
   "source": []
  },
  {
   "cell_type": "code",
   "execution_count": null,
   "id": "9718ecf3",
   "metadata": {},
   "outputs": [],
   "source": []
  },
  {
   "cell_type": "code",
   "execution_count": null,
   "id": "89b237ce",
   "metadata": {},
   "outputs": [],
   "source": []
  },
  {
   "cell_type": "code",
   "execution_count": null,
   "id": "c83af773",
   "metadata": {},
   "outputs": [],
   "source": []
  },
  {
   "cell_type": "code",
   "execution_count": null,
   "id": "2a0d31cc",
   "metadata": {},
   "outputs": [],
   "source": []
  },
  {
   "cell_type": "code",
   "execution_count": null,
   "id": "a1b690ff",
   "metadata": {},
   "outputs": [],
   "source": []
  },
  {
   "cell_type": "code",
   "execution_count": null,
   "id": "da170add",
   "metadata": {},
   "outputs": [],
   "source": []
  },
  {
   "cell_type": "code",
   "execution_count": 14,
   "id": "fa2ea5e5",
   "metadata": {},
   "outputs": [
    {
     "name": "stdout",
     "output_type": "stream",
     "text": [
      "140164534\n"
     ]
    }
   ],
   "source": [
    "print(len(rank))"
   ]
  },
  {
   "cell_type": "code",
   "execution_count": null,
   "id": "726ba1d1",
   "metadata": {},
   "outputs": [],
   "source": []
  },
  {
   "cell_type": "code",
   "execution_count": null,
   "id": "e2a1f14f",
   "metadata": {},
   "outputs": [],
   "source": []
  },
  {
   "cell_type": "code",
   "execution_count": null,
   "id": "58be254f",
   "metadata": {},
   "outputs": [],
   "source": []
  },
  {
   "cell_type": "code",
   "execution_count": null,
   "id": "1bee72b8",
   "metadata": {},
   "outputs": [],
   "source": []
  },
  {
   "cell_type": "code",
   "execution_count": null,
   "id": "f4f57ab4",
   "metadata": {},
   "outputs": [],
   "source": []
  },
  {
   "cell_type": "code",
   "execution_count": null,
   "id": "cfc111f9",
   "metadata": {},
   "outputs": [],
   "source": []
  },
  {
   "cell_type": "code",
   "execution_count": null,
   "id": "89a6e7b6",
   "metadata": {},
   "outputs": [],
   "source": []
  },
  {
   "cell_type": "code",
   "execution_count": null,
   "id": "9be47377",
   "metadata": {},
   "outputs": [],
   "source": []
  },
  {
   "cell_type": "code",
   "execution_count": null,
   "id": "ee8c5610",
   "metadata": {},
   "outputs": [],
   "source": []
  },
  {
   "cell_type": "code",
   "execution_count": null,
   "id": "9cf00389",
   "metadata": {},
   "outputs": [],
   "source": []
  },
  {
   "cell_type": "code",
   "execution_count": null,
   "id": "d83633eb",
   "metadata": {},
   "outputs": [],
   "source": []
  },
  {
   "cell_type": "code",
   "execution_count": null,
   "id": "5ed0875f",
   "metadata": {},
   "outputs": [],
   "source": []
  },
  {
   "cell_type": "code",
   "execution_count": null,
   "id": "30a955c3",
   "metadata": {},
   "outputs": [],
   "source": []
  },
  {
   "cell_type": "code",
   "execution_count": null,
   "id": "49f9e808",
   "metadata": {},
   "outputs": [],
   "source": []
  },
  {
   "cell_type": "code",
   "execution_count": null,
   "id": "88e6e137",
   "metadata": {},
   "outputs": [],
   "source": []
  },
  {
   "cell_type": "code",
   "execution_count": null,
   "id": "7b786cdf",
   "metadata": {},
   "outputs": [],
   "source": []
  },
  {
   "cell_type": "code",
   "execution_count": null,
   "id": "f1c47e02",
   "metadata": {},
   "outputs": [],
   "source": []
  },
  {
   "cell_type": "code",
   "execution_count": null,
   "id": "759928a2",
   "metadata": {},
   "outputs": [],
   "source": []
  },
  {
   "cell_type": "code",
   "execution_count": null,
   "id": "5c330146",
   "metadata": {},
   "outputs": [],
   "source": []
  },
  {
   "cell_type": "code",
   "execution_count": null,
   "id": "cd2d4679",
   "metadata": {},
   "outputs": [],
   "source": []
  },
  {
   "cell_type": "code",
   "execution_count": null,
   "id": "098bdfda",
   "metadata": {},
   "outputs": [],
   "source": []
  },
  {
   "cell_type": "code",
   "execution_count": null,
   "id": "e6f48524",
   "metadata": {},
   "outputs": [],
   "source": []
  },
  {
   "cell_type": "code",
   "execution_count": null,
   "id": "3346f5eb",
   "metadata": {},
   "outputs": [],
   "source": []
  },
  {
   "cell_type": "code",
   "execution_count": null,
   "id": "f4f3bc5e",
   "metadata": {},
   "outputs": [],
   "source": []
  },
  {
   "cell_type": "code",
   "execution_count": null,
   "id": "f7df77d1",
   "metadata": {},
   "outputs": [],
   "source": []
  },
  {
   "cell_type": "code",
   "execution_count": null,
   "id": "fc120130",
   "metadata": {},
   "outputs": [],
   "source": []
  },
  {
   "cell_type": "code",
   "execution_count": null,
   "id": "3c670657",
   "metadata": {},
   "outputs": [],
   "source": []
  },
  {
   "cell_type": "code",
   "execution_count": null,
   "id": "eaadd64b",
   "metadata": {},
   "outputs": [],
   "source": []
  },
  {
   "cell_type": "code",
   "execution_count": null,
   "id": "44f2718f",
   "metadata": {},
   "outputs": [],
   "source": []
  },
  {
   "cell_type": "code",
   "execution_count": null,
   "id": "e45346c6",
   "metadata": {},
   "outputs": [],
   "source": []
  },
  {
   "cell_type": "code",
   "execution_count": null,
   "id": "2439ee4c",
   "metadata": {},
   "outputs": [],
   "source": []
  },
  {
   "cell_type": "code",
   "execution_count": null,
   "id": "1fd1e43e",
   "metadata": {},
   "outputs": [],
   "source": []
  },
  {
   "cell_type": "code",
   "execution_count": null,
   "id": "b94a166b",
   "metadata": {},
   "outputs": [],
   "source": []
  },
  {
   "cell_type": "code",
   "execution_count": null,
   "id": "99c18d88",
   "metadata": {},
   "outputs": [],
   "source": []
  },
  {
   "cell_type": "code",
   "execution_count": null,
   "id": "60ac6b6b",
   "metadata": {},
   "outputs": [],
   "source": []
  },
  {
   "cell_type": "code",
   "execution_count": null,
   "id": "1d70b6ed",
   "metadata": {},
   "outputs": [],
   "source": []
  },
  {
   "cell_type": "code",
   "execution_count": null,
   "id": "76db4ec8",
   "metadata": {},
   "outputs": [],
   "source": []
  },
  {
   "cell_type": "code",
   "execution_count": null,
   "id": "61edaacd",
   "metadata": {},
   "outputs": [],
   "source": []
  },
  {
   "cell_type": "code",
   "execution_count": null,
   "id": "3a09c72c",
   "metadata": {},
   "outputs": [],
   "source": []
  },
  {
   "cell_type": "code",
   "execution_count": null,
   "id": "a94544f4",
   "metadata": {},
   "outputs": [],
   "source": []
  },
  {
   "cell_type": "code",
   "execution_count": null,
   "id": "4a09bb5e",
   "metadata": {},
   "outputs": [],
   "source": []
  },
  {
   "cell_type": "code",
   "execution_count": null,
   "id": "56d3b2d0",
   "metadata": {},
   "outputs": [],
   "source": []
  },
  {
   "cell_type": "code",
   "execution_count": null,
   "id": "91c032df",
   "metadata": {},
   "outputs": [],
   "source": []
  },
  {
   "cell_type": "code",
   "execution_count": null,
   "id": "ad8f881c",
   "metadata": {},
   "outputs": [],
   "source": []
  },
  {
   "cell_type": "code",
   "execution_count": null,
   "id": "c72fcc3b",
   "metadata": {},
   "outputs": [],
   "source": []
  },
  {
   "cell_type": "code",
   "execution_count": null,
   "id": "8aa50fc7",
   "metadata": {},
   "outputs": [],
   "source": []
  },
  {
   "cell_type": "code",
   "execution_count": null,
   "id": "dc434777",
   "metadata": {},
   "outputs": [],
   "source": []
  },
  {
   "cell_type": "code",
   "execution_count": null,
   "id": "c600153a",
   "metadata": {},
   "outputs": [],
   "source": []
  }
 ],
 "metadata": {
  "kernelspec": {
   "display_name": "Python 3 (ipykernel)",
   "language": "python",
   "name": "python3"
  },
  "language_info": {
   "codemirror_mode": {
    "name": "ipython",
    "version": 3
   },
   "file_extension": ".py",
   "mimetype": "text/x-python",
   "name": "python",
   "nbconvert_exporter": "python",
   "pygments_lexer": "ipython3",
   "version": "3.10.9"
  }
 },
 "nbformat": 4,
 "nbformat_minor": 5
}
