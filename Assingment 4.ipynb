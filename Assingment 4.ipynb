{
 "cells": [
  {
   "cell_type": "code",
   "execution_count": 1,
   "id": "10be7026",
   "metadata": {},
   "outputs": [
    {
     "name": "stdout",
     "output_type": "stream",
     "text": [
      "Requirement already satisfied: selenium in c:\\users\\admin\\anaconda3\\lib\\site-packages (4.17.2)\n",
      "Requirement already satisfied: trio~=0.17 in c:\\users\\admin\\anaconda3\\lib\\site-packages (from selenium) (0.24.0)\n",
      "Requirement already satisfied: urllib3[socks]<3,>=1.26 in c:\\users\\admin\\anaconda3\\lib\\site-packages (from selenium) (1.26.14)\n",
      "Requirement already satisfied: trio-websocket~=0.9 in c:\\users\\admin\\anaconda3\\lib\\site-packages (from selenium) (0.11.1)\n",
      "Requirement already satisfied: certifi>=2021.10.8 in c:\\users\\admin\\anaconda3\\lib\\site-packages (from selenium) (2022.12.7)\n",
      "Requirement already satisfied: typing_extensions>=4.9.0 in c:\\users\\admin\\anaconda3\\lib\\site-packages (from selenium) (4.9.0)\n",
      "Requirement already satisfied: idna in c:\\users\\admin\\anaconda3\\lib\\site-packages (from trio~=0.17->selenium) (3.4)\n",
      "Requirement already satisfied: sniffio>=1.3.0 in c:\\users\\admin\\anaconda3\\lib\\site-packages (from trio~=0.17->selenium) (1.3.0)\n",
      "Requirement already satisfied: exceptiongroup in c:\\users\\admin\\anaconda3\\lib\\site-packages (from trio~=0.17->selenium) (1.2.0)\n",
      "Requirement already satisfied: sortedcontainers in c:\\users\\admin\\anaconda3\\lib\\site-packages (from trio~=0.17->selenium) (2.4.0)\n",
      "Requirement already satisfied: outcome in c:\\users\\admin\\anaconda3\\lib\\site-packages (from trio~=0.17->selenium) (1.3.0.post0)\n",
      "Requirement already satisfied: cffi>=1.14 in c:\\users\\admin\\anaconda3\\lib\\site-packages (from trio~=0.17->selenium) (1.15.1)\n",
      "Requirement already satisfied: attrs>=20.1.0 in c:\\users\\admin\\anaconda3\\lib\\site-packages (from trio~=0.17->selenium) (22.1.0)\n",
      "Requirement already satisfied: wsproto>=0.14 in c:\\users\\admin\\anaconda3\\lib\\site-packages (from trio-websocket~=0.9->selenium) (1.2.0)\n",
      "Requirement already satisfied: PySocks!=1.5.7,<2.0,>=1.5.6 in c:\\users\\admin\\anaconda3\\lib\\site-packages (from urllib3[socks]<3,>=1.26->selenium) (1.7.1)\n",
      "Requirement already satisfied: pycparser in c:\\users\\admin\\anaconda3\\lib\\site-packages (from cffi>=1.14->trio~=0.17->selenium) (2.21)\n",
      "Requirement already satisfied: h11<1,>=0.9.0 in c:\\users\\admin\\anaconda3\\lib\\site-packages (from wsproto>=0.14->trio-websocket~=0.9->selenium) (0.14.0)\n"
     ]
    }
   ],
   "source": [
    "!pip install selenium"
   ]
  },
  {
   "cell_type": "code",
   "execution_count": 2,
   "id": "9638ec1f",
   "metadata": {},
   "outputs": [],
   "source": [
    "import selenium \n",
    "import pandas as pd\n",
    "from selenium import webdriver\n",
    "import warnings\n",
    "warnings.filterwarnings(\"ignore\")\n",
    "from selenium.webdriver.common.by import By\n",
    "import time \n",
    "import requests"
   ]
  },
  {
   "cell_type": "code",
   "execution_count": 3,
   "id": "32d3b158",
   "metadata": {},
   "outputs": [],
   "source": [
    "driver=webdriver.Chrome()"
   ]
  },
  {
   "cell_type": "markdown",
   "id": "29219ba5",
   "metadata": {},
   "source": [
    "Q:1"
   ]
  },
  {
   "cell_type": "code",
   "execution_count": 6,
   "id": "92fc7ec5",
   "metadata": {},
   "outputs": [],
   "source": [
    "driver.get(\"https://en.wikipedia.org/wiki/List_of_most-viewed_YouTube_videos\")"
   ]
  },
  {
   "cell_type": "code",
   "execution_count": 15,
   "id": "f186e9f1",
   "metadata": {},
   "outputs": [],
   "source": [
    "NAME_tags=[]\n",
    "artist_tags=[]\n",
    "upload_tags=[]\n",
    "views_tags=[]\n"
   ]
  },
  {
   "cell_type": "code",
   "execution_count": 21,
   "id": "8798995a",
   "metadata": {},
   "outputs": [],
   "source": [
    "name_title=driver.find_elements(By.XPATH,\"//table[@class='sortable wikitable sticky-header static-row-numbers col3center col4right jquery-tablesorter']/tbody//tr/td[1]\")\n",
    "\n",
    "for i in name_title:\n",
    "    name=i.text\n",
    "    NAME_tags.append(name)"
   ]
  },
  {
   "cell_type": "code",
   "execution_count": 23,
   "id": "6292e3fd",
   "metadata": {},
   "outputs": [],
   "source": [
    "artist_title=driver.find_elements(By.XPATH,\"//table[@class='sortable wikitable sticky-header static-row-numbers col3center col4right jquery-tablesorter']/tbody//tr/td[2]\")\n",
    "\n",
    "for i in artist_title:\n",
    "    artist=i.text\n",
    "    artist_tags.append(artist)"
   ]
  },
  {
   "cell_type": "code",
   "execution_count": 16,
   "id": "b50c659c",
   "metadata": {},
   "outputs": [],
   "source": [
    "views_title=driver.find_elements(By.XPATH,\"//table[@class='sortable wikitable sticky-header static-row-numbers col3center col4right jquery-tablesorter']/tbody//tr/td[3]\")\n",
    "\n",
    "for i in views_title:\n",
    "    views=i.text\n",
    "    views_tags.append(views)"
   ]
  },
  {
   "cell_type": "code",
   "execution_count": 17,
   "id": "af9249d8",
   "metadata": {},
   "outputs": [],
   "source": [
    "upload_title=driver.find_elements(By.XPATH,\"//table[@class='sortable wikitable sticky-header static-row-numbers col3center col4right jquery-tablesorter']/tbody//tr/td[4]\")\n",
    "\n",
    "for i in upload_title:\n",
    "    upload=i.text\n",
    "    upload_tags.append(upload)"
   ]
  },
  {
   "cell_type": "code",
   "execution_count": 24,
   "id": "31dde1a2",
   "metadata": {},
   "outputs": [
    {
     "name": "stdout",
     "output_type": "stream",
     "text": [
      "30 30 30 30\n"
     ]
    }
   ],
   "source": [
    "print(len(NAME_tags),len(artist_tags),len(upload_tags),len(views_tags))"
   ]
  },
  {
   "cell_type": "code",
   "execution_count": 26,
   "id": "2557dcd5",
   "metadata": {},
   "outputs": [],
   "source": [
    "df=pd.DataFrame({\"Name\":NAME_tags,\"Artist\":artist_tags,\"Views\":views_tags,\"Upload Date\":upload_tags})"
   ]
  },
  {
   "cell_type": "code",
   "execution_count": 27,
   "id": "7e442288",
   "metadata": {},
   "outputs": [
    {
     "data": {
      "text/html": [
       "<div>\n",
       "<style scoped>\n",
       "    .dataframe tbody tr th:only-of-type {\n",
       "        vertical-align: middle;\n",
       "    }\n",
       "\n",
       "    .dataframe tbody tr th {\n",
       "        vertical-align: top;\n",
       "    }\n",
       "\n",
       "    .dataframe thead th {\n",
       "        text-align: right;\n",
       "    }\n",
       "</style>\n",
       "<table border=\"1\" class=\"dataframe\">\n",
       "  <thead>\n",
       "    <tr style=\"text-align: right;\">\n",
       "      <th></th>\n",
       "      <th>Name</th>\n",
       "      <th>Artist</th>\n",
       "      <th>Views</th>\n",
       "      <th>Upload Date</th>\n",
       "    </tr>\n",
       "  </thead>\n",
       "  <tbody>\n",
       "    <tr>\n",
       "      <th>0</th>\n",
       "      <td>\"Baby Shark Dance\"[6]</td>\n",
       "      <td>Pinkfong Baby Shark - Kids' Songs &amp; Stories</td>\n",
       "      <td>14.09</td>\n",
       "      <td>June 17, 2016</td>\n",
       "    </tr>\n",
       "    <tr>\n",
       "      <th>1</th>\n",
       "      <td>\"Despacito\"[9]</td>\n",
       "      <td>Luis Fonsi</td>\n",
       "      <td>8.38</td>\n",
       "      <td>January 12, 2017</td>\n",
       "    </tr>\n",
       "    <tr>\n",
       "      <th>2</th>\n",
       "      <td>\"Johny Johny Yes Papa\"[17]</td>\n",
       "      <td>LooLoo Kids - Nursery Rhymes and Children's Songs</td>\n",
       "      <td>6.87</td>\n",
       "      <td>October 8, 2016</td>\n",
       "    </tr>\n",
       "    <tr>\n",
       "      <th>3</th>\n",
       "      <td>\"Bath Song\"[18]</td>\n",
       "      <td>Cocomelon - Nursery Rhymes</td>\n",
       "      <td>6.62</td>\n",
       "      <td>May 2, 2018</td>\n",
       "    </tr>\n",
       "    <tr>\n",
       "      <th>4</th>\n",
       "      <td>\"Shape of You\"[19]</td>\n",
       "      <td>Ed Sheeran</td>\n",
       "      <td>6.20</td>\n",
       "      <td>January 30, 2017</td>\n",
       "    </tr>\n",
       "    <tr>\n",
       "      <th>5</th>\n",
       "      <td>\"See You Again\"[22]</td>\n",
       "      <td>Wiz Khalifa</td>\n",
       "      <td>6.17</td>\n",
       "      <td>April 6, 2015</td>\n",
       "    </tr>\n",
       "    <tr>\n",
       "      <th>6</th>\n",
       "      <td>\"Wheels on the Bus\"[27]</td>\n",
       "      <td>Cocomelon - Nursery Rhymes</td>\n",
       "      <td>5.88</td>\n",
       "      <td>May 24, 2018</td>\n",
       "    </tr>\n",
       "    <tr>\n",
       "      <th>7</th>\n",
       "      <td>\"Phonics Song with Two Words\"[28]</td>\n",
       "      <td>ChuChu TV Nursery Rhymes &amp; Kids Songs</td>\n",
       "      <td>5.70</td>\n",
       "      <td>March 6, 2014</td>\n",
       "    </tr>\n",
       "    <tr>\n",
       "      <th>8</th>\n",
       "      <td>\"Uptown Funk\"[29]</td>\n",
       "      <td>Mark Ronson</td>\n",
       "      <td>5.15</td>\n",
       "      <td>November 19, 2014</td>\n",
       "    </tr>\n",
       "    <tr>\n",
       "      <th>9</th>\n",
       "      <td>\"Learning Colors – Colorful Eggs on a Farm\"[30]</td>\n",
       "      <td>Miroshka TV</td>\n",
       "      <td>5.07</td>\n",
       "      <td>February 27, 2018</td>\n",
       "    </tr>\n",
       "    <tr>\n",
       "      <th>10</th>\n",
       "      <td>\"Gangnam Style\"[31]</td>\n",
       "      <td>Psy</td>\n",
       "      <td>5.05</td>\n",
       "      <td>July 15, 2012</td>\n",
       "    </tr>\n",
       "    <tr>\n",
       "      <th>11</th>\n",
       "      <td>\"Masha and the Bear – Recipe for Disaster\"[36]</td>\n",
       "      <td>Get Movies</td>\n",
       "      <td>4.58</td>\n",
       "      <td>January 31, 2012</td>\n",
       "    </tr>\n",
       "    <tr>\n",
       "      <th>12</th>\n",
       "      <td>\"Dame Tu Cosita\"[37]</td>\n",
       "      <td>Ultra Records</td>\n",
       "      <td>4.55</td>\n",
       "      <td>April 5, 2018</td>\n",
       "    </tr>\n",
       "    <tr>\n",
       "      <th>13</th>\n",
       "      <td>\"Axel F\"[38]</td>\n",
       "      <td>Crazy Frog</td>\n",
       "      <td>4.34</td>\n",
       "      <td>June 16, 2009</td>\n",
       "    </tr>\n",
       "    <tr>\n",
       "      <th>14</th>\n",
       "      <td>\"Sugar\"[39]</td>\n",
       "      <td>Maroon 5</td>\n",
       "      <td>4.00</td>\n",
       "      <td>January 14, 2015</td>\n",
       "    </tr>\n",
       "    <tr>\n",
       "      <th>15</th>\n",
       "      <td>\"Counting Stars\"[40]</td>\n",
       "      <td>OneRepublic</td>\n",
       "      <td>3.97</td>\n",
       "      <td>May 31, 2013</td>\n",
       "    </tr>\n",
       "    <tr>\n",
       "      <th>16</th>\n",
       "      <td>\"Baa Baa Black Sheep\"[41]</td>\n",
       "      <td>Cocomelon - Nursery Rhymes</td>\n",
       "      <td>3.96</td>\n",
       "      <td>June 25, 2018</td>\n",
       "    </tr>\n",
       "    <tr>\n",
       "      <th>17</th>\n",
       "      <td>\"Roar\"[42]</td>\n",
       "      <td>Katy Perry</td>\n",
       "      <td>3.96</td>\n",
       "      <td>September 5, 2013</td>\n",
       "    </tr>\n",
       "    <tr>\n",
       "      <th>18</th>\n",
       "      <td>\"Lakdi Ki Kathi\"[43]</td>\n",
       "      <td>Jingle Toons</td>\n",
       "      <td>3.91</td>\n",
       "      <td>June 14, 2018</td>\n",
       "    </tr>\n",
       "    <tr>\n",
       "      <th>19</th>\n",
       "      <td>\"Waka Waka (This Time for Africa)\"[44]</td>\n",
       "      <td>Shakira</td>\n",
       "      <td>3.85</td>\n",
       "      <td>June 4, 2010</td>\n",
       "    </tr>\n",
       "    <tr>\n",
       "      <th>20</th>\n",
       "      <td>\"Sorry\"[45]</td>\n",
       "      <td>Justin Bieber</td>\n",
       "      <td>3.77</td>\n",
       "      <td>October 22, 2015</td>\n",
       "    </tr>\n",
       "    <tr>\n",
       "      <th>21</th>\n",
       "      <td>\"Thinking Out Loud\"[46]</td>\n",
       "      <td>Ed Sheeran</td>\n",
       "      <td>3.73</td>\n",
       "      <td>October 7, 2014</td>\n",
       "    </tr>\n",
       "    <tr>\n",
       "      <th>22</th>\n",
       "      <td>\"Humpty the train on a fruits ride\"[47]</td>\n",
       "      <td>Kiddiestv Hindi - Nursery Rhymes &amp; Kids Songs</td>\n",
       "      <td>3.73</td>\n",
       "      <td>January 26, 2018</td>\n",
       "    </tr>\n",
       "    <tr>\n",
       "      <th>23</th>\n",
       "      <td>\"Shree Hanuman Chalisa\"[48]</td>\n",
       "      <td>T-Series Bhakti Sagar</td>\n",
       "      <td>3.69</td>\n",
       "      <td>May 10, 2011</td>\n",
       "    </tr>\n",
       "    <tr>\n",
       "      <th>24</th>\n",
       "      <td>\"Dark Horse\"[49]</td>\n",
       "      <td>Katy Perry</td>\n",
       "      <td>3.67</td>\n",
       "      <td>February 20, 2014</td>\n",
       "    </tr>\n",
       "    <tr>\n",
       "      <th>25</th>\n",
       "      <td>\"Perfect\"[50]</td>\n",
       "      <td>Ed Sheeran</td>\n",
       "      <td>3.67</td>\n",
       "      <td>November 9, 2017</td>\n",
       "    </tr>\n",
       "    <tr>\n",
       "      <th>26</th>\n",
       "      <td>\"Let Her Go\"[51]</td>\n",
       "      <td>Passenger</td>\n",
       "      <td>3.61</td>\n",
       "      <td>July 25, 2012</td>\n",
       "    </tr>\n",
       "    <tr>\n",
       "      <th>27</th>\n",
       "      <td>\"Faded\"[52]</td>\n",
       "      <td>Alan Walker</td>\n",
       "      <td>3.59</td>\n",
       "      <td>December 3, 2015</td>\n",
       "    </tr>\n",
       "    <tr>\n",
       "      <th>28</th>\n",
       "      <td>\"Girls Like You\"[53]</td>\n",
       "      <td>Maroon 5</td>\n",
       "      <td>3.56</td>\n",
       "      <td>May 31, 2018</td>\n",
       "    </tr>\n",
       "    <tr>\n",
       "      <th>29</th>\n",
       "      <td>\"Lean On\"[54]</td>\n",
       "      <td>Major Lazer Official</td>\n",
       "      <td>3.55</td>\n",
       "      <td>March 22, 2015</td>\n",
       "    </tr>\n",
       "  </tbody>\n",
       "</table>\n",
       "</div>"
      ],
      "text/plain": [
       "                                               Name  \\\n",
       "0                             \"Baby Shark Dance\"[6]   \n",
       "1                                    \"Despacito\"[9]   \n",
       "2                        \"Johny Johny Yes Papa\"[17]   \n",
       "3                                   \"Bath Song\"[18]   \n",
       "4                                \"Shape of You\"[19]   \n",
       "5                               \"See You Again\"[22]   \n",
       "6                           \"Wheels on the Bus\"[27]   \n",
       "7                 \"Phonics Song with Two Words\"[28]   \n",
       "8                                 \"Uptown Funk\"[29]   \n",
       "9   \"Learning Colors – Colorful Eggs on a Farm\"[30]   \n",
       "10                              \"Gangnam Style\"[31]   \n",
       "11   \"Masha and the Bear – Recipe for Disaster\"[36]   \n",
       "12                             \"Dame Tu Cosita\"[37]   \n",
       "13                                     \"Axel F\"[38]   \n",
       "14                                      \"Sugar\"[39]   \n",
       "15                             \"Counting Stars\"[40]   \n",
       "16                        \"Baa Baa Black Sheep\"[41]   \n",
       "17                                       \"Roar\"[42]   \n",
       "18                             \"Lakdi Ki Kathi\"[43]   \n",
       "19           \"Waka Waka (This Time for Africa)\"[44]   \n",
       "20                                      \"Sorry\"[45]   \n",
       "21                          \"Thinking Out Loud\"[46]   \n",
       "22          \"Humpty the train on a fruits ride\"[47]   \n",
       "23                      \"Shree Hanuman Chalisa\"[48]   \n",
       "24                                 \"Dark Horse\"[49]   \n",
       "25                                    \"Perfect\"[50]   \n",
       "26                                 \"Let Her Go\"[51]   \n",
       "27                                      \"Faded\"[52]   \n",
       "28                             \"Girls Like You\"[53]   \n",
       "29                                    \"Lean On\"[54]   \n",
       "\n",
       "                                               Artist  Views  \\\n",
       "0         Pinkfong Baby Shark - Kids' Songs & Stories  14.09   \n",
       "1                                          Luis Fonsi   8.38   \n",
       "2   LooLoo Kids - Nursery Rhymes and Children's Songs   6.87   \n",
       "3                          Cocomelon - Nursery Rhymes   6.62   \n",
       "4                                          Ed Sheeran   6.20   \n",
       "5                                         Wiz Khalifa   6.17   \n",
       "6                          Cocomelon - Nursery Rhymes   5.88   \n",
       "7               ChuChu TV Nursery Rhymes & Kids Songs   5.70   \n",
       "8                                         Mark Ronson   5.15   \n",
       "9                                         Miroshka TV   5.07   \n",
       "10                                                Psy   5.05   \n",
       "11                                         Get Movies   4.58   \n",
       "12                                      Ultra Records   4.55   \n",
       "13                                         Crazy Frog   4.34   \n",
       "14                                           Maroon 5   4.00   \n",
       "15                                        OneRepublic   3.97   \n",
       "16                         Cocomelon - Nursery Rhymes   3.96   \n",
       "17                                         Katy Perry   3.96   \n",
       "18                                       Jingle Toons   3.91   \n",
       "19                                            Shakira   3.85   \n",
       "20                                      Justin Bieber   3.77   \n",
       "21                                         Ed Sheeran   3.73   \n",
       "22      Kiddiestv Hindi - Nursery Rhymes & Kids Songs   3.73   \n",
       "23                              T-Series Bhakti Sagar   3.69   \n",
       "24                                         Katy Perry   3.67   \n",
       "25                                         Ed Sheeran   3.67   \n",
       "26                                          Passenger   3.61   \n",
       "27                                        Alan Walker   3.59   \n",
       "28                                           Maroon 5   3.56   \n",
       "29                               Major Lazer Official   3.55   \n",
       "\n",
       "          Upload Date  \n",
       "0       June 17, 2016  \n",
       "1    January 12, 2017  \n",
       "2     October 8, 2016  \n",
       "3         May 2, 2018  \n",
       "4    January 30, 2017  \n",
       "5       April 6, 2015  \n",
       "6        May 24, 2018  \n",
       "7       March 6, 2014  \n",
       "8   November 19, 2014  \n",
       "9   February 27, 2018  \n",
       "10      July 15, 2012  \n",
       "11   January 31, 2012  \n",
       "12      April 5, 2018  \n",
       "13      June 16, 2009  \n",
       "14   January 14, 2015  \n",
       "15       May 31, 2013  \n",
       "16      June 25, 2018  \n",
       "17  September 5, 2013  \n",
       "18      June 14, 2018  \n",
       "19       June 4, 2010  \n",
       "20   October 22, 2015  \n",
       "21    October 7, 2014  \n",
       "22   January 26, 2018  \n",
       "23       May 10, 2011  \n",
       "24  February 20, 2014  \n",
       "25   November 9, 2017  \n",
       "26      July 25, 2012  \n",
       "27   December 3, 2015  \n",
       "28       May 31, 2018  \n",
       "29     March 22, 2015  "
      ]
     },
     "execution_count": 27,
     "metadata": {},
     "output_type": "execute_result"
    }
   ],
   "source": [
    "df"
   ]
  },
  {
   "cell_type": "markdown",
   "id": "a9cf212b",
   "metadata": {},
   "source": [
    "Q:2"
   ]
  },
  {
   "cell_type": "code",
   "execution_count": 61,
   "id": "f114612c",
   "metadata": {},
   "outputs": [],
   "source": [
    "driver.get(\"http://www.bcci.tv/\")"
   ]
  },
  {
   "cell_type": "code",
   "execution_count": 62,
   "id": "d0703942",
   "metadata": {},
   "outputs": [],
   "source": [
    "search=driver.find_element(By.XPATH,\"/html/body/header/div[3]/div[2]/ul/div[1]/a[2]\")\n",
    "search.click()"
   ]
  },
  {
   "cell_type": "code",
   "execution_count": 63,
   "id": "98b44384",
   "metadata": {},
   "outputs": [],
   "source": [
    "Series_tags=[]\n",
    "Place_tags=[] \n",
    "Date_tags=[] \n",
    "Time_tags=[]"
   ]
  },
  {
   "cell_type": "code",
   "execution_count": 64,
   "id": "2ce75698",
   "metadata": {},
   "outputs": [],
   "source": [
    "series_title=driver.find_elements(By.XPATH,\"//div[@class='tags-wrap']/span[1]\")\n",
    "for i in series_title:\n",
    "    series=i.text\n",
    "    Series_tags.append(series)"
   ]
  },
  {
   "cell_type": "code",
   "execution_count": 66,
   "id": "bbb6c3d3",
   "metadata": {},
   "outputs": [],
   "source": [
    "place_title=driver.find_elements(By.XPATH,\"//div[@class='match-place ng-scope']/span[1]\")\n",
    "\n",
    "for i in place_title:\n",
    "    place=i.text\n",
    "    Place_tags.append(place)"
   ]
  },
  {
   "cell_type": "code",
   "execution_count": 69,
   "id": "71cdbc2e",
   "metadata": {},
   "outputs": [],
   "source": [
    "date_title=driver.find_elements(By.XPATH,\"//div[@class='match-date-info']/div[1]\")\n",
    "\n",
    "for i in date_title:\n",
    "    date=i.text\n",
    "    Date_tags.append(date)"
   ]
  },
  {
   "cell_type": "code",
   "execution_count": 70,
   "id": "fdf74f23",
   "metadata": {},
   "outputs": [],
   "source": [
    "time_title=driver.find_elements(By.XPATH,\"//div[@class='match-date-info']/div[2]\")\n",
    "\n",
    "for i in time_title:\n",
    "    time=i.text\n",
    "    Time_tags.append(time)"
   ]
  },
  {
   "cell_type": "code",
   "execution_count": 71,
   "id": "7e4a0c62",
   "metadata": {},
   "outputs": [
    {
     "name": "stdout",
     "output_type": "stream",
     "text": [
      "7 7 7 7\n"
     ]
    }
   ],
   "source": [
    "print(len(Series_tags),len(Place_tags),len(Date_tags),len(Time_tags))"
   ]
  },
  {
   "cell_type": "code",
   "execution_count": 72,
   "id": "379341ca",
   "metadata": {},
   "outputs": [],
   "source": [
    "df=pd.DataFrame({\"Series\":Series_tags,\"Place\":Place_tags,\"Date\":Date_tags,\"Time\":Time_tags})"
   ]
  },
  {
   "cell_type": "code",
   "execution_count": 73,
   "id": "e60905cc",
   "metadata": {},
   "outputs": [
    {
     "data": {
      "text/html": [
       "<div>\n",
       "<style scoped>\n",
       "    .dataframe tbody tr th:only-of-type {\n",
       "        vertical-align: middle;\n",
       "    }\n",
       "\n",
       "    .dataframe tbody tr th {\n",
       "        vertical-align: top;\n",
       "    }\n",
       "\n",
       "    .dataframe thead th {\n",
       "        text-align: right;\n",
       "    }\n",
       "</style>\n",
       "<table border=\"1\" class=\"dataframe\">\n",
       "  <thead>\n",
       "    <tr style=\"text-align: right;\">\n",
       "      <th></th>\n",
       "      <th>Series</th>\n",
       "      <th>Place</th>\n",
       "      <th>Date</th>\n",
       "      <th>Time</th>\n",
       "    </tr>\n",
       "  </thead>\n",
       "  <tbody>\n",
       "    <tr>\n",
       "      <th>0</th>\n",
       "      <td>4th Test</td>\n",
       "      <td>JSCA International Stadium Complex,</td>\n",
       "      <td>23 FEBRUARY, 2024</td>\n",
       "      <td>9:30 AM IST</td>\n",
       "    </tr>\n",
       "    <tr>\n",
       "      <th>1</th>\n",
       "      <td>5th Test</td>\n",
       "      <td>Himachal Pradesh Cricket Association Stadium,</td>\n",
       "      <td>7 MARCH, 2024</td>\n",
       "      <td>9:30 AM IST</td>\n",
       "    </tr>\n",
       "    <tr>\n",
       "      <th>2</th>\n",
       "      <td>1st T20I</td>\n",
       "      <td>Harare Sports Club,</td>\n",
       "      <td>6 JULY, 2024</td>\n",
       "      <td>8:00 PM IST</td>\n",
       "    </tr>\n",
       "    <tr>\n",
       "      <th>3</th>\n",
       "      <td>2nd T20I</td>\n",
       "      <td>Harare Sports Club,</td>\n",
       "      <td>7 JULY, 2024</td>\n",
       "      <td>8:00 PM IST</td>\n",
       "    </tr>\n",
       "    <tr>\n",
       "      <th>4</th>\n",
       "      <td>3rd T20I</td>\n",
       "      <td>Harare Sports Club,</td>\n",
       "      <td>10 JULY, 2024</td>\n",
       "      <td>8:00 PM IST</td>\n",
       "    </tr>\n",
       "    <tr>\n",
       "      <th>5</th>\n",
       "      <td>4th T20I</td>\n",
       "      <td>Harare Sports Club,</td>\n",
       "      <td>13 JULY, 2024</td>\n",
       "      <td>8:00 PM IST</td>\n",
       "    </tr>\n",
       "    <tr>\n",
       "      <th>6</th>\n",
       "      <td>5th T20I</td>\n",
       "      <td>Harare Sports Club,</td>\n",
       "      <td>14 JULY, 2024</td>\n",
       "      <td>8:00 PM IST</td>\n",
       "    </tr>\n",
       "  </tbody>\n",
       "</table>\n",
       "</div>"
      ],
      "text/plain": [
       "     Series                                          Place               Date  \\\n",
       "0  4th Test            JSCA International Stadium Complex,  23 FEBRUARY, 2024   \n",
       "1  5th Test  Himachal Pradesh Cricket Association Stadium,      7 MARCH, 2024   \n",
       "2  1st T20I                            Harare Sports Club,       6 JULY, 2024   \n",
       "3  2nd T20I                            Harare Sports Club,       7 JULY, 2024   \n",
       "4  3rd T20I                            Harare Sports Club,      10 JULY, 2024   \n",
       "5  4th T20I                            Harare Sports Club,      13 JULY, 2024   \n",
       "6  5th T20I                            Harare Sports Club,      14 JULY, 2024   \n",
       "\n",
       "          Time  \n",
       "0  9:30 AM IST  \n",
       "1  9:30 AM IST  \n",
       "2  8:00 PM IST  \n",
       "3  8:00 PM IST  \n",
       "4  8:00 PM IST  \n",
       "5  8:00 PM IST  \n",
       "6  8:00 PM IST  "
      ]
     },
     "execution_count": 73,
     "metadata": {},
     "output_type": "execute_result"
    }
   ],
   "source": [
    "df"
   ]
  },
  {
   "cell_type": "markdown",
   "id": "23278a52",
   "metadata": {},
   "source": [
    "Q:3"
   ]
  },
  {
   "cell_type": "code",
   "execution_count": 11,
   "id": "e5dc3d49",
   "metadata": {},
   "outputs": [],
   "source": [
    "driver.get(\"http://statisticstimes.com/\")"
   ]
  },
  {
   "cell_type": "code",
   "execution_count": 12,
   "id": "c46f606d",
   "metadata": {},
   "outputs": [],
   "source": [
    "State_tags=[] \n",
    "GSDP_tags=[] \n",
    "GSDP_tags=[]\n",
    "Share_tags=[] \n",
    "GDPbillion_tags=[]"
   ]
  },
  {
   "cell_type": "code",
   "execution_count": 6,
   "id": "2781becf",
   "metadata": {},
   "outputs": [],
   "source": [
    "search=driver.find_element(By.XPATH,\"/html/body/div[2]/div[1]/div[2]/div[2]/button\")\n",
    "search.click()\n"
   ]
  },
  {
   "cell_type": "code",
   "execution_count": 13,
   "id": "f259f845",
   "metadata": {},
   "outputs": [],
   "source": [
    "product_urls=[]\n",
    "start=0\n",
    "end=1\n",
    "\n",
    "for page in range(start,end):\n",
    "    url=driver.find_elements(By.XPATH,\"//div[@class='dropdown-content']/a[3]\")\n",
    "    for i in url:\n",
    "        product_urls.append(i.get_attribute(\"href\"))\n",
    "    "
   ]
  },
  {
   "cell_type": "code",
   "execution_count": 14,
   "id": "811147e8",
   "metadata": {},
   "outputs": [
    {
     "data": {
      "text/plain": [
       "2"
      ]
     },
     "execution_count": 14,
     "metadata": {},
     "output_type": "execute_result"
    }
   ],
   "source": [
    "len(product_urls)"
   ]
  },
  {
   "cell_type": "code",
   "execution_count": 20,
   "id": "214dd920",
   "metadata": {},
   "outputs": [],
   "source": [
    "for url in product_urls:\n",
    "    driver.get(url)\n",
    "    time.sleep(10)"
   ]
  },
  {
   "cell_type": "code",
   "execution_count": 24,
   "id": "bd5f3080",
   "metadata": {},
   "outputs": [],
   "source": [
    "state_title=driver.find_elements(By.XPATH,\"//table[@class='display dataTable']//tbody//tr/td[2]\")\n",
    "\n",
    "for i in gdp_title:\n",
    "    state=i.text\n",
    "    State_tags.append(state)"
   ]
  },
  {
   "cell_type": "code",
   "execution_count": null,
   "id": "eee64fe8",
   "metadata": {},
   "outputs": [],
   "source": []
  },
  {
   "cell_type": "code",
   "execution_count": null,
   "id": "44b4f7d4",
   "metadata": {},
   "outputs": [],
   "source": []
  },
  {
   "cell_type": "code",
   "execution_count": null,
   "id": "d8b24d32",
   "metadata": {},
   "outputs": [],
   "source": []
  },
  {
   "cell_type": "code",
   "execution_count": null,
   "id": "6663a029",
   "metadata": {},
   "outputs": [],
   "source": []
  },
  {
   "cell_type": "markdown",
   "id": "6cbe3d26",
   "metadata": {},
   "source": [
    "Q:5"
   ]
  },
  {
   "cell_type": "code",
   "execution_count": 10,
   "id": "24498ec7",
   "metadata": {},
   "outputs": [],
   "source": [
    "driver.get(\"https://www.billboard.com/\")"
   ]
  },
  {
   "cell_type": "code",
   "execution_count": 13,
   "id": "c1e6d12a",
   "metadata": {},
   "outputs": [],
   "source": [
    "Song_tags=[]\n",
    "Artist_tags=[]\n",
    "LWR_tags=[] \n",
    "PR_tags=[]\n",
    "Weeksonboard_tags=[] "
   ]
  },
  {
   "cell_type": "code",
   "execution_count": null,
   "id": "a4290632",
   "metadata": {},
   "outputs": [],
   "source": []
  },
  {
   "cell_type": "code",
   "execution_count": 11,
   "id": "b9352134",
   "metadata": {},
   "outputs": [],
   "source": [
    "search=driver.find_element(By.XPATH,\"/html/body/div[3]/div[9]/div/div/div/ul/li[1]/h3/a\")\n",
    "search.click()"
   ]
  },
  {
   "cell_type": "code",
   "execution_count": 12,
   "id": "f3d8e848",
   "metadata": {},
   "outputs": [],
   "source": [
    "search_x=driver.find_element(By.XPATH,\"/html/body/div[3]/main/div[2]/div[1]/div[1]/div/div/div[1]/div\")\n",
    "search_x.click()"
   ]
  },
  {
   "cell_type": "code",
   "execution_count": 14,
   "id": "ba8fd2f1",
   "metadata": {},
   "outputs": [],
   "source": [
    "song_title=driver.find_elements(By.XPATH,\"//li[@class='lrv-u-width-100p']//li/h3\")\n",
    "\n",
    "for i in song_title:\n",
    "    song=i.text\n",
    "    Song_tags.append(song)"
   ]
  },
  {
   "cell_type": "markdown",
   "id": "29f0dad0",
   "metadata": {},
   "source": [
    "Q:6"
   ]
  },
  {
   "cell_type": "code",
   "execution_count": 4,
   "id": "ee715267",
   "metadata": {},
   "outputs": [],
   "source": [
    "driver.get(\"https://www.theguardian.com/news/datablog/2012/aug/09/best-selling-books-all-time-fifty-shades-grey-compare\")"
   ]
  },
  {
   "cell_type": "code",
   "execution_count": 5,
   "id": "d2d696f6",
   "metadata": {},
   "outputs": [],
   "source": [
    "book_tags=[]\n",
    "author_tags=[]\n",
    "volumes_tags=[]\n",
    "publisher_tags=[]\n",
    "genre_tags=[]"
   ]
  },
  {
   "cell_type": "code",
   "execution_count": 7,
   "id": "a622eb69",
   "metadata": {},
   "outputs": [],
   "source": [
    "book_title=driver.find_elements(By.XPATH,\"//tbody//tr/td[2][@class='left']\")\n",
    "\n",
    "for i in book_title:\n",
    "    book=i.text\n",
    "    book_tags.append(book)"
   ]
  },
  {
   "cell_type": "code",
   "execution_count": 9,
   "id": "1d6bde2d",
   "metadata": {},
   "outputs": [],
   "source": [
    "author_title=driver.find_elements(By.XPATH,\"//tbody//tr/td[3][@class='left']\")\n",
    "\n",
    "for i in author_title:\n",
    "    author=i.text\n",
    "    author_tags.append(author)"
   ]
  },
  {
   "cell_type": "code",
   "execution_count": 11,
   "id": "9d89496d",
   "metadata": {},
   "outputs": [],
   "source": [
    "volumes_title=driver.find_elements(By.XPATH,\"//tbody//tr/td[4][@class='left']\")\n",
    "\n",
    "for i in volumes_title:\n",
    "    volumes=i.text\n",
    "    volumes_tags.append(volumes)"
   ]
  },
  {
   "cell_type": "code",
   "execution_count": 13,
   "id": "a38eec4d",
   "metadata": {},
   "outputs": [],
   "source": [
    "publisher_title=driver.find_elements(By.XPATH,\"//tbody//tr/td[5][@class='left']\")\n",
    "\n",
    "for i in publisher_title:\n",
    "    publisher=i.text\n",
    "    publisher_tags.append(publisher)"
   ]
  },
  {
   "cell_type": "code",
   "execution_count": 14,
   "id": "0e3318aa",
   "metadata": {},
   "outputs": [],
   "source": [
    "genre_title=driver.find_elements(By.XPATH,\"//tbody//tr/td[6][@class='last left']\")\n",
    "\n",
    "for i in genre_title:\n",
    "    genre=i.text\n",
    "    genre_tags.append(genre)"
   ]
  },
  {
   "cell_type": "code",
   "execution_count": 16,
   "id": "5e67778c",
   "metadata": {},
   "outputs": [],
   "source": [
    "df=pd.DataFrame({\"Book Name\":book_tags,\"Author Name\":author_tags,\"Volumes Sold\":volumes_tags,\"Publisher\":publisher_tags,\"Genre\":genre_tags})"
   ]
  },
  {
   "cell_type": "code",
   "execution_count": 17,
   "id": "29312555",
   "metadata": {},
   "outputs": [
    {
     "data": {
      "text/html": [
       "<div>\n",
       "<style scoped>\n",
       "    .dataframe tbody tr th:only-of-type {\n",
       "        vertical-align: middle;\n",
       "    }\n",
       "\n",
       "    .dataframe tbody tr th {\n",
       "        vertical-align: top;\n",
       "    }\n",
       "\n",
       "    .dataframe thead th {\n",
       "        text-align: right;\n",
       "    }\n",
       "</style>\n",
       "<table border=\"1\" class=\"dataframe\">\n",
       "  <thead>\n",
       "    <tr style=\"text-align: right;\">\n",
       "      <th></th>\n",
       "      <th>Book Name</th>\n",
       "      <th>Author Name</th>\n",
       "      <th>Volumes Sold</th>\n",
       "      <th>Publisher</th>\n",
       "      <th>Genre</th>\n",
       "    </tr>\n",
       "  </thead>\n",
       "  <tbody>\n",
       "    <tr>\n",
       "      <th>0</th>\n",
       "      <td>Da Vinci Code,The</td>\n",
       "      <td>Brown, Dan</td>\n",
       "      <td>5,094,805</td>\n",
       "      <td>Transworld</td>\n",
       "      <td>Crime, Thriller &amp; Adventure</td>\n",
       "    </tr>\n",
       "    <tr>\n",
       "      <th>1</th>\n",
       "      <td>Harry Potter and the Deathly Hallows</td>\n",
       "      <td>Rowling, J.K.</td>\n",
       "      <td>4,475,152</td>\n",
       "      <td>Bloomsbury</td>\n",
       "      <td>Children's Fiction</td>\n",
       "    </tr>\n",
       "    <tr>\n",
       "      <th>2</th>\n",
       "      <td>Harry Potter and the Philosopher's Stone</td>\n",
       "      <td>Rowling, J.K.</td>\n",
       "      <td>4,200,654</td>\n",
       "      <td>Bloomsbury</td>\n",
       "      <td>Children's Fiction</td>\n",
       "    </tr>\n",
       "    <tr>\n",
       "      <th>3</th>\n",
       "      <td>Harry Potter and the Order of the Phoenix</td>\n",
       "      <td>Rowling, J.K.</td>\n",
       "      <td>4,179,479</td>\n",
       "      <td>Bloomsbury</td>\n",
       "      <td>Children's Fiction</td>\n",
       "    </tr>\n",
       "    <tr>\n",
       "      <th>4</th>\n",
       "      <td>Fifty Shades of Grey</td>\n",
       "      <td>James, E. L.</td>\n",
       "      <td>3,758,936</td>\n",
       "      <td>Random House</td>\n",
       "      <td>Romance &amp; Sagas</td>\n",
       "    </tr>\n",
       "    <tr>\n",
       "      <th>...</th>\n",
       "      <td>...</td>\n",
       "      <td>...</td>\n",
       "      <td>...</td>\n",
       "      <td>...</td>\n",
       "      <td>...</td>\n",
       "    </tr>\n",
       "    <tr>\n",
       "      <th>95</th>\n",
       "      <td>Ghost,The</td>\n",
       "      <td>Harris, Robert</td>\n",
       "      <td>807,311</td>\n",
       "      <td>Random House</td>\n",
       "      <td>General &amp; Literary Fiction</td>\n",
       "    </tr>\n",
       "    <tr>\n",
       "      <th>96</th>\n",
       "      <td>Happy Days with the Naked Chef</td>\n",
       "      <td>Oliver, Jamie</td>\n",
       "      <td>794,201</td>\n",
       "      <td>Penguin</td>\n",
       "      <td>Food &amp; Drink: General</td>\n",
       "    </tr>\n",
       "    <tr>\n",
       "      <th>97</th>\n",
       "      <td>Hunger Games,The:Hunger Games Trilogy</td>\n",
       "      <td>Collins, Suzanne</td>\n",
       "      <td>792,187</td>\n",
       "      <td>Scholastic Ltd.</td>\n",
       "      <td>Young Adult Fiction</td>\n",
       "    </tr>\n",
       "    <tr>\n",
       "      <th>98</th>\n",
       "      <td>Lost Boy,The:A Foster Child's Search for the L...</td>\n",
       "      <td>Pelzer, Dave</td>\n",
       "      <td>791,507</td>\n",
       "      <td>Orion</td>\n",
       "      <td>Biography: General</td>\n",
       "    </tr>\n",
       "    <tr>\n",
       "      <th>99</th>\n",
       "      <td>Jamie's Ministry of Food:Anyone Can Learn to C...</td>\n",
       "      <td>Oliver, Jamie</td>\n",
       "      <td>791,095</td>\n",
       "      <td>Penguin</td>\n",
       "      <td>Food &amp; Drink: General</td>\n",
       "    </tr>\n",
       "  </tbody>\n",
       "</table>\n",
       "<p>100 rows × 5 columns</p>\n",
       "</div>"
      ],
      "text/plain": [
       "                                            Book Name       Author Name  \\\n",
       "0                                   Da Vinci Code,The        Brown, Dan   \n",
       "1                Harry Potter and the Deathly Hallows     Rowling, J.K.   \n",
       "2            Harry Potter and the Philosopher's Stone     Rowling, J.K.   \n",
       "3           Harry Potter and the Order of the Phoenix     Rowling, J.K.   \n",
       "4                                Fifty Shades of Grey      James, E. L.   \n",
       "..                                                ...               ...   \n",
       "95                                          Ghost,The    Harris, Robert   \n",
       "96                     Happy Days with the Naked Chef     Oliver, Jamie   \n",
       "97              Hunger Games,The:Hunger Games Trilogy  Collins, Suzanne   \n",
       "98  Lost Boy,The:A Foster Child's Search for the L...      Pelzer, Dave   \n",
       "99  Jamie's Ministry of Food:Anyone Can Learn to C...     Oliver, Jamie   \n",
       "\n",
       "   Volumes Sold        Publisher                        Genre  \n",
       "0     5,094,805       Transworld  Crime, Thriller & Adventure  \n",
       "1     4,475,152       Bloomsbury           Children's Fiction  \n",
       "2     4,200,654       Bloomsbury           Children's Fiction  \n",
       "3     4,179,479       Bloomsbury           Children's Fiction  \n",
       "4     3,758,936     Random House              Romance & Sagas  \n",
       "..          ...              ...                          ...  \n",
       "95      807,311     Random House   General & Literary Fiction  \n",
       "96      794,201          Penguin        Food & Drink: General  \n",
       "97      792,187  Scholastic Ltd.          Young Adult Fiction  \n",
       "98      791,507            Orion           Biography: General  \n",
       "99      791,095          Penguin        Food & Drink: General  \n",
       "\n",
       "[100 rows x 5 columns]"
      ]
     },
     "execution_count": 17,
     "metadata": {},
     "output_type": "execute_result"
    }
   ],
   "source": [
    "df"
   ]
  },
  {
   "cell_type": "code",
   "execution_count": 93,
   "id": "3de40ebe",
   "metadata": {},
   "outputs": [
    {
     "data": {
      "text/plain": [
       "2"
      ]
     },
     "execution_count": 93,
     "metadata": {},
     "output_type": "execute_result"
    }
   ],
   "source": [
    "len(product_urls)"
   ]
  },
  {
   "cell_type": "markdown",
   "id": "6892b194",
   "metadata": {},
   "source": [
    "Q:8"
   ]
  },
  {
   "cell_type": "code",
   "execution_count": 4,
   "id": "e04c9678",
   "metadata": {},
   "outputs": [],
   "source": [
    "driver.get(\"https://archive.ics.uci.edu/\")"
   ]
  },
  {
   "cell_type": "code",
   "execution_count": 9,
   "id": "24000e0f",
   "metadata": {},
   "outputs": [],
   "source": [
    "product_urls=[]\n",
    "start=0\n",
    "end=1\n",
    "\n",
    "for page in range(start,end):\n",
    "    url=driver.find_elements(By.XPATH,\"//ul[1][@class='menu menu-horizontal']/li[1]/a[1]\")\n",
    "    for i in url:\n",
    "        product_urls.append(i.get_attribute(\"href\"))"
   ]
  },
  {
   "cell_type": "code",
   "execution_count": 10,
   "id": "58c49b5f",
   "metadata": {},
   "outputs": [
    {
     "data": {
      "text/plain": [
       "1"
      ]
     },
     "execution_count": 10,
     "metadata": {},
     "output_type": "execute_result"
    }
   ],
   "source": [
    "len(product_urls)"
   ]
  },
  {
   "cell_type": "code",
   "execution_count": 11,
   "id": "974c2dc7",
   "metadata": {},
   "outputs": [],
   "source": [
    "for url in product_urls:\n",
    "    driver.get(url)\n",
    "    time.sleep(10)"
   ]
  },
  {
   "cell_type": "code",
   "execution_count": 42,
   "id": "c686e099",
   "metadata": {},
   "outputs": [],
   "source": [
    "dataset_tags=[]\n",
    "datatype_tags=[]\n",
    "task_tags=[]\n",
    "attribute_tags=[]\n",
    "instances_no_tags=[]\n",
    "attributes_no_tags=[]\n",
    "year_tags=[]"
   ]
  },
  {
   "cell_type": "code",
   "execution_count": 43,
   "id": "29de41ac",
   "metadata": {},
   "outputs": [],
   "source": [
    "dataset_title=driver.find_elements(By.XPATH,\"//h2[@class='truncate text-primary']\")\n",
    "\n",
    "for i in dataset_title:\n",
    "    dataset=i.text\n",
    "    dataset_tags.append(dataset)"
   ]
  },
  {
   "cell_type": "code",
   "execution_count": 44,
   "id": "aa2f780c",
   "metadata": {},
   "outputs": [],
   "source": [
    "datatype_title=driver.find_elements(By.XPATH,\"//div[1][@class='my-2 hidden gap-4 md:grid grid-cols-12']//div[2]/span\")\n",
    "for i in datatype_title:\n",
    "    datatype=i.text\n",
    "    datatype_tags.append(datatype)"
   ]
  },
  {
   "cell_type": "code",
   "execution_count": 45,
   "id": "83c157e8",
   "metadata": {},
   "outputs": [],
   "source": [
    "task_title=driver.find_elements(By.XPATH,\"//div[1][@class='my-2 hidden gap-4 md:grid grid-cols-12']//div[1]/span\")\n",
    "\n",
    "for i in task_title:\n",
    "    task=i.text\n",
    "    task_tags.append(task)"
   ]
  },
  {
   "cell_type": "code",
   "execution_count": 46,
   "id": "3303f42c",
   "metadata": {},
   "outputs": [],
   "source": [
    "attribute_title=driver.find_elements(By.XPATH,\"//tbody[@class='border']//tr/td[2]\")\n",
    "\n",
    "for i in attribute_title:\n",
    "    attribute=i.text\n",
    "    attribute_tags.append(attribute)"
   ]
  },
  {
   "cell_type": "code",
   "execution_count": 47,
   "id": "4bf29b67",
   "metadata": {},
   "outputs": [],
   "source": [
    "year_title=driver.find_elements(By.XPATH,\"//tbody[@class='border']//tr/td[3]\")\n",
    "\n",
    "for i in year_title:\n",
    "    year=i.text\n",
    "    year_tags.append(year)"
   ]
  },
  {
   "cell_type": "code",
   "execution_count": 48,
   "id": "ec859da8",
   "metadata": {},
   "outputs": [],
   "source": [
    "instances_no_title=driver.find_elements(By.XPATH,\"//div[1][@class='my-2 hidden gap-4 md:grid grid-cols-12']//div[3]/span\")\n",
    "\n",
    "for i in instances_no_title:\n",
    "    instances=i.text\n",
    "    instances_no_tags.append(instances)"
   ]
  },
  {
   "cell_type": "code",
   "execution_count": 49,
   "id": "0a2497af",
   "metadata": {},
   "outputs": [],
   "source": [
    "attribute_no_title=driver.find_elements(By.XPATH,\"//div[1][@class='my-2 hidden gap-4 md:grid grid-cols-12']//div[4]/span\")\n",
    "\n",
    "for i in attribute_no_title:\n",
    "    attribute=i.text\n",
    "    attributes_no_tags.append(attribute)"
   ]
  },
  {
   "cell_type": "code",
   "execution_count": 53,
   "id": "0272d695",
   "metadata": {},
   "outputs": [
    {
     "name": "stdout",
     "output_type": "stream",
     "text": [
      "10 10 10 10 10 10 10\n"
     ]
    }
   ],
   "source": [
    "print(len(dataset_tags),len(datatype_tags),len(task_tags),len(attribute_tags),len(instances_no_tags),len(attributes_no_tags),len(year_tags))"
   ]
  },
  {
   "cell_type": "code",
   "execution_count": 55,
   "id": "cec017e8",
   "metadata": {},
   "outputs": [],
   "source": [
    "df=pd.DataFrame({\"DataSet Name\":dataset_tags,\"Data Type\":datatype_tags,\"Task\":task_tags,\"Attribute Type\":attribute_tags,\"No of Instances\":instances_no_tags,\"No of Attributes\":attributes_no_tags,\"Year\":year_tags})"
   ]
  },
  {
   "cell_type": "code",
   "execution_count": 56,
   "id": "b9c8cbc7",
   "metadata": {},
   "outputs": [
    {
     "data": {
      "text/html": [
       "<div>\n",
       "<style scoped>\n",
       "    .dataframe tbody tr th:only-of-type {\n",
       "        vertical-align: middle;\n",
       "    }\n",
       "\n",
       "    .dataframe tbody tr th {\n",
       "        vertical-align: top;\n",
       "    }\n",
       "\n",
       "    .dataframe thead th {\n",
       "        text-align: right;\n",
       "    }\n",
       "</style>\n",
       "<table border=\"1\" class=\"dataframe\">\n",
       "  <thead>\n",
       "    <tr style=\"text-align: right;\">\n",
       "      <th></th>\n",
       "      <th>DataSet Name</th>\n",
       "      <th>Data Type</th>\n",
       "      <th>Task</th>\n",
       "      <th>Attribute Type</th>\n",
       "      <th>No of Instances</th>\n",
       "      <th>No of Attributes</th>\n",
       "      <th>Year</th>\n",
       "    </tr>\n",
       "  </thead>\n",
       "  <tbody>\n",
       "    <tr>\n",
       "      <th>0</th>\n",
       "      <td>Iris</td>\n",
       "      <td>Tabular</td>\n",
       "      <td>Classification</td>\n",
       "      <td>Real</td>\n",
       "      <td>150 Instances</td>\n",
       "      <td>4 Features</td>\n",
       "      <td>7/1/1988</td>\n",
       "    </tr>\n",
       "    <tr>\n",
       "      <th>1</th>\n",
       "      <td>Dry Bean Dataset</td>\n",
       "      <td>Multivariate</td>\n",
       "      <td>Classification</td>\n",
       "      <td>Integer, Real</td>\n",
       "      <td>13.61K Instances</td>\n",
       "      <td>16 Features</td>\n",
       "      <td>9/14/2020</td>\n",
       "    </tr>\n",
       "    <tr>\n",
       "      <th>2</th>\n",
       "      <td>Heart Disease</td>\n",
       "      <td>Multivariate</td>\n",
       "      <td>Classification</td>\n",
       "      <td>Categorical, Integer, Real</td>\n",
       "      <td>303 Instances</td>\n",
       "      <td>13 Features</td>\n",
       "      <td>7/1/1988</td>\n",
       "    </tr>\n",
       "    <tr>\n",
       "      <th>3</th>\n",
       "      <td>Rice (Cammeo and Osmancik)</td>\n",
       "      <td>Multivariate</td>\n",
       "      <td>Classification</td>\n",
       "      <td>Real</td>\n",
       "      <td>3.81K Instances</td>\n",
       "      <td>7 Features</td>\n",
       "      <td>10/6/2019</td>\n",
       "    </tr>\n",
       "    <tr>\n",
       "      <th>4</th>\n",
       "      <td>Adult</td>\n",
       "      <td>Multivariate</td>\n",
       "      <td>Classification</td>\n",
       "      <td>Categorical, Integer</td>\n",
       "      <td>48.84K Instances</td>\n",
       "      <td>14 Features</td>\n",
       "      <td>5/1/1996</td>\n",
       "    </tr>\n",
       "    <tr>\n",
       "      <th>5</th>\n",
       "      <td>Raisin</td>\n",
       "      <td>Multivariate</td>\n",
       "      <td>Classification</td>\n",
       "      <td>Real, Integer</td>\n",
       "      <td>900 Instances</td>\n",
       "      <td>8 Features</td>\n",
       "      <td>8/14/2023</td>\n",
       "    </tr>\n",
       "    <tr>\n",
       "      <th>6</th>\n",
       "      <td>Breast Cancer Wisconsin (Diagnostic)</td>\n",
       "      <td>Multivariate</td>\n",
       "      <td>Classification</td>\n",
       "      <td>Real</td>\n",
       "      <td>569 Instances</td>\n",
       "      <td>30 Features</td>\n",
       "      <td>11/1/1995</td>\n",
       "    </tr>\n",
       "    <tr>\n",
       "      <th>7</th>\n",
       "      <td>Wine</td>\n",
       "      <td>Tabular</td>\n",
       "      <td>Classification</td>\n",
       "      <td>Integer, Real</td>\n",
       "      <td>178 Instances</td>\n",
       "      <td>13 Features</td>\n",
       "      <td>7/1/1991</td>\n",
       "    </tr>\n",
       "    <tr>\n",
       "      <th>8</th>\n",
       "      <td>Wine Quality</td>\n",
       "      <td>Multivariate</td>\n",
       "      <td>Classification, Regression</td>\n",
       "      <td>Real</td>\n",
       "      <td>4.9K Instances</td>\n",
       "      <td>12 Features</td>\n",
       "      <td>10/7/2009</td>\n",
       "    </tr>\n",
       "    <tr>\n",
       "      <th>9</th>\n",
       "      <td>Diabetes</td>\n",
       "      <td>Multivariate, Time-Series</td>\n",
       "      <td>Classification</td>\n",
       "      <td>Categorical, Integer</td>\n",
       "      <td>1 Instances</td>\n",
       "      <td>20 Features</td>\n",
       "      <td>N/A</td>\n",
       "    </tr>\n",
       "  </tbody>\n",
       "</table>\n",
       "</div>"
      ],
      "text/plain": [
       "                           DataSet Name                  Data Type  \\\n",
       "0                                  Iris                    Tabular   \n",
       "1                      Dry Bean Dataset               Multivariate   \n",
       "2                         Heart Disease               Multivariate   \n",
       "3            Rice (Cammeo and Osmancik)               Multivariate   \n",
       "4                                 Adult               Multivariate   \n",
       "5                                Raisin               Multivariate   \n",
       "6  Breast Cancer Wisconsin (Diagnostic)               Multivariate   \n",
       "7                                  Wine                    Tabular   \n",
       "8                          Wine Quality               Multivariate   \n",
       "9                              Diabetes  Multivariate, Time-Series   \n",
       "\n",
       "                         Task              Attribute Type   No of Instances  \\\n",
       "0              Classification                        Real     150 Instances   \n",
       "1              Classification               Integer, Real  13.61K Instances   \n",
       "2              Classification  Categorical, Integer, Real     303 Instances   \n",
       "3              Classification                        Real   3.81K Instances   \n",
       "4              Classification        Categorical, Integer  48.84K Instances   \n",
       "5              Classification               Real, Integer     900 Instances   \n",
       "6              Classification                        Real     569 Instances   \n",
       "7              Classification               Integer, Real     178 Instances   \n",
       "8  Classification, Regression                        Real    4.9K Instances   \n",
       "9              Classification        Categorical, Integer       1 Instances   \n",
       "\n",
       "  No of Attributes       Year  \n",
       "0       4 Features   7/1/1988  \n",
       "1      16 Features  9/14/2020  \n",
       "2      13 Features   7/1/1988  \n",
       "3       7 Features  10/6/2019  \n",
       "4      14 Features   5/1/1996  \n",
       "5       8 Features  8/14/2023  \n",
       "6      30 Features  11/1/1995  \n",
       "7      13 Features   7/1/1991  \n",
       "8      12 Features  10/7/2009  \n",
       "9      20 Features        N/A  "
      ]
     },
     "execution_count": 56,
     "metadata": {},
     "output_type": "execute_result"
    }
   ],
   "source": [
    "df"
   ]
  },
  {
   "cell_type": "code",
   "execution_count": null,
   "id": "a99d61dc",
   "metadata": {},
   "outputs": [],
   "source": []
  },
  {
   "cell_type": "code",
   "execution_count": null,
   "id": "22f45b06",
   "metadata": {},
   "outputs": [],
   "source": []
  },
  {
   "cell_type": "code",
   "execution_count": null,
   "id": "8e7dff25",
   "metadata": {},
   "outputs": [],
   "source": []
  },
  {
   "cell_type": "code",
   "execution_count": null,
   "id": "21971fa6",
   "metadata": {},
   "outputs": [],
   "source": []
  },
  {
   "cell_type": "code",
   "execution_count": null,
   "id": "13b4871a",
   "metadata": {},
   "outputs": [],
   "source": []
  },
  {
   "cell_type": "code",
   "execution_count": null,
   "id": "b01309db",
   "metadata": {},
   "outputs": [],
   "source": []
  },
  {
   "cell_type": "code",
   "execution_count": null,
   "id": "0f09a443",
   "metadata": {},
   "outputs": [],
   "source": []
  },
  {
   "cell_type": "code",
   "execution_count": null,
   "id": "c97c74da",
   "metadata": {},
   "outputs": [],
   "source": []
  },
  {
   "cell_type": "code",
   "execution_count": null,
   "id": "33eee7ab",
   "metadata": {},
   "outputs": [],
   "source": []
  }
 ],
 "metadata": {
  "kernelspec": {
   "display_name": "Python 3 (ipykernel)",
   "language": "python",
   "name": "python3"
  },
  "language_info": {
   "codemirror_mode": {
    "name": "ipython",
    "version": 3
   },
   "file_extension": ".py",
   "mimetype": "text/x-python",
   "name": "python",
   "nbconvert_exporter": "python",
   "pygments_lexer": "ipython3",
   "version": "3.10.9"
  }
 },
 "nbformat": 4,
 "nbformat_minor": 5
}
