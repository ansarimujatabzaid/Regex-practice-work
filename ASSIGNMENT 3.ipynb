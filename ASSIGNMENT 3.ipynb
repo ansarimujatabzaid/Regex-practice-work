{
 "cells": [
  {
   "cell_type": "code",
   "execution_count": 1,
   "id": "623135c0",
   "metadata": {},
   "outputs": [
    {
     "name": "stdout",
     "output_type": "stream",
     "text": [
      "Requirement already satisfied: selenium in c:\\users\\admin\\anaconda3\\lib\\site-packages (4.17.2)\n",
      "Requirement already satisfied: trio~=0.17 in c:\\users\\admin\\anaconda3\\lib\\site-packages (from selenium) (0.24.0)\n",
      "Requirement already satisfied: certifi>=2021.10.8 in c:\\users\\admin\\anaconda3\\lib\\site-packages (from selenium) (2022.12.7)\n",
      "Requirement already satisfied: typing_extensions>=4.9.0 in c:\\users\\admin\\anaconda3\\lib\\site-packages (from selenium) (4.9.0)\n",
      "Requirement already satisfied: urllib3[socks]<3,>=1.26 in c:\\users\\admin\\anaconda3\\lib\\site-packages (from selenium) (1.26.14)\n",
      "Requirement already satisfied: trio-websocket~=0.9 in c:\\users\\admin\\anaconda3\\lib\\site-packages (from selenium) (0.11.1)\n",
      "Requirement already satisfied: cffi>=1.14 in c:\\users\\admin\\anaconda3\\lib\\site-packages (from trio~=0.17->selenium) (1.15.1)\n",
      "Requirement already satisfied: sortedcontainers in c:\\users\\admin\\anaconda3\\lib\\site-packages (from trio~=0.17->selenium) (2.4.0)\n",
      "Requirement already satisfied: outcome in c:\\users\\admin\\anaconda3\\lib\\site-packages (from trio~=0.17->selenium) (1.3.0.post0)\n",
      "Requirement already satisfied: exceptiongroup in c:\\users\\admin\\anaconda3\\lib\\site-packages (from trio~=0.17->selenium) (1.2.0)\n",
      "Requirement already satisfied: attrs>=20.1.0 in c:\\users\\admin\\anaconda3\\lib\\site-packages (from trio~=0.17->selenium) (22.1.0)\n",
      "Requirement already satisfied: sniffio>=1.3.0 in c:\\users\\admin\\anaconda3\\lib\\site-packages (from trio~=0.17->selenium) (1.3.0)\n",
      "Requirement already satisfied: idna in c:\\users\\admin\\anaconda3\\lib\\site-packages (from trio~=0.17->selenium) (3.4)\n",
      "Requirement already satisfied: wsproto>=0.14 in c:\\users\\admin\\anaconda3\\lib\\site-packages (from trio-websocket~=0.9->selenium) (1.2.0)\n",
      "Requirement already satisfied: PySocks!=1.5.7,<2.0,>=1.5.6 in c:\\users\\admin\\anaconda3\\lib\\site-packages (from urllib3[socks]<3,>=1.26->selenium) (1.7.1)\n",
      "Requirement already satisfied: pycparser in c:\\users\\admin\\anaconda3\\lib\\site-packages (from cffi>=1.14->trio~=0.17->selenium) (2.21)\n",
      "Requirement already satisfied: h11<1,>=0.9.0 in c:\\users\\admin\\anaconda3\\lib\\site-packages (from wsproto>=0.14->trio-websocket~=0.9->selenium) (0.14.0)\n"
     ]
    }
   ],
   "source": [
    "!pip install selenium "
   ]
  },
  {
   "cell_type": "code",
   "execution_count": 2,
   "id": "c3d958f5",
   "metadata": {},
   "outputs": [],
   "source": [
    "import selenium \n",
    "import pandas as pd\n",
    "from selenium import webdriver\n",
    "import warnings\n",
    "warnings.filterwarnings(\"ignore\")\n",
    "from selenium.webdriver.common.by import By\n",
    "import time \n",
    "import requests"
   ]
  },
  {
   "cell_type": "code",
   "execution_count": 3,
   "id": "295e7521",
   "metadata": {},
   "outputs": [],
   "source": [
    "driver=webdriver.Chrome()"
   ]
  },
  {
   "cell_type": "code",
   "execution_count": 4,
   "id": "6752b525",
   "metadata": {},
   "outputs": [],
   "source": [
    "driver.get(\"http://www.amazon.in/\")"
   ]
  },
  {
   "cell_type": "code",
   "execution_count": 6,
   "id": "6a21d045",
   "metadata": {},
   "outputs": [
    {
     "name": "stdout",
     "output_type": "stream",
     "text": [
      "enter a word  guitar\n"
     ]
    }
   ],
   "source": [
    "search=driver.find_element(By.XPATH,\"/html/body/div[1]/header/div/div[1]/div[2]/div/form/div[2]/div[1]/input\")\n",
    "search.send_keys(input(\"enter a word  \"))"
   ]
  },
  {
   "cell_type": "code",
   "execution_count": 7,
   "id": "1c0fea8b",
   "metadata": {},
   "outputs": [],
   "source": [
    "button=driver.find_element(By.XPATH,\"/html/body/div[1]/header/div/div[1]/div[2]/div/form/div[3]/div/span/input\")\n",
    "button.click()\n"
   ]
  },
  {
   "cell_type": "code",
   "execution_count": 8,
   "id": "1c0e0fce",
   "metadata": {},
   "outputs": [],
   "source": [
    "time.sleep(3)"
   ]
  },
  {
   "cell_type": "code",
   "execution_count": 9,
   "id": "f3b82853",
   "metadata": {},
   "outputs": [],
   "source": [
    "product_urls=[]\n",
    "start=0\n",
    "end=3\n",
    "\n",
    "for page in range(start,end):\n",
    "    url=driver.find_elements(By.XPATH,\"//a[@class='a-link-normal s-no-outline']\")\n",
    "    for i in url:\n",
    "        product_urls.append(i.get_attribute(\"href\"))\n",
    "    next_button=driver.find_elements(By.XPATH,\"//a[@class='s-pagination-item s-pagination-next s-pagination-button s-pagination-separator']\")\n",
    "    time.sleep(2)"
   ]
  },
  {
   "cell_type": "code",
   "execution_count": 11,
   "id": "0810930a",
   "metadata": {},
   "outputs": [
    {
     "name": "stdout",
     "output_type": "stream",
     "text": [
      "201\n"
     ]
    }
   ],
   "source": [
    "print(len(product_urls))"
   ]
  },
  {
   "cell_type": "code",
   "execution_count": null,
   "id": "13b51159",
   "metadata": {},
   "outputs": [],
   "source": []
  },
  {
   "cell_type": "code",
   "execution_count": 12,
   "id": "df88c2fe",
   "metadata": {},
   "outputs": [],
   "source": [
    "brand=[]"
   ]
  },
  {
   "cell_type": "code",
   "execution_count": 13,
   "id": "a78652ea",
   "metadata": {},
   "outputs": [
    {
     "ename": "ProtocolError",
     "evalue": "('Connection aborted.', ConnectionResetError(10054, 'An existing connection was forcibly closed by the remote host', None, 10054, None))",
     "output_type": "error",
     "traceback": [
      "\u001b[1;31m---------------------------------------------------------------------------\u001b[0m",
      "\u001b[1;31mConnectionResetError\u001b[0m                      Traceback (most recent call last)",
      "File \u001b[1;32m~\\anaconda3\\lib\\site-packages\\urllib3\\connectionpool.py:703\u001b[0m, in \u001b[0;36mHTTPConnectionPool.urlopen\u001b[1;34m(self, method, url, body, headers, retries, redirect, assert_same_host, timeout, pool_timeout, release_conn, chunked, body_pos, **response_kw)\u001b[0m\n\u001b[0;32m    702\u001b[0m \u001b[38;5;66;03m# Make the request on the httplib connection object.\u001b[39;00m\n\u001b[1;32m--> 703\u001b[0m httplib_response \u001b[38;5;241m=\u001b[39m \u001b[38;5;28;43mself\u001b[39;49m\u001b[38;5;241;43m.\u001b[39;49m\u001b[43m_make_request\u001b[49m\u001b[43m(\u001b[49m\n\u001b[0;32m    704\u001b[0m \u001b[43m    \u001b[49m\u001b[43mconn\u001b[49m\u001b[43m,\u001b[49m\n\u001b[0;32m    705\u001b[0m \u001b[43m    \u001b[49m\u001b[43mmethod\u001b[49m\u001b[43m,\u001b[49m\n\u001b[0;32m    706\u001b[0m \u001b[43m    \u001b[49m\u001b[43murl\u001b[49m\u001b[43m,\u001b[49m\n\u001b[0;32m    707\u001b[0m \u001b[43m    \u001b[49m\u001b[43mtimeout\u001b[49m\u001b[38;5;241;43m=\u001b[39;49m\u001b[43mtimeout_obj\u001b[49m\u001b[43m,\u001b[49m\n\u001b[0;32m    708\u001b[0m \u001b[43m    \u001b[49m\u001b[43mbody\u001b[49m\u001b[38;5;241;43m=\u001b[39;49m\u001b[43mbody\u001b[49m\u001b[43m,\u001b[49m\n\u001b[0;32m    709\u001b[0m \u001b[43m    \u001b[49m\u001b[43mheaders\u001b[49m\u001b[38;5;241;43m=\u001b[39;49m\u001b[43mheaders\u001b[49m\u001b[43m,\u001b[49m\n\u001b[0;32m    710\u001b[0m \u001b[43m    \u001b[49m\u001b[43mchunked\u001b[49m\u001b[38;5;241;43m=\u001b[39;49m\u001b[43mchunked\u001b[49m\u001b[43m,\u001b[49m\n\u001b[0;32m    711\u001b[0m \u001b[43m\u001b[49m\u001b[43m)\u001b[49m\n\u001b[0;32m    713\u001b[0m \u001b[38;5;66;03m# If we're going to release the connection in ``finally:``, then\u001b[39;00m\n\u001b[0;32m    714\u001b[0m \u001b[38;5;66;03m# the response doesn't need to know about the connection. Otherwise\u001b[39;00m\n\u001b[0;32m    715\u001b[0m \u001b[38;5;66;03m# it will also try to release it and we'll have a double-release\u001b[39;00m\n\u001b[0;32m    716\u001b[0m \u001b[38;5;66;03m# mess.\u001b[39;00m\n",
      "File \u001b[1;32m~\\anaconda3\\lib\\site-packages\\urllib3\\connectionpool.py:449\u001b[0m, in \u001b[0;36mHTTPConnectionPool._make_request\u001b[1;34m(self, conn, method, url, timeout, chunked, **httplib_request_kw)\u001b[0m\n\u001b[0;32m    445\u001b[0m         \u001b[38;5;28;01mexcept\u001b[39;00m \u001b[38;5;167;01mBaseException\u001b[39;00m \u001b[38;5;28;01mas\u001b[39;00m e:\n\u001b[0;32m    446\u001b[0m             \u001b[38;5;66;03m# Remove the TypeError from the exception chain in\u001b[39;00m\n\u001b[0;32m    447\u001b[0m             \u001b[38;5;66;03m# Python 3 (including for exceptions like SystemExit).\u001b[39;00m\n\u001b[0;32m    448\u001b[0m             \u001b[38;5;66;03m# Otherwise it looks like a bug in the code.\u001b[39;00m\n\u001b[1;32m--> 449\u001b[0m             \u001b[43msix\u001b[49m\u001b[38;5;241;43m.\u001b[39;49m\u001b[43mraise_from\u001b[49m\u001b[43m(\u001b[49m\u001b[43me\u001b[49m\u001b[43m,\u001b[49m\u001b[43m \u001b[49m\u001b[38;5;28;43;01mNone\u001b[39;49;00m\u001b[43m)\u001b[49m\n\u001b[0;32m    450\u001b[0m \u001b[38;5;28;01mexcept\u001b[39;00m (SocketTimeout, BaseSSLError, SocketError) \u001b[38;5;28;01mas\u001b[39;00m e:\n",
      "File \u001b[1;32m<string>:3\u001b[0m, in \u001b[0;36mraise_from\u001b[1;34m(value, from_value)\u001b[0m\n",
      "File \u001b[1;32m~\\anaconda3\\lib\\site-packages\\urllib3\\connectionpool.py:444\u001b[0m, in \u001b[0;36mHTTPConnectionPool._make_request\u001b[1;34m(self, conn, method, url, timeout, chunked, **httplib_request_kw)\u001b[0m\n\u001b[0;32m    443\u001b[0m \u001b[38;5;28;01mtry\u001b[39;00m:\n\u001b[1;32m--> 444\u001b[0m     httplib_response \u001b[38;5;241m=\u001b[39m \u001b[43mconn\u001b[49m\u001b[38;5;241;43m.\u001b[39;49m\u001b[43mgetresponse\u001b[49m\u001b[43m(\u001b[49m\u001b[43m)\u001b[49m\n\u001b[0;32m    445\u001b[0m \u001b[38;5;28;01mexcept\u001b[39;00m \u001b[38;5;167;01mBaseException\u001b[39;00m \u001b[38;5;28;01mas\u001b[39;00m e:\n\u001b[0;32m    446\u001b[0m     \u001b[38;5;66;03m# Remove the TypeError from the exception chain in\u001b[39;00m\n\u001b[0;32m    447\u001b[0m     \u001b[38;5;66;03m# Python 3 (including for exceptions like SystemExit).\u001b[39;00m\n\u001b[0;32m    448\u001b[0m     \u001b[38;5;66;03m# Otherwise it looks like a bug in the code.\u001b[39;00m\n",
      "File \u001b[1;32m~\\anaconda3\\lib\\http\\client.py:1374\u001b[0m, in \u001b[0;36mHTTPConnection.getresponse\u001b[1;34m(self)\u001b[0m\n\u001b[0;32m   1373\u001b[0m \u001b[38;5;28;01mtry\u001b[39;00m:\n\u001b[1;32m-> 1374\u001b[0m     \u001b[43mresponse\u001b[49m\u001b[38;5;241;43m.\u001b[39;49m\u001b[43mbegin\u001b[49m\u001b[43m(\u001b[49m\u001b[43m)\u001b[49m\n\u001b[0;32m   1375\u001b[0m \u001b[38;5;28;01mexcept\u001b[39;00m \u001b[38;5;167;01mConnectionError\u001b[39;00m:\n",
      "File \u001b[1;32m~\\anaconda3\\lib\\http\\client.py:318\u001b[0m, in \u001b[0;36mHTTPResponse.begin\u001b[1;34m(self)\u001b[0m\n\u001b[0;32m    317\u001b[0m \u001b[38;5;28;01mwhile\u001b[39;00m \u001b[38;5;28;01mTrue\u001b[39;00m:\n\u001b[1;32m--> 318\u001b[0m     version, status, reason \u001b[38;5;241m=\u001b[39m \u001b[38;5;28;43mself\u001b[39;49m\u001b[38;5;241;43m.\u001b[39;49m\u001b[43m_read_status\u001b[49m\u001b[43m(\u001b[49m\u001b[43m)\u001b[49m\n\u001b[0;32m    319\u001b[0m     \u001b[38;5;28;01mif\u001b[39;00m status \u001b[38;5;241m!=\u001b[39m CONTINUE:\n",
      "File \u001b[1;32m~\\anaconda3\\lib\\http\\client.py:279\u001b[0m, in \u001b[0;36mHTTPResponse._read_status\u001b[1;34m(self)\u001b[0m\n\u001b[0;32m    278\u001b[0m \u001b[38;5;28;01mdef\u001b[39;00m \u001b[38;5;21m_read_status\u001b[39m(\u001b[38;5;28mself\u001b[39m):\n\u001b[1;32m--> 279\u001b[0m     line \u001b[38;5;241m=\u001b[39m \u001b[38;5;28mstr\u001b[39m(\u001b[38;5;28;43mself\u001b[39;49m\u001b[38;5;241;43m.\u001b[39;49m\u001b[43mfp\u001b[49m\u001b[38;5;241;43m.\u001b[39;49m\u001b[43mreadline\u001b[49m\u001b[43m(\u001b[49m\u001b[43m_MAXLINE\u001b[49m\u001b[43m \u001b[49m\u001b[38;5;241;43m+\u001b[39;49m\u001b[43m \u001b[49m\u001b[38;5;241;43m1\u001b[39;49m\u001b[43m)\u001b[49m, \u001b[38;5;124m\"\u001b[39m\u001b[38;5;124miso-8859-1\u001b[39m\u001b[38;5;124m\"\u001b[39m)\n\u001b[0;32m    280\u001b[0m     \u001b[38;5;28;01mif\u001b[39;00m \u001b[38;5;28mlen\u001b[39m(line) \u001b[38;5;241m>\u001b[39m _MAXLINE:\n",
      "File \u001b[1;32m~\\anaconda3\\lib\\socket.py:705\u001b[0m, in \u001b[0;36mSocketIO.readinto\u001b[1;34m(self, b)\u001b[0m\n\u001b[0;32m    704\u001b[0m \u001b[38;5;28;01mtry\u001b[39;00m:\n\u001b[1;32m--> 705\u001b[0m     \u001b[38;5;28;01mreturn\u001b[39;00m \u001b[38;5;28;43mself\u001b[39;49m\u001b[38;5;241;43m.\u001b[39;49m\u001b[43m_sock\u001b[49m\u001b[38;5;241;43m.\u001b[39;49m\u001b[43mrecv_into\u001b[49m\u001b[43m(\u001b[49m\u001b[43mb\u001b[49m\u001b[43m)\u001b[49m\n\u001b[0;32m    706\u001b[0m \u001b[38;5;28;01mexcept\u001b[39;00m timeout:\n",
      "\u001b[1;31mConnectionResetError\u001b[0m: [WinError 10054] An existing connection was forcibly closed by the remote host",
      "\nDuring handling of the above exception, another exception occurred:\n",
      "\u001b[1;31mProtocolError\u001b[0m                             Traceback (most recent call last)",
      "Cell \u001b[1;32mIn[13], line 2\u001b[0m\n\u001b[0;32m      1\u001b[0m \u001b[38;5;28;01mfor\u001b[39;00m url \u001b[38;5;129;01min\u001b[39;00m product_urls:\n\u001b[1;32m----> 2\u001b[0m     \u001b[43mdriver\u001b[49m\u001b[38;5;241;43m.\u001b[39;49m\u001b[43mget\u001b[49m\u001b[43m(\u001b[49m\u001b[43murl\u001b[49m\u001b[43m)\u001b[49m\n\u001b[0;32m      3\u001b[0m     time\u001b[38;5;241m.\u001b[39msleep(\u001b[38;5;241m10\u001b[39m)\n",
      "File \u001b[1;32m~\\anaconda3\\lib\\site-packages\\selenium\\webdriver\\remote\\webdriver.py:356\u001b[0m, in \u001b[0;36mWebDriver.get\u001b[1;34m(self, url)\u001b[0m\n\u001b[0;32m    354\u001b[0m \u001b[38;5;28;01mdef\u001b[39;00m \u001b[38;5;21mget\u001b[39m(\u001b[38;5;28mself\u001b[39m, url: \u001b[38;5;28mstr\u001b[39m) \u001b[38;5;241m-\u001b[39m\u001b[38;5;241m>\u001b[39m \u001b[38;5;28;01mNone\u001b[39;00m:\n\u001b[0;32m    355\u001b[0m     \u001b[38;5;124;03m\"\"\"Loads a web page in the current browser session.\"\"\"\u001b[39;00m\n\u001b[1;32m--> 356\u001b[0m     \u001b[38;5;28;43mself\u001b[39;49m\u001b[38;5;241;43m.\u001b[39;49m\u001b[43mexecute\u001b[49m\u001b[43m(\u001b[49m\u001b[43mCommand\u001b[49m\u001b[38;5;241;43m.\u001b[39;49m\u001b[43mGET\u001b[49m\u001b[43m,\u001b[49m\u001b[43m \u001b[49m\u001b[43m{\u001b[49m\u001b[38;5;124;43m\"\u001b[39;49m\u001b[38;5;124;43murl\u001b[39;49m\u001b[38;5;124;43m\"\u001b[39;49m\u001b[43m:\u001b[49m\u001b[43m \u001b[49m\u001b[43murl\u001b[49m\u001b[43m}\u001b[49m\u001b[43m)\u001b[49m\n",
      "File \u001b[1;32m~\\anaconda3\\lib\\site-packages\\selenium\\webdriver\\remote\\webdriver.py:345\u001b[0m, in \u001b[0;36mWebDriver.execute\u001b[1;34m(self, driver_command, params)\u001b[0m\n\u001b[0;32m    342\u001b[0m     \u001b[38;5;28;01melif\u001b[39;00m \u001b[38;5;124m\"\u001b[39m\u001b[38;5;124msessionId\u001b[39m\u001b[38;5;124m\"\u001b[39m \u001b[38;5;129;01mnot\u001b[39;00m \u001b[38;5;129;01min\u001b[39;00m params:\n\u001b[0;32m    343\u001b[0m         params[\u001b[38;5;124m\"\u001b[39m\u001b[38;5;124msessionId\u001b[39m\u001b[38;5;124m\"\u001b[39m] \u001b[38;5;241m=\u001b[39m \u001b[38;5;28mself\u001b[39m\u001b[38;5;241m.\u001b[39msession_id\n\u001b[1;32m--> 345\u001b[0m response \u001b[38;5;241m=\u001b[39m \u001b[38;5;28;43mself\u001b[39;49m\u001b[38;5;241;43m.\u001b[39;49m\u001b[43mcommand_executor\u001b[49m\u001b[38;5;241;43m.\u001b[39;49m\u001b[43mexecute\u001b[49m\u001b[43m(\u001b[49m\u001b[43mdriver_command\u001b[49m\u001b[43m,\u001b[49m\u001b[43m \u001b[49m\u001b[43mparams\u001b[49m\u001b[43m)\u001b[49m\n\u001b[0;32m    346\u001b[0m \u001b[38;5;28;01mif\u001b[39;00m response:\n\u001b[0;32m    347\u001b[0m     \u001b[38;5;28mself\u001b[39m\u001b[38;5;241m.\u001b[39merror_handler\u001b[38;5;241m.\u001b[39mcheck_response(response)\n",
      "File \u001b[1;32m~\\anaconda3\\lib\\site-packages\\selenium\\webdriver\\remote\\remote_connection.py:302\u001b[0m, in \u001b[0;36mRemoteConnection.execute\u001b[1;34m(self, command, params)\u001b[0m\n\u001b[0;32m    300\u001b[0m trimmed \u001b[38;5;241m=\u001b[39m \u001b[38;5;28mself\u001b[39m\u001b[38;5;241m.\u001b[39m_trim_large_entries(params)\n\u001b[0;32m    301\u001b[0m LOGGER\u001b[38;5;241m.\u001b[39mdebug(\u001b[38;5;124m\"\u001b[39m\u001b[38;5;132;01m%s\u001b[39;00m\u001b[38;5;124m \u001b[39m\u001b[38;5;132;01m%s\u001b[39;00m\u001b[38;5;124m \u001b[39m\u001b[38;5;132;01m%s\u001b[39;00m\u001b[38;5;124m\"\u001b[39m, command_info[\u001b[38;5;241m0\u001b[39m], url, \u001b[38;5;28mstr\u001b[39m(trimmed))\n\u001b[1;32m--> 302\u001b[0m \u001b[38;5;28;01mreturn\u001b[39;00m \u001b[38;5;28;43mself\u001b[39;49m\u001b[38;5;241;43m.\u001b[39;49m\u001b[43m_request\u001b[49m\u001b[43m(\u001b[49m\u001b[43mcommand_info\u001b[49m\u001b[43m[\u001b[49m\u001b[38;5;241;43m0\u001b[39;49m\u001b[43m]\u001b[49m\u001b[43m,\u001b[49m\u001b[43m \u001b[49m\u001b[43murl\u001b[49m\u001b[43m,\u001b[49m\u001b[43m \u001b[49m\u001b[43mbody\u001b[49m\u001b[38;5;241;43m=\u001b[39;49m\u001b[43mdata\u001b[49m\u001b[43m)\u001b[49m\n",
      "File \u001b[1;32m~\\anaconda3\\lib\\site-packages\\selenium\\webdriver\\remote\\remote_connection.py:322\u001b[0m, in \u001b[0;36mRemoteConnection._request\u001b[1;34m(self, method, url, body)\u001b[0m\n\u001b[0;32m    319\u001b[0m     body \u001b[38;5;241m=\u001b[39m \u001b[38;5;28;01mNone\u001b[39;00m\n\u001b[0;32m    321\u001b[0m \u001b[38;5;28;01mif\u001b[39;00m \u001b[38;5;28mself\u001b[39m\u001b[38;5;241m.\u001b[39mkeep_alive:\n\u001b[1;32m--> 322\u001b[0m     response \u001b[38;5;241m=\u001b[39m \u001b[38;5;28;43mself\u001b[39;49m\u001b[38;5;241;43m.\u001b[39;49m\u001b[43m_conn\u001b[49m\u001b[38;5;241;43m.\u001b[39;49m\u001b[43mrequest\u001b[49m\u001b[43m(\u001b[49m\u001b[43mmethod\u001b[49m\u001b[43m,\u001b[49m\u001b[43m \u001b[49m\u001b[43murl\u001b[49m\u001b[43m,\u001b[49m\u001b[43m \u001b[49m\u001b[43mbody\u001b[49m\u001b[38;5;241;43m=\u001b[39;49m\u001b[43mbody\u001b[49m\u001b[43m,\u001b[49m\u001b[43m \u001b[49m\u001b[43mheaders\u001b[49m\u001b[38;5;241;43m=\u001b[39;49m\u001b[43mheaders\u001b[49m\u001b[43m)\u001b[49m\n\u001b[0;32m    323\u001b[0m     statuscode \u001b[38;5;241m=\u001b[39m response\u001b[38;5;241m.\u001b[39mstatus\n\u001b[0;32m    324\u001b[0m \u001b[38;5;28;01melse\u001b[39;00m:\n",
      "File \u001b[1;32m~\\anaconda3\\lib\\site-packages\\urllib3\\request.py:78\u001b[0m, in \u001b[0;36mRequestMethods.request\u001b[1;34m(self, method, url, fields, headers, **urlopen_kw)\u001b[0m\n\u001b[0;32m     74\u001b[0m     \u001b[38;5;28;01mreturn\u001b[39;00m \u001b[38;5;28mself\u001b[39m\u001b[38;5;241m.\u001b[39mrequest_encode_url(\n\u001b[0;32m     75\u001b[0m         method, url, fields\u001b[38;5;241m=\u001b[39mfields, headers\u001b[38;5;241m=\u001b[39mheaders, \u001b[38;5;241m*\u001b[39m\u001b[38;5;241m*\u001b[39murlopen_kw\n\u001b[0;32m     76\u001b[0m     )\n\u001b[0;32m     77\u001b[0m \u001b[38;5;28;01melse\u001b[39;00m:\n\u001b[1;32m---> 78\u001b[0m     \u001b[38;5;28;01mreturn\u001b[39;00m \u001b[38;5;28mself\u001b[39m\u001b[38;5;241m.\u001b[39mrequest_encode_body(\n\u001b[0;32m     79\u001b[0m         method, url, fields\u001b[38;5;241m=\u001b[39mfields, headers\u001b[38;5;241m=\u001b[39mheaders, \u001b[38;5;241m*\u001b[39m\u001b[38;5;241m*\u001b[39murlopen_kw\n\u001b[0;32m     80\u001b[0m     )\n",
      "File \u001b[1;32m~\\anaconda3\\lib\\site-packages\\urllib3\\request.py:170\u001b[0m, in \u001b[0;36mRequestMethods.request_encode_body\u001b[1;34m(self, method, url, fields, headers, encode_multipart, multipart_boundary, **urlopen_kw)\u001b[0m\n\u001b[0;32m    167\u001b[0m extra_kw[\u001b[38;5;124m\"\u001b[39m\u001b[38;5;124mheaders\u001b[39m\u001b[38;5;124m\"\u001b[39m]\u001b[38;5;241m.\u001b[39mupdate(headers)\n\u001b[0;32m    168\u001b[0m extra_kw\u001b[38;5;241m.\u001b[39mupdate(urlopen_kw)\n\u001b[1;32m--> 170\u001b[0m \u001b[38;5;28;01mreturn\u001b[39;00m \u001b[38;5;28mself\u001b[39m\u001b[38;5;241m.\u001b[39murlopen(method, url, \u001b[38;5;241m*\u001b[39m\u001b[38;5;241m*\u001b[39mextra_kw)\n",
      "File \u001b[1;32m~\\anaconda3\\lib\\site-packages\\urllib3\\poolmanager.py:376\u001b[0m, in \u001b[0;36mPoolManager.urlopen\u001b[1;34m(self, method, url, redirect, **kw)\u001b[0m\n\u001b[0;32m    374\u001b[0m     response \u001b[38;5;241m=\u001b[39m conn\u001b[38;5;241m.\u001b[39murlopen(method, url, \u001b[38;5;241m*\u001b[39m\u001b[38;5;241m*\u001b[39mkw)\n\u001b[0;32m    375\u001b[0m \u001b[38;5;28;01melse\u001b[39;00m:\n\u001b[1;32m--> 376\u001b[0m     response \u001b[38;5;241m=\u001b[39m conn\u001b[38;5;241m.\u001b[39murlopen(method, u\u001b[38;5;241m.\u001b[39mrequest_uri, \u001b[38;5;241m*\u001b[39m\u001b[38;5;241m*\u001b[39mkw)\n\u001b[0;32m    378\u001b[0m redirect_location \u001b[38;5;241m=\u001b[39m redirect \u001b[38;5;129;01mand\u001b[39;00m response\u001b[38;5;241m.\u001b[39mget_redirect_location()\n\u001b[0;32m    379\u001b[0m \u001b[38;5;28;01mif\u001b[39;00m \u001b[38;5;129;01mnot\u001b[39;00m redirect_location:\n",
      "File \u001b[1;32m~\\anaconda3\\lib\\site-packages\\urllib3\\connectionpool.py:787\u001b[0m, in \u001b[0;36mHTTPConnectionPool.urlopen\u001b[1;34m(self, method, url, body, headers, retries, redirect, assert_same_host, timeout, pool_timeout, release_conn, chunked, body_pos, **response_kw)\u001b[0m\n\u001b[0;32m    784\u001b[0m \u001b[38;5;28;01melif\u001b[39;00m \u001b[38;5;28misinstance\u001b[39m(e, (SocketError, HTTPException)):\n\u001b[0;32m    785\u001b[0m     e \u001b[38;5;241m=\u001b[39m ProtocolError(\u001b[38;5;124m\"\u001b[39m\u001b[38;5;124mConnection aborted.\u001b[39m\u001b[38;5;124m\"\u001b[39m, e)\n\u001b[1;32m--> 787\u001b[0m retries \u001b[38;5;241m=\u001b[39m \u001b[43mretries\u001b[49m\u001b[38;5;241;43m.\u001b[39;49m\u001b[43mincrement\u001b[49m\u001b[43m(\u001b[49m\n\u001b[0;32m    788\u001b[0m \u001b[43m    \u001b[49m\u001b[43mmethod\u001b[49m\u001b[43m,\u001b[49m\u001b[43m \u001b[49m\u001b[43murl\u001b[49m\u001b[43m,\u001b[49m\u001b[43m \u001b[49m\u001b[43merror\u001b[49m\u001b[38;5;241;43m=\u001b[39;49m\u001b[43me\u001b[49m\u001b[43m,\u001b[49m\u001b[43m \u001b[49m\u001b[43m_pool\u001b[49m\u001b[38;5;241;43m=\u001b[39;49m\u001b[38;5;28;43mself\u001b[39;49m\u001b[43m,\u001b[49m\u001b[43m \u001b[49m\u001b[43m_stacktrace\u001b[49m\u001b[38;5;241;43m=\u001b[39;49m\u001b[43msys\u001b[49m\u001b[38;5;241;43m.\u001b[39;49m\u001b[43mexc_info\u001b[49m\u001b[43m(\u001b[49m\u001b[43m)\u001b[49m\u001b[43m[\u001b[49m\u001b[38;5;241;43m2\u001b[39;49m\u001b[43m]\u001b[49m\n\u001b[0;32m    789\u001b[0m \u001b[43m\u001b[49m\u001b[43m)\u001b[49m\n\u001b[0;32m    790\u001b[0m retries\u001b[38;5;241m.\u001b[39msleep()\n\u001b[0;32m    792\u001b[0m \u001b[38;5;66;03m# Keep track of the error for the retry warning.\u001b[39;00m\n",
      "File \u001b[1;32m~\\anaconda3\\lib\\site-packages\\urllib3\\util\\retry.py:550\u001b[0m, in \u001b[0;36mRetry.increment\u001b[1;34m(self, method, url, response, error, _pool, _stacktrace)\u001b[0m\n\u001b[0;32m    547\u001b[0m \u001b[38;5;28;01melif\u001b[39;00m error \u001b[38;5;129;01mand\u001b[39;00m \u001b[38;5;28mself\u001b[39m\u001b[38;5;241m.\u001b[39m_is_read_error(error):\n\u001b[0;32m    548\u001b[0m     \u001b[38;5;66;03m# Read retry?\u001b[39;00m\n\u001b[0;32m    549\u001b[0m     \u001b[38;5;28;01mif\u001b[39;00m read \u001b[38;5;129;01mis\u001b[39;00m \u001b[38;5;28;01mFalse\u001b[39;00m \u001b[38;5;129;01mor\u001b[39;00m \u001b[38;5;129;01mnot\u001b[39;00m \u001b[38;5;28mself\u001b[39m\u001b[38;5;241m.\u001b[39m_is_method_retryable(method):\n\u001b[1;32m--> 550\u001b[0m         \u001b[38;5;28;01mraise\u001b[39;00m \u001b[43msix\u001b[49m\u001b[38;5;241;43m.\u001b[39;49m\u001b[43mreraise\u001b[49m\u001b[43m(\u001b[49m\u001b[38;5;28;43mtype\u001b[39;49m\u001b[43m(\u001b[49m\u001b[43merror\u001b[49m\u001b[43m)\u001b[49m\u001b[43m,\u001b[49m\u001b[43m \u001b[49m\u001b[43merror\u001b[49m\u001b[43m,\u001b[49m\u001b[43m \u001b[49m\u001b[43m_stacktrace\u001b[49m\u001b[43m)\u001b[49m\n\u001b[0;32m    551\u001b[0m     \u001b[38;5;28;01melif\u001b[39;00m read \u001b[38;5;129;01mis\u001b[39;00m \u001b[38;5;129;01mnot\u001b[39;00m \u001b[38;5;28;01mNone\u001b[39;00m:\n\u001b[0;32m    552\u001b[0m         read \u001b[38;5;241m-\u001b[39m\u001b[38;5;241m=\u001b[39m \u001b[38;5;241m1\u001b[39m\n",
      "File \u001b[1;32m~\\anaconda3\\lib\\site-packages\\urllib3\\packages\\six.py:769\u001b[0m, in \u001b[0;36mreraise\u001b[1;34m(tp, value, tb)\u001b[0m\n\u001b[0;32m    767\u001b[0m         value \u001b[38;5;241m=\u001b[39m tp()\n\u001b[0;32m    768\u001b[0m     \u001b[38;5;28;01mif\u001b[39;00m value\u001b[38;5;241m.\u001b[39m__traceback__ \u001b[38;5;129;01mis\u001b[39;00m \u001b[38;5;129;01mnot\u001b[39;00m tb:\n\u001b[1;32m--> 769\u001b[0m         \u001b[38;5;28;01mraise\u001b[39;00m value\u001b[38;5;241m.\u001b[39mwith_traceback(tb)\n\u001b[0;32m    770\u001b[0m     \u001b[38;5;28;01mraise\u001b[39;00m value\n\u001b[0;32m    771\u001b[0m \u001b[38;5;28;01mfinally\u001b[39;00m:\n",
      "File \u001b[1;32m~\\anaconda3\\lib\\site-packages\\urllib3\\connectionpool.py:703\u001b[0m, in \u001b[0;36mHTTPConnectionPool.urlopen\u001b[1;34m(self, method, url, body, headers, retries, redirect, assert_same_host, timeout, pool_timeout, release_conn, chunked, body_pos, **response_kw)\u001b[0m\n\u001b[0;32m    700\u001b[0m     \u001b[38;5;28mself\u001b[39m\u001b[38;5;241m.\u001b[39m_prepare_proxy(conn)\n\u001b[0;32m    702\u001b[0m \u001b[38;5;66;03m# Make the request on the httplib connection object.\u001b[39;00m\n\u001b[1;32m--> 703\u001b[0m httplib_response \u001b[38;5;241m=\u001b[39m \u001b[38;5;28;43mself\u001b[39;49m\u001b[38;5;241;43m.\u001b[39;49m\u001b[43m_make_request\u001b[49m\u001b[43m(\u001b[49m\n\u001b[0;32m    704\u001b[0m \u001b[43m    \u001b[49m\u001b[43mconn\u001b[49m\u001b[43m,\u001b[49m\n\u001b[0;32m    705\u001b[0m \u001b[43m    \u001b[49m\u001b[43mmethod\u001b[49m\u001b[43m,\u001b[49m\n\u001b[0;32m    706\u001b[0m \u001b[43m    \u001b[49m\u001b[43murl\u001b[49m\u001b[43m,\u001b[49m\n\u001b[0;32m    707\u001b[0m \u001b[43m    \u001b[49m\u001b[43mtimeout\u001b[49m\u001b[38;5;241;43m=\u001b[39;49m\u001b[43mtimeout_obj\u001b[49m\u001b[43m,\u001b[49m\n\u001b[0;32m    708\u001b[0m \u001b[43m    \u001b[49m\u001b[43mbody\u001b[49m\u001b[38;5;241;43m=\u001b[39;49m\u001b[43mbody\u001b[49m\u001b[43m,\u001b[49m\n\u001b[0;32m    709\u001b[0m \u001b[43m    \u001b[49m\u001b[43mheaders\u001b[49m\u001b[38;5;241;43m=\u001b[39;49m\u001b[43mheaders\u001b[49m\u001b[43m,\u001b[49m\n\u001b[0;32m    710\u001b[0m \u001b[43m    \u001b[49m\u001b[43mchunked\u001b[49m\u001b[38;5;241;43m=\u001b[39;49m\u001b[43mchunked\u001b[49m\u001b[43m,\u001b[49m\n\u001b[0;32m    711\u001b[0m \u001b[43m\u001b[49m\u001b[43m)\u001b[49m\n\u001b[0;32m    713\u001b[0m \u001b[38;5;66;03m# If we're going to release the connection in ``finally:``, then\u001b[39;00m\n\u001b[0;32m    714\u001b[0m \u001b[38;5;66;03m# the response doesn't need to know about the connection. Otherwise\u001b[39;00m\n\u001b[0;32m    715\u001b[0m \u001b[38;5;66;03m# it will also try to release it and we'll have a double-release\u001b[39;00m\n\u001b[0;32m    716\u001b[0m \u001b[38;5;66;03m# mess.\u001b[39;00m\n\u001b[0;32m    717\u001b[0m response_conn \u001b[38;5;241m=\u001b[39m conn \u001b[38;5;28;01mif\u001b[39;00m \u001b[38;5;129;01mnot\u001b[39;00m release_conn \u001b[38;5;28;01melse\u001b[39;00m \u001b[38;5;28;01mNone\u001b[39;00m\n",
      "File \u001b[1;32m~\\anaconda3\\lib\\site-packages\\urllib3\\connectionpool.py:449\u001b[0m, in \u001b[0;36mHTTPConnectionPool._make_request\u001b[1;34m(self, conn, method, url, timeout, chunked, **httplib_request_kw)\u001b[0m\n\u001b[0;32m    444\u001b[0m             httplib_response \u001b[38;5;241m=\u001b[39m conn\u001b[38;5;241m.\u001b[39mgetresponse()\n\u001b[0;32m    445\u001b[0m         \u001b[38;5;28;01mexcept\u001b[39;00m \u001b[38;5;167;01mBaseException\u001b[39;00m \u001b[38;5;28;01mas\u001b[39;00m e:\n\u001b[0;32m    446\u001b[0m             \u001b[38;5;66;03m# Remove the TypeError from the exception chain in\u001b[39;00m\n\u001b[0;32m    447\u001b[0m             \u001b[38;5;66;03m# Python 3 (including for exceptions like SystemExit).\u001b[39;00m\n\u001b[0;32m    448\u001b[0m             \u001b[38;5;66;03m# Otherwise it looks like a bug in the code.\u001b[39;00m\n\u001b[1;32m--> 449\u001b[0m             \u001b[43msix\u001b[49m\u001b[38;5;241;43m.\u001b[39;49m\u001b[43mraise_from\u001b[49m\u001b[43m(\u001b[49m\u001b[43me\u001b[49m\u001b[43m,\u001b[49m\u001b[43m \u001b[49m\u001b[38;5;28;43;01mNone\u001b[39;49;00m\u001b[43m)\u001b[49m\n\u001b[0;32m    450\u001b[0m \u001b[38;5;28;01mexcept\u001b[39;00m (SocketTimeout, BaseSSLError, SocketError) \u001b[38;5;28;01mas\u001b[39;00m e:\n\u001b[0;32m    451\u001b[0m     \u001b[38;5;28mself\u001b[39m\u001b[38;5;241m.\u001b[39m_raise_timeout(err\u001b[38;5;241m=\u001b[39me, url\u001b[38;5;241m=\u001b[39murl, timeout_value\u001b[38;5;241m=\u001b[39mread_timeout)\n",
      "File \u001b[1;32m<string>:3\u001b[0m, in \u001b[0;36mraise_from\u001b[1;34m(value, from_value)\u001b[0m\n",
      "File \u001b[1;32m~\\anaconda3\\lib\\site-packages\\urllib3\\connectionpool.py:444\u001b[0m, in \u001b[0;36mHTTPConnectionPool._make_request\u001b[1;34m(self, conn, method, url, timeout, chunked, **httplib_request_kw)\u001b[0m\n\u001b[0;32m    441\u001b[0m \u001b[38;5;28;01mexcept\u001b[39;00m \u001b[38;5;167;01mTypeError\u001b[39;00m:\n\u001b[0;32m    442\u001b[0m     \u001b[38;5;66;03m# Python 3\u001b[39;00m\n\u001b[0;32m    443\u001b[0m     \u001b[38;5;28;01mtry\u001b[39;00m:\n\u001b[1;32m--> 444\u001b[0m         httplib_response \u001b[38;5;241m=\u001b[39m \u001b[43mconn\u001b[49m\u001b[38;5;241;43m.\u001b[39;49m\u001b[43mgetresponse\u001b[49m\u001b[43m(\u001b[49m\u001b[43m)\u001b[49m\n\u001b[0;32m    445\u001b[0m     \u001b[38;5;28;01mexcept\u001b[39;00m \u001b[38;5;167;01mBaseException\u001b[39;00m \u001b[38;5;28;01mas\u001b[39;00m e:\n\u001b[0;32m    446\u001b[0m         \u001b[38;5;66;03m# Remove the TypeError from the exception chain in\u001b[39;00m\n\u001b[0;32m    447\u001b[0m         \u001b[38;5;66;03m# Python 3 (including for exceptions like SystemExit).\u001b[39;00m\n\u001b[0;32m    448\u001b[0m         \u001b[38;5;66;03m# Otherwise it looks like a bug in the code.\u001b[39;00m\n\u001b[0;32m    449\u001b[0m         six\u001b[38;5;241m.\u001b[39mraise_from(e, \u001b[38;5;28;01mNone\u001b[39;00m)\n",
      "File \u001b[1;32m~\\anaconda3\\lib\\http\\client.py:1374\u001b[0m, in \u001b[0;36mHTTPConnection.getresponse\u001b[1;34m(self)\u001b[0m\n\u001b[0;32m   1372\u001b[0m \u001b[38;5;28;01mtry\u001b[39;00m:\n\u001b[0;32m   1373\u001b[0m     \u001b[38;5;28;01mtry\u001b[39;00m:\n\u001b[1;32m-> 1374\u001b[0m         \u001b[43mresponse\u001b[49m\u001b[38;5;241;43m.\u001b[39;49m\u001b[43mbegin\u001b[49m\u001b[43m(\u001b[49m\u001b[43m)\u001b[49m\n\u001b[0;32m   1375\u001b[0m     \u001b[38;5;28;01mexcept\u001b[39;00m \u001b[38;5;167;01mConnectionError\u001b[39;00m:\n\u001b[0;32m   1376\u001b[0m         \u001b[38;5;28mself\u001b[39m\u001b[38;5;241m.\u001b[39mclose()\n",
      "File \u001b[1;32m~\\anaconda3\\lib\\http\\client.py:318\u001b[0m, in \u001b[0;36mHTTPResponse.begin\u001b[1;34m(self)\u001b[0m\n\u001b[0;32m    316\u001b[0m \u001b[38;5;66;03m# read until we get a non-100 response\u001b[39;00m\n\u001b[0;32m    317\u001b[0m \u001b[38;5;28;01mwhile\u001b[39;00m \u001b[38;5;28;01mTrue\u001b[39;00m:\n\u001b[1;32m--> 318\u001b[0m     version, status, reason \u001b[38;5;241m=\u001b[39m \u001b[38;5;28;43mself\u001b[39;49m\u001b[38;5;241;43m.\u001b[39;49m\u001b[43m_read_status\u001b[49m\u001b[43m(\u001b[49m\u001b[43m)\u001b[49m\n\u001b[0;32m    319\u001b[0m     \u001b[38;5;28;01mif\u001b[39;00m status \u001b[38;5;241m!=\u001b[39m CONTINUE:\n\u001b[0;32m    320\u001b[0m         \u001b[38;5;28;01mbreak\u001b[39;00m\n",
      "File \u001b[1;32m~\\anaconda3\\lib\\http\\client.py:279\u001b[0m, in \u001b[0;36mHTTPResponse._read_status\u001b[1;34m(self)\u001b[0m\n\u001b[0;32m    278\u001b[0m \u001b[38;5;28;01mdef\u001b[39;00m \u001b[38;5;21m_read_status\u001b[39m(\u001b[38;5;28mself\u001b[39m):\n\u001b[1;32m--> 279\u001b[0m     line \u001b[38;5;241m=\u001b[39m \u001b[38;5;28mstr\u001b[39m(\u001b[38;5;28;43mself\u001b[39;49m\u001b[38;5;241;43m.\u001b[39;49m\u001b[43mfp\u001b[49m\u001b[38;5;241;43m.\u001b[39;49m\u001b[43mreadline\u001b[49m\u001b[43m(\u001b[49m\u001b[43m_MAXLINE\u001b[49m\u001b[43m \u001b[49m\u001b[38;5;241;43m+\u001b[39;49m\u001b[43m \u001b[49m\u001b[38;5;241;43m1\u001b[39;49m\u001b[43m)\u001b[49m, \u001b[38;5;124m\"\u001b[39m\u001b[38;5;124miso-8859-1\u001b[39m\u001b[38;5;124m\"\u001b[39m)\n\u001b[0;32m    280\u001b[0m     \u001b[38;5;28;01mif\u001b[39;00m \u001b[38;5;28mlen\u001b[39m(line) \u001b[38;5;241m>\u001b[39m _MAXLINE:\n\u001b[0;32m    281\u001b[0m         \u001b[38;5;28;01mraise\u001b[39;00m LineTooLong(\u001b[38;5;124m\"\u001b[39m\u001b[38;5;124mstatus line\u001b[39m\u001b[38;5;124m\"\u001b[39m)\n",
      "File \u001b[1;32m~\\anaconda3\\lib\\socket.py:705\u001b[0m, in \u001b[0;36mSocketIO.readinto\u001b[1;34m(self, b)\u001b[0m\n\u001b[0;32m    703\u001b[0m \u001b[38;5;28;01mwhile\u001b[39;00m \u001b[38;5;28;01mTrue\u001b[39;00m:\n\u001b[0;32m    704\u001b[0m     \u001b[38;5;28;01mtry\u001b[39;00m:\n\u001b[1;32m--> 705\u001b[0m         \u001b[38;5;28;01mreturn\u001b[39;00m \u001b[38;5;28;43mself\u001b[39;49m\u001b[38;5;241;43m.\u001b[39;49m\u001b[43m_sock\u001b[49m\u001b[38;5;241;43m.\u001b[39;49m\u001b[43mrecv_into\u001b[49m\u001b[43m(\u001b[49m\u001b[43mb\u001b[49m\u001b[43m)\u001b[49m\n\u001b[0;32m    706\u001b[0m     \u001b[38;5;28;01mexcept\u001b[39;00m timeout:\n\u001b[0;32m    707\u001b[0m         \u001b[38;5;28mself\u001b[39m\u001b[38;5;241m.\u001b[39m_timeout_occurred \u001b[38;5;241m=\u001b[39m \u001b[38;5;28;01mTrue\u001b[39;00m\n",
      "\u001b[1;31mProtocolError\u001b[0m: ('Connection aborted.', ConnectionResetError(10054, 'An existing connection was forcibly closed by the remote host', None, 10054, None))"
     ]
    }
   ],
   "source": [
    "for url in product_urls:\n",
    "    driver.get(url)\n",
    "    time.sleep(10)\n",
    "        "
   ]
  },
  {
   "cell_type": "code",
   "execution_count": null,
   "id": "74eae9da",
   "metadata": {},
   "outputs": [],
   "source": [
    "try:\n",
    "    brand_x=driver.find_elements(By.XPATH,\"//span[@class='a-size-base po-break-word']\")\n",
    "    brand.append(brand_x.text)\n",
    "    \n",
    "except NoSuchElementException:\n",
    "    brand.append(\"-\")"
   ]
  },
  {
   "cell_type": "code",
   "execution_count": 7,
   "id": "7f791c84",
   "metadata": {},
   "outputs": [],
   "source": [
    "driver.close()"
   ]
  },
  {
   "cell_type": "code",
   "execution_count": 8,
   "id": "0c337752",
   "metadata": {},
   "outputs": [],
   "source": [
    "from selenium import webdriver\n",
    "from selenium.webdriver.support.ui import WebDriverWait\n",
    "from selenium.webdriver.support import expected_conditions as EC\n",
    "from selenium.webdriver.common.by import By"
   ]
  },
  {
   "cell_type": "code",
   "execution_count": 9,
   "id": "13109b41",
   "metadata": {},
   "outputs": [],
   "source": [
    "driver=webdriver.Chrome()"
   ]
  },
  {
   "cell_type": "code",
   "execution_count": 10,
   "id": "98c87fd5",
   "metadata": {},
   "outputs": [],
   "source": [
    "driver.get(\"http://www.amazon.in/\")"
   ]
  },
  {
   "cell_type": "code",
   "execution_count": 11,
   "id": "41d34c40",
   "metadata": {},
   "outputs": [],
   "source": [
    "delay=10"
   ]
  },
  {
   "cell_type": "code",
   "execution_count": 12,
   "id": "e24773ce",
   "metadata": {},
   "outputs": [
    {
     "ename": "TimeoutException",
     "evalue": "Message: \nStacktrace:\n\tGetHandleVerifier [0x00007FF66DA75E42+3538674]\n\t(No symbol) [0x00007FF66D694C02]\n\t(No symbol) [0x00007FF66D545AEB]\n\t(No symbol) [0x00007FF66D58BF4E]\n\t(No symbol) [0x00007FF66D58C0CC]\n\t(No symbol) [0x00007FF66D5CE477]\n\t(No symbol) [0x00007FF66D5AF0EF]\n\t(No symbol) [0x00007FF66D5CBDE3]\n\t(No symbol) [0x00007FF66D5AEE53]\n\t(No symbol) [0x00007FF66D57F514]\n\t(No symbol) [0x00007FF66D580631]\n\tGetHandleVerifier [0x00007FF66DAA6CAD+3738973]\n\tGetHandleVerifier [0x00007FF66DAFC506+4089270]\n\tGetHandleVerifier [0x00007FF66DAF4823+4057299]\n\tGetHandleVerifier [0x00007FF66D7C5C49+720121]\n\t(No symbol) [0x00007FF66D6A126F]\n\t(No symbol) [0x00007FF66D69C304]\n\t(No symbol) [0x00007FF66D69C432]\n\t(No symbol) [0x00007FF66D68BD04]\n\tBaseThreadInitThunk [0x00007FFEEA8F7344+20]\n\tRtlUserThreadStart [0x00007FFEEC4E26B1+33]\n",
     "output_type": "error",
     "traceback": [
      "\u001b[1;31m---------------------------------------------------------------------------\u001b[0m",
      "\u001b[1;31mTimeoutException\u001b[0m                          Traceback (most recent call last)",
      "Cell \u001b[1;32mIn[12], line 1\u001b[0m\n\u001b[1;32m----> 1\u001b[0m \u001b[43mWebDriverWait\u001b[49m\u001b[43m(\u001b[49m\u001b[43mdriver\u001b[49m\u001b[43m,\u001b[49m\u001b[43mdelay\u001b[49m\u001b[43m)\u001b[49m\u001b[38;5;241;43m.\u001b[39;49m\u001b[43muntil\u001b[49m\u001b[43m(\u001b[49m\u001b[43mEC\u001b[49m\u001b[38;5;241;43m.\u001b[39;49m\u001b[43mpresence_of_element_located\u001b[49m\u001b[43m(\u001b[49m\u001b[43m(\u001b[49m\u001b[43mBy\u001b[49m\u001b[38;5;241;43m.\u001b[39;49m\u001b[43mCLASS_NAME\u001b[49m\u001b[43m,\u001b[49m\u001b[38;5;124;43m\"\u001b[39;49m\u001b[38;5;124;43mnav-input nav-progressive-attribute\u001b[39;49m\u001b[38;5;124;43m\"\u001b[39;49m\u001b[43m)\u001b[49m\u001b[43m)\u001b[49m\u001b[43m)\u001b[49m\n\u001b[0;32m      2\u001b[0m element\u001b[38;5;241m=\u001b[39mdriver\u001b[38;5;241m.\u001b[39mfind_element(By\u001b[38;5;241m.\u001b[39mXPATH,\u001b[38;5;124m\"\u001b[39m\u001b[38;5;124m//input[@class=\u001b[39m\u001b[38;5;124m'\u001b[39m\u001b[38;5;124mnav-input nav-progressive-attribute\u001b[39m\u001b[38;5;124m'\u001b[39m\u001b[38;5;124m]\u001b[39m\u001b[38;5;124m\"\u001b[39m)\n\u001b[0;32m      3\u001b[0m element\n",
      "File \u001b[1;32m~\\anaconda3\\lib\\site-packages\\selenium\\webdriver\\support\\wait.py:105\u001b[0m, in \u001b[0;36mWebDriverWait.until\u001b[1;34m(self, method, message)\u001b[0m\n\u001b[0;32m    103\u001b[0m     \u001b[38;5;28;01mif\u001b[39;00m time\u001b[38;5;241m.\u001b[39mmonotonic() \u001b[38;5;241m>\u001b[39m end_time:\n\u001b[0;32m    104\u001b[0m         \u001b[38;5;28;01mbreak\u001b[39;00m\n\u001b[1;32m--> 105\u001b[0m \u001b[38;5;28;01mraise\u001b[39;00m TimeoutException(message, screen, stacktrace)\n",
      "\u001b[1;31mTimeoutException\u001b[0m: Message: \nStacktrace:\n\tGetHandleVerifier [0x00007FF66DA75E42+3538674]\n\t(No symbol) [0x00007FF66D694C02]\n\t(No symbol) [0x00007FF66D545AEB]\n\t(No symbol) [0x00007FF66D58BF4E]\n\t(No symbol) [0x00007FF66D58C0CC]\n\t(No symbol) [0x00007FF66D5CE477]\n\t(No symbol) [0x00007FF66D5AF0EF]\n\t(No symbol) [0x00007FF66D5CBDE3]\n\t(No symbol) [0x00007FF66D5AEE53]\n\t(No symbol) [0x00007FF66D57F514]\n\t(No symbol) [0x00007FF66D580631]\n\tGetHandleVerifier [0x00007FF66DAA6CAD+3738973]\n\tGetHandleVerifier [0x00007FF66DAFC506+4089270]\n\tGetHandleVerifier [0x00007FF66DAF4823+4057299]\n\tGetHandleVerifier [0x00007FF66D7C5C49+720121]\n\t(No symbol) [0x00007FF66D6A126F]\n\t(No symbol) [0x00007FF66D69C304]\n\t(No symbol) [0x00007FF66D69C432]\n\t(No symbol) [0x00007FF66D68BD04]\n\tBaseThreadInitThunk [0x00007FFEEA8F7344+20]\n\tRtlUserThreadStart [0x00007FFEEC4E26B1+33]\n"
     ]
    }
   ],
   "source": [
    "WebDriverWait(driver,delay).until(EC.presence_of_element_located((By.CLASS_NAME,\"nav-input nav-progressive-attribute\")))\n",
    "element=driver.find_element(By.XPATH,\"//input[@class='nav-input nav-progressive-attribute']\")\n",
    "element"
   ]
  },
  {
   "cell_type": "code",
   "execution_count": 14,
   "id": "224424bc",
   "metadata": {},
   "outputs": [],
   "source": [
    "from selenium.webdriver.support.ui import WebDriverWait\n",
    "from selenium.webdriver.support import expected_conditions as EC\n",
    "from selenium.webdriver.common.by import By\n",
    "from selenium.common.exceptions import TimeoutException"
   ]
  },
  {
   "cell_type": "code",
   "execution_count": 17,
   "id": "cefe4298",
   "metadata": {},
   "outputs": [
    {
     "name": "stdout",
     "output_type": "stream",
     "text": [
      "Exception Raised: Message: \n",
      "Stacktrace:\n",
      "\tGetHandleVerifier [0x00007FF66DA75E42+3538674]\n",
      "\t(No symbol) [0x00007FF66D694C02]\n",
      "\t(No symbol) [0x00007FF66D545AEB]\n",
      "\t(No symbol) [0x00007FF66D58BF4E]\n",
      "\t(No symbol) [0x00007FF66D58C0CC]\n",
      "\t(No symbol) [0x00007FF66D5CE477]\n",
      "\t(No symbol) [0x00007FF66D5AF0EF]\n",
      "\t(No symbol) [0x00007FF66D5CBDE3]\n",
      "\t(No symbol) [0x00007FF66D5AEE53]\n",
      "\t(No symbol) [0x00007FF66D57F514]\n",
      "\t(No symbol) [0x00007FF66D580631]\n",
      "\tGetHandleVerifier [0x00007FF66DAA6CAD+3738973]\n",
      "\tGetHandleVerifier [0x00007FF66DAFC506+4089270]\n",
      "\tGetHandleVerifier [0x00007FF66DAF4823+4057299]\n",
      "\tGetHandleVerifier [0x00007FF66D7C5C49+720121]\n",
      "\t(No symbol) [0x00007FF66D6A126F]\n",
      "\t(No symbol) [0x00007FF66D69C304]\n",
      "\t(No symbol) [0x00007FF66D69C432]\n",
      "\t(No symbol) [0x00007FF66D68BD04]\n",
      "\tBaseThreadInitThunk [0x00007FFEEA8F7344+20]\n",
      "\tRtlUserThreadStart [0x00007FFEEC4E26B1+33]\n",
      "\n"
     ]
    }
   ],
   "source": [
    "driver=webdriver.Chrome()\n",
    "delay=5\n",
    "try:\n",
    "    driver.get(\"http://www.amazon.in/\")\n",
    "    WebDriverWait(driver,delay).until(EC.presence_of_element_located((By.CLASS_NAME,'nav-input nav-progressive-attribute')))\n",
    "    element=driver.find_element_by_xpath(\"//input[@class='nav-input nav-progressive-attribute']\")\n",
    "    print(element)\n",
    "except TimeoutException as e:\n",
    "    print(\"Exception Raised:\",e)\n",
    "    "
   ]
  },
  {
   "cell_type": "markdown",
   "id": "37b7eb85",
   "metadata": {},
   "source": [
    "Q.3"
   ]
  },
  {
   "cell_type": "code",
   "execution_count": 45,
   "id": "1b0047ee",
   "metadata": {},
   "outputs": [],
   "source": [
    "driver=webdriver.Chrome()"
   ]
  },
  {
   "cell_type": "code",
   "execution_count": 5,
   "id": "0ac3d19b",
   "metadata": {},
   "outputs": [],
   "source": [
    "driver.get(\"https://images.google.com/\")"
   ]
  },
  {
   "cell_type": "code",
   "execution_count": 6,
   "id": "bc4cfd36",
   "metadata": {},
   "outputs": [],
   "source": [
    "search=driver.find_element(By.XPATH,\"/html/body/div[1]/div[3]/form/div[1]/div[1]/div[1]/div/div[2]/textarea\")\n",
    "search.send_keys(\"fruits\")"
   ]
  },
  {
   "cell_type": "code",
   "execution_count": 7,
   "id": "c032c1b9",
   "metadata": {},
   "outputs": [],
   "source": [
    "button=driver.find_element(By.CLASS_NAME,\"zgAlFc\")\n",
    "button.click()"
   ]
  },
  {
   "cell_type": "code",
   "execution_count": 12,
   "id": "c25c661d",
   "metadata": {},
   "outputs": [],
   "source": [
    "for _ in range(20):\n",
    "    driver.execute_script(\"window.scrollBy(0,500)\")\n",
    "    \n",
    "fruits=driver.find_elements(By.XPATH,\"//img[@class='rg_i Q4LuWd']\")\n",
    "\n",
    "fruits_url=[]\n",
    "for image in fruits:\n",
    "    source=image.get_attribute(\"src\")\n",
    "    if source is not None:\n",
    "        if(source[0:4]=='http'):\n",
    "            fruits_url.append(source)\n",
    "            \n",
    "            \n",
    "            \n",
    "for i in range(len(fruits_url)):\n",
    "    if i > 10:\n",
    "        breakBy.XPATH,\n",
    "    print(\"Downloading {0} of {1} images\" .format(i,10))\n",
    "    response= requests.get(fruits_url[i])\n",
    "    file=open(r\"D:\\internship\\selenium\\fruits\"+str(i)+\".jpg\",\"wb\")\n",
    "    file.write(response.content)"
   ]
  },
  {
   "cell_type": "code",
   "execution_count": null,
   "id": "42a19f0c",
   "metadata": {},
   "outputs": [],
   "source": []
  },
  {
   "cell_type": "markdown",
   "id": "b01c26a8",
   "metadata": {},
   "source": [
    "Q:6"
   ]
  },
  {
   "cell_type": "code",
   "execution_count": 5,
   "id": "8a7376d9",
   "metadata": {},
   "outputs": [],
   "source": [
    "driver.get(\"https://www.digit.in/\")"
   ]
  },
  {
   "cell_type": "code",
   "execution_count": 20,
   "id": "be603f08",
   "metadata": {},
   "outputs": [],
   "source": [
    "product_urls=[]\n",
    "start=0\n",
    "end=1\n",
    "for page in range(start,end):\n",
    "    url=driver.find_elements(By.XPATH,\"//div[@class='col-md-5 col-sm-5 col-xs-12 cegg-desc-cell hidden-xs']/div[1]/a\")\n",
    "    for i in url:\n",
    "        product_urls.append(i.get_attribute(\"href\"))\n",
    "        time.sleep(2)\n",
    "\n"
   ]
  },
  {
   "cell_type": "code",
   "execution_count": 21,
   "id": "b44a7eb6",
   "metadata": {},
   "outputs": [
    {
     "name": "stdout",
     "output_type": "stream",
     "text": [
      "6\n"
     ]
    }
   ],
   "source": [
    "print(len(product_urls))"
   ]
  },
  {
   "cell_type": "code",
   "execution_count": 25,
   "id": "56dac4e3",
   "metadata": {},
   "outputs": [],
   "source": [
    "brand_tags=[]"
   ]
  },
  {
   "cell_type": "code",
   "execution_count": 32,
   "id": "788d8227",
   "metadata": {},
   "outputs": [
    {
     "ename": "NameError",
     "evalue": "name 'NoSuchElementException' is not defined",
     "output_type": "error",
     "traceback": [
      "\u001b[1;31m---------------------------------------------------------------------------\u001b[0m",
      "\u001b[1;31mAttributeError\u001b[0m                            Traceback (most recent call last)",
      "Cell \u001b[1;32mIn[32], line 8\u001b[0m\n\u001b[0;32m      7\u001b[0m     brand\u001b[38;5;241m=\u001b[39mdriver\u001b[38;5;241m.\u001b[39mfind_elements(By\u001b[38;5;241m.\u001b[39mXPATH,\u001b[38;5;124m\"\u001b[39m\u001b[38;5;124m//span[@class=\u001b[39m\u001b[38;5;124m'\u001b[39m\u001b[38;5;124ma-size-base po-break-word\u001b[39m\u001b[38;5;124m'\u001b[39m\u001b[38;5;124m]\u001b[39m\u001b[38;5;124m\"\u001b[39m)\n\u001b[1;32m----> 8\u001b[0m     brand_tags\u001b[38;5;241m.\u001b[39mappend(\u001b[43mbrand\u001b[49m\u001b[38;5;241;43m.\u001b[39;49m\u001b[43mtext\u001b[49m)\n\u001b[0;32m     10\u001b[0m \u001b[38;5;28;01mexcept\u001b[39;00m NoSuchElementException:    \n",
      "\u001b[1;31mAttributeError\u001b[0m: 'list' object has no attribute 'text'",
      "\nDuring handling of the above exception, another exception occurred:\n",
      "\u001b[1;31mNameError\u001b[0m                                 Traceback (most recent call last)",
      "Cell \u001b[1;32mIn[32], line 10\u001b[0m\n\u001b[0;32m      7\u001b[0m     brand\u001b[38;5;241m=\u001b[39mdriver\u001b[38;5;241m.\u001b[39mfind_elements(By\u001b[38;5;241m.\u001b[39mXPATH,\u001b[38;5;124m\"\u001b[39m\u001b[38;5;124m//span[@class=\u001b[39m\u001b[38;5;124m'\u001b[39m\u001b[38;5;124ma-size-base po-break-word\u001b[39m\u001b[38;5;124m'\u001b[39m\u001b[38;5;124m]\u001b[39m\u001b[38;5;124m\"\u001b[39m)\n\u001b[0;32m      8\u001b[0m     brand_tags\u001b[38;5;241m.\u001b[39mappend(brand\u001b[38;5;241m.\u001b[39mtext)\n\u001b[1;32m---> 10\u001b[0m \u001b[38;5;28;01mexcept\u001b[39;00m \u001b[43mNoSuchElementException\u001b[49m:    \n\u001b[0;32m     11\u001b[0m     brand_tags\u001b[38;5;241m.\u001b[39mappend(\u001b[38;5;124m\"\u001b[39m\u001b[38;5;124m_\u001b[39m\u001b[38;5;124m\"\u001b[39m)\n\u001b[0;32m     13\u001b[0m \u001b[38;5;28;01mtry\u001b[39;00m:\n",
      "\u001b[1;31mNameError\u001b[0m: name 'NoSuchElementException' is not defined"
     ]
    }
   ],
   "source": [
    "for url in product_urls:\n",
    "    driver.get(url)\n",
    "    time.sleep(10)\n",
    "    \n",
    "    \n",
    "try:\n",
    "    brand=driver.find_elements(By.XPATH,\"//span[@class='a-size-base po-break-word']\")\n",
    "    brand_tags.append(brand.text)\n",
    "    \n",
    "except NoSuchElementException:    \n",
    "    brand_tags.append(\"_\")\n",
    "    \n",
    "try:\n",
    "    name=driver.find_elements(By.XPATH,\"//span[2class='a-size-base po-break-word']\")\n",
    "    name_tags.append(name.text)\n",
    "    \n",
    "except NoSuchElementException:\n",
    "    name_tags.append(\"_\")\n",
    "    "
   ]
  },
  {
   "cell_type": "code",
   "execution_count": 30,
   "id": "317e363e",
   "metadata": {},
   "outputs": [],
   "source": [
    "name_tags=[]"
   ]
  },
  {
   "cell_type": "code",
   "execution_count": 27,
   "id": "99fb13db",
   "metadata": {},
   "outputs": [],
   "source": [
    "df=pd.DataFrame({\"BRAND NAME\":brand_tags})"
   ]
  },
  {
   "cell_type": "code",
   "execution_count": 28,
   "id": "67455aa3",
   "metadata": {},
   "outputs": [
    {
     "data": {
      "text/html": [
       "<div>\n",
       "<style scoped>\n",
       "    .dataframe tbody tr th:only-of-type {\n",
       "        vertical-align: middle;\n",
       "    }\n",
       "\n",
       "    .dataframe tbody tr th {\n",
       "        vertical-align: top;\n",
       "    }\n",
       "\n",
       "    .dataframe thead th {\n",
       "        text-align: right;\n",
       "    }\n",
       "</style>\n",
       "<table border=\"1\" class=\"dataframe\">\n",
       "  <thead>\n",
       "    <tr style=\"text-align: right;\">\n",
       "      <th></th>\n",
       "      <th>BRAND NAME</th>\n",
       "    </tr>\n",
       "  </thead>\n",
       "  <tbody>\n",
       "  </tbody>\n",
       "</table>\n",
       "</div>"
      ],
      "text/plain": [
       "Empty DataFrame\n",
       "Columns: [BRAND NAME]\n",
       "Index: []"
      ]
     },
     "execution_count": 28,
     "metadata": {},
     "output_type": "execute_result"
    }
   ],
   "source": [
    "df"
   ]
  },
  {
   "cell_type": "code",
   "execution_count": null,
   "id": "329ad05f",
   "metadata": {},
   "outputs": [],
   "source": []
  },
  {
   "cell_type": "markdown",
   "id": "c7d5883e",
   "metadata": {},
   "source": [
    "Q:4"
   ]
  },
  {
   "cell_type": "code",
   "execution_count": 6,
   "id": "b00b792a",
   "metadata": {},
   "outputs": [],
   "source": [
    "driver.get(\"http://www.flipkart.com/\")"
   ]
  },
  {
   "cell_type": "code",
   "execution_count": 7,
   "id": "75332c1c",
   "metadata": {},
   "outputs": [],
   "source": [
    "search=driver.find_element(By.CLASS_NAME,\"_3704LK\")\n",
    "search.send_keys(\"mobilephones\")"
   ]
  },
  {
   "cell_type": "code",
   "execution_count": 12,
   "id": "c6ec4a39",
   "metadata": {},
   "outputs": [],
   "source": [
    "brands=[]\n",
    "color=[]\n",
    "RAM_ROM=[]\n",
    "primary_camera=[]\n",
    "secondry_camera=[]\n",
    "display_size=[]\n",
    "battery_capacity=[]\n",
    "price=[]\n",
    "product_url=[]"
   ]
  },
  {
   "cell_type": "code",
   "execution_count": 13,
   "id": "bd77d17c",
   "metadata": {},
   "outputs": [
    {
     "ename": "AttributeError",
     "evalue": "'str' object has no attribute 'text'",
     "output_type": "error",
     "traceback": [
      "\u001b[1;31m---------------------------------------------------------------------------\u001b[0m",
      "\u001b[1;31mAttributeError\u001b[0m                            Traceback (most recent call last)",
      "Cell \u001b[1;32mIn[13], line 3\u001b[0m\n\u001b[0;32m      1\u001b[0m brands\u001b[38;5;241m=\u001b[39mdriver\u001b[38;5;241m.\u001b[39mfind_elements(By\u001b[38;5;241m.\u001b[39mXPATH,\u001b[38;5;124m\"\u001b[39m\u001b[38;5;124m//div[@class=\u001b[39m\u001b[38;5;124m'\u001b[39m\u001b[38;5;124m_4rR01T\u001b[39m\u001b[38;5;124m'\u001b[39m\u001b[38;5;124m]\u001b[39m\u001b[38;5;124m\"\u001b[39m)\n\u001b[0;32m      2\u001b[0m \u001b[38;5;28;01mfor\u001b[39;00m i \u001b[38;5;129;01min\u001b[39;00m brands:\n\u001b[1;32m----> 3\u001b[0m     brands\u001b[38;5;241m.\u001b[39mappend(\u001b[43mi\u001b[49m\u001b[38;5;241;43m.\u001b[39;49m\u001b[43mtext\u001b[49m)\n",
      "\u001b[1;31mAttributeError\u001b[0m: 'str' object has no attribute 'text'"
     ]
    }
   ],
   "source": [
    "brands=driver.find_elements(By.XPATH,\"//div[@class='_4rR01T']\")\n",
    "for i in brands:\n",
    "    brands.append(i.text)\n"
   ]
  },
  {
   "cell_type": "code",
   "execution_count": null,
   "id": "2d2c9e2e",
   "metadata": {},
   "outputs": [],
   "source": []
  },
  {
   "cell_type": "code",
   "execution_count": 15,
   "id": "0a377c3e",
   "metadata": {},
   "outputs": [
    {
     "ename": "AttributeError",
     "evalue": "'str' object has no attribute 'text'",
     "output_type": "error",
     "traceback": [
      "\u001b[1;31m---------------------------------------------------------------------------\u001b[0m",
      "\u001b[1;31mAttributeError\u001b[0m                            Traceback (most recent call last)",
      "Cell \u001b[1;32mIn[15], line 4\u001b[0m\n\u001b[0;32m      1\u001b[0m RAM_ROM\u001b[38;5;241m=\u001b[39mdriver\u001b[38;5;241m.\u001b[39mfind_elements(By\u001b[38;5;241m.\u001b[39mXPATH,\u001b[38;5;124m\"\u001b[39m\u001b[38;5;124m//li[@class=\u001b[39m\u001b[38;5;124m'\u001b[39m\u001b[38;5;124mrgWa7D\u001b[39m\u001b[38;5;124m'\u001b[39m\u001b[38;5;124m]\u001b[39m\u001b[38;5;124m\"\u001b[39m)\n\u001b[0;32m      3\u001b[0m \u001b[38;5;28;01mfor\u001b[39;00m i \u001b[38;5;129;01min\u001b[39;00m RAM_ROM:\n\u001b[1;32m----> 4\u001b[0m     RAM_ROM\u001b[38;5;241m.\u001b[39mappend(\u001b[43mi\u001b[49m\u001b[38;5;241;43m.\u001b[39;49m\u001b[43mtext\u001b[49m)\n",
      "\u001b[1;31mAttributeError\u001b[0m: 'str' object has no attribute 'text'"
     ]
    }
   ],
   "source": [
    "RAM_ROM=driver.find_elements(By.XPATH,\"//li[@class='rgWa7D']\")\n",
    "\n",
    "for i in RAM_ROM:\n",
    "    RAM_ROM.append(i.text)"
   ]
  },
  {
   "cell_type": "markdown",
   "id": "4367d893",
   "metadata": {},
   "source": [
    "Q:7"
   ]
  },
  {
   "cell_type": "code",
   "execution_count": 20,
   "id": "b88eba93",
   "metadata": {},
   "outputs": [],
   "source": [
    "driver=webdriver.Chrome()"
   ]
  },
  {
   "cell_type": "code",
   "execution_count": 72,
   "id": "64c792a8",
   "metadata": {},
   "outputs": [],
   "source": [
    "driver.get(\"http://www.forbes.com/\")"
   ]
  },
  {
   "cell_type": "code",
   "execution_count": 73,
   "id": "ab9ef1e9",
   "metadata": {},
   "outputs": [],
   "source": [
    "rank_tags=[]\n",
    "name_tags=[]\n",
    "networth_tags=[]\n",
    "age_tags=[]\n",
    "citizenship_tags=[]\n",
    "sourc_tagse=[]\n",
    "industry_tags=[]\n"
   ]
  },
  {
   "cell_type": "code",
   "execution_count": null,
   "id": "6a106fea",
   "metadata": {},
   "outputs": [],
   "source": []
  },
  {
   "cell_type": "code",
   "execution_count": 77,
   "id": "28ac4621",
   "metadata": {},
   "outputs": [],
   "source": [
    "rank_title=driver.find_elements(By.XPATH,'//div[@class=\"LeftRail_container__9pEea TableRow_leftRailTable__x2FIq\"]/div[@class=\"TableRow_rowContainer__IC1Tv\"]//div[@class=\"TableRow_row__L-0Km\"]/div[1] ')\n",
    "\n",
    "for i in rank_title:\n",
    "    rank=i.text\n",
    "    rank_tags.append(rank)"
   ]
  },
  {
   "cell_type": "code",
   "execution_count": 78,
   "id": "dbc8dd90",
   "metadata": {},
   "outputs": [
    {
     "name": "stdout",
     "output_type": "stream",
     "text": [
      "199\n"
     ]
    }
   ],
   "source": [
    "print(len(rank_tags))"
   ]
  },
  {
   "cell_type": "code",
   "execution_count": 81,
   "id": "8dc41690",
   "metadata": {},
   "outputs": [],
   "source": [
    "name_title=driver.find_elements(By.XPATH,'//div[@class=\"LeftRail_container__9pEea TableRow_leftRailTable__x2FIq\"]/div[@class=\"TableRow_rowContainer__IC1Tv\"]//div[@class=\"TableRow_row__L-0Km\"]/div[2]')\n",
    "\n",
    "for i in name_title:\n",
    "    name=i.text\n",
    "    name_tags.append(name)"
   ]
  },
  {
   "cell_type": "code",
   "execution_count": 82,
   "id": "64ead229",
   "metadata": {},
   "outputs": [
    {
     "name": "stdout",
     "output_type": "stream",
     "text": [
      "199\n"
     ]
    }
   ],
   "source": [
    "print(len(name_tags))"
   ]
  },
  {
   "cell_type": "code",
   "execution_count": 84,
   "id": "49f133af",
   "metadata": {},
   "outputs": [],
   "source": [
    "networth_title=driver.find_elements(By.XPATH,'//div[@class=\"LeftRail_container__9pEea TableRow_leftRailTable__x2FIq\"]/div[@class=\"TableRow_rowContainer__IC1Tv\"]//div[@class=\"TableRow_row__L-0Km\"]/div[3]')\n",
    "\n",
    "for i in networth_title:\n",
    "    networth=i.text\n",
    "    networth_tags.append(networth)"
   ]
  },
  {
   "cell_type": "code",
   "execution_count": 85,
   "id": "d7e16ecb",
   "metadata": {},
   "outputs": [
    {
     "name": "stdout",
     "output_type": "stream",
     "text": [
      "199\n"
     ]
    }
   ],
   "source": [
    "print(len(networth_tags))"
   ]
  },
  {
   "cell_type": "code",
   "execution_count": 86,
   "id": "26f33b41",
   "metadata": {},
   "outputs": [],
   "source": [
    "age_title=driver.find_elements(By.XPATH,'//div[@class=\"LeftRail_container__9pEea TableRow_leftRailTable__x2FIq\"]/div[@class=\"TableRow_rowContainer__IC1Tv\"]//div[@class=\"TableRow_row__L-0Km\"]/div[4]')\n",
    "\n",
    "for i in age_title:\n",
    "    age=i.text\n",
    "    age_tags.append(age)"
   ]
  },
  {
   "cell_type": "code",
   "execution_count": 87,
   "id": "b51a66d9",
   "metadata": {},
   "outputs": [
    {
     "name": "stdout",
     "output_type": "stream",
     "text": [
      "199\n"
     ]
    }
   ],
   "source": [
    "print(len(age_tags))"
   ]
  },
  {
   "cell_type": "code",
   "execution_count": 88,
   "id": "00fdd4f9",
   "metadata": {},
   "outputs": [],
   "source": [
    "citizen_title=driver.find_elements(By.XPATH,'//div[@class=\"LeftRail_container__9pEea TableRow_leftRailTable__x2FIq\"]/div[@class=\"TableRow_rowContainer__IC1Tv\"]//div[@class=\"TableRow_row__L-0Km\"]/div[5]')\n",
    "\n",
    "for i in citizen_title:\n",
    "    citizen=i.text\n",
    "    citizenship_tags.append(citizen)"
   ]
  },
  {
   "cell_type": "code",
   "execution_count": 89,
   "id": "942c3acb",
   "metadata": {},
   "outputs": [
    {
     "name": "stdout",
     "output_type": "stream",
     "text": [
      "199\n"
     ]
    }
   ],
   "source": [
    "print(len(citizenship_tags))"
   ]
  },
  {
   "cell_type": "code",
   "execution_count": 91,
   "id": "ccf82e92",
   "metadata": {},
   "outputs": [],
   "source": [
    "source_title=driver.find_elements(By.XPATH,'//div[@class=\"LeftRail_container__9pEea TableRow_leftRailTable__x2FIq\"]/div[@class=\"TableRow_rowContainer__IC1Tv\"]//div[@class=\"TableRow_row__L-0Km\"]/div[6]')\n",
    "\n",
    "\n",
    "for i in source_title:\n",
    "    source=i.text\n",
    "    sourc_tagse.append(source)"
   ]
  },
  {
   "cell_type": "code",
   "execution_count": 92,
   "id": "e4ecfd84",
   "metadata": {},
   "outputs": [
    {
     "name": "stdout",
     "output_type": "stream",
     "text": [
      "199\n"
     ]
    }
   ],
   "source": [
    "print(len(sourc_tagse))"
   ]
  },
  {
   "cell_type": "code",
   "execution_count": 93,
   "id": "5c2dfa60",
   "metadata": {},
   "outputs": [],
   "source": [
    "industry_title=driver.find_elements(By.XPATH,'//div[@class=\"LeftRail_container__9pEea TableRow_leftRailTable__x2FIq\"]/div[@class=\"TableRow_rowContainer__IC1Tv\"]//div[@class=\"TableRow_row__L-0Km\"]/div[7]')\n",
    "\n",
    "for i in industry_title:\n",
    "    industry=i.text\n",
    "    industry_tags.append(industry)"
   ]
  },
  {
   "cell_type": "code",
   "execution_count": 94,
   "id": "c28b368b",
   "metadata": {},
   "outputs": [
    {
     "name": "stdout",
     "output_type": "stream",
     "text": [
      "199\n"
     ]
    }
   ],
   "source": [
    "print(len(industry_tags))"
   ]
  },
  {
   "cell_type": "code",
   "execution_count": 95,
   "id": "545da45d",
   "metadata": {},
   "outputs": [],
   "source": [
    "df=pd.DataFrame({\"Rank\":rank_tags,\"Name\":name_tags,\"Networth\":networth_tags,\"Age\":age_tags,\"CitizenShip\":citizenship_tags,\"Source\":sourc_tagse,\"Industry\":industry_tags})\n"
   ]
  },
  {
   "cell_type": "code",
   "execution_count": 96,
   "id": "3dcdb577",
   "metadata": {},
   "outputs": [
    {
     "data": {
      "text/html": [
       "<div>\n",
       "<style scoped>\n",
       "    .dataframe tbody tr th:only-of-type {\n",
       "        vertical-align: middle;\n",
       "    }\n",
       "\n",
       "    .dataframe tbody tr th {\n",
       "        vertical-align: top;\n",
       "    }\n",
       "\n",
       "    .dataframe thead th {\n",
       "        text-align: right;\n",
       "    }\n",
       "</style>\n",
       "<table border=\"1\" class=\"dataframe\">\n",
       "  <thead>\n",
       "    <tr style=\"text-align: right;\">\n",
       "      <th></th>\n",
       "      <th>Rank</th>\n",
       "      <th>Name</th>\n",
       "      <th>Networth</th>\n",
       "      <th>Age</th>\n",
       "      <th>CitizenShip</th>\n",
       "      <th>Source</th>\n",
       "      <th>Industry</th>\n",
       "    </tr>\n",
       "  </thead>\n",
       "  <tbody>\n",
       "    <tr>\n",
       "      <th>0</th>\n",
       "      <td>2</td>\n",
       "      <td>Elon Musk</td>\n",
       "      <td>$180 B</td>\n",
       "      <td>51</td>\n",
       "      <td>United States</td>\n",
       "      <td>Tesla, SpaceX</td>\n",
       "      <td>Automotive</td>\n",
       "    </tr>\n",
       "    <tr>\n",
       "      <th>1</th>\n",
       "      <td>3</td>\n",
       "      <td>Jeff Bezos</td>\n",
       "      <td>$114 B</td>\n",
       "      <td>59</td>\n",
       "      <td>United States</td>\n",
       "      <td>Amazon</td>\n",
       "      <td>Technology</td>\n",
       "    </tr>\n",
       "    <tr>\n",
       "      <th>2</th>\n",
       "      <td>4</td>\n",
       "      <td>Larry Ellison</td>\n",
       "      <td>$107 B</td>\n",
       "      <td>78</td>\n",
       "      <td>United States</td>\n",
       "      <td>Oracle</td>\n",
       "      <td>Technology</td>\n",
       "    </tr>\n",
       "    <tr>\n",
       "      <th>3</th>\n",
       "      <td>5</td>\n",
       "      <td>Warren Buffett</td>\n",
       "      <td>$106 B</td>\n",
       "      <td>92</td>\n",
       "      <td>United States</td>\n",
       "      <td>Berkshire Hathaway</td>\n",
       "      <td>Finance &amp; Investments</td>\n",
       "    </tr>\n",
       "    <tr>\n",
       "      <th>4</th>\n",
       "      <td>6</td>\n",
       "      <td>Bill Gates</td>\n",
       "      <td>$104 B</td>\n",
       "      <td>67</td>\n",
       "      <td>United States</td>\n",
       "      <td>Microsoft</td>\n",
       "      <td>Technology</td>\n",
       "    </tr>\n",
       "    <tr>\n",
       "      <th>...</th>\n",
       "      <td>...</td>\n",
       "      <td>...</td>\n",
       "      <td>...</td>\n",
       "      <td>...</td>\n",
       "      <td>...</td>\n",
       "      <td>...</td>\n",
       "      <td>...</td>\n",
       "    </tr>\n",
       "    <tr>\n",
       "      <th>194</th>\n",
       "      <td>195</td>\n",
       "      <td>Jin Baofang</td>\n",
       "      <td>$9.6 B</td>\n",
       "      <td>70</td>\n",
       "      <td>China</td>\n",
       "      <td>Solar panels</td>\n",
       "      <td>Energy</td>\n",
       "    </tr>\n",
       "    <tr>\n",
       "      <th>195</th>\n",
       "      <td>195</td>\n",
       "      <td>Luo Liguo &amp; family</td>\n",
       "      <td>$9.6 B</td>\n",
       "      <td>67</td>\n",
       "      <td>China</td>\n",
       "      <td>Chemicals</td>\n",
       "      <td>Manufacturing</td>\n",
       "    </tr>\n",
       "    <tr>\n",
       "      <th>196</th>\n",
       "      <td>195</td>\n",
       "      <td>Marijke Mars</td>\n",
       "      <td>$9.6 B</td>\n",
       "      <td>58</td>\n",
       "      <td>United States</td>\n",
       "      <td>Candy, pet food</td>\n",
       "      <td>Food &amp; Beverage</td>\n",
       "    </tr>\n",
       "    <tr>\n",
       "      <th>197</th>\n",
       "      <td>195</td>\n",
       "      <td>Pamela Mars</td>\n",
       "      <td>$9.6 B</td>\n",
       "      <td>62</td>\n",
       "      <td>United States</td>\n",
       "      <td>Candy, pet food</td>\n",
       "      <td>Food &amp; Beverage</td>\n",
       "    </tr>\n",
       "    <tr>\n",
       "      <th>198</th>\n",
       "      <td>195</td>\n",
       "      <td>Valerie Mars</td>\n",
       "      <td>$9.6 B</td>\n",
       "      <td>64</td>\n",
       "      <td>United States</td>\n",
       "      <td>Candy, pet food</td>\n",
       "      <td>Food &amp; Beverage</td>\n",
       "    </tr>\n",
       "  </tbody>\n",
       "</table>\n",
       "<p>199 rows × 7 columns</p>\n",
       "</div>"
      ],
      "text/plain": [
       "    Rank                Name Networth Age    CitizenShip              Source  \\\n",
       "0      2           Elon Musk   $180 B  51  United States       Tesla, SpaceX   \n",
       "1      3          Jeff Bezos   $114 B  59  United States              Amazon   \n",
       "2      4       Larry Ellison   $107 B  78  United States              Oracle   \n",
       "3      5      Warren Buffett   $106 B  92  United States  Berkshire Hathaway   \n",
       "4      6          Bill Gates   $104 B  67  United States           Microsoft   \n",
       "..   ...                 ...      ...  ..            ...                 ...   \n",
       "194  195         Jin Baofang   $9.6 B  70          China        Solar panels   \n",
       "195  195  Luo Liguo & family   $9.6 B  67          China           Chemicals   \n",
       "196  195        Marijke Mars   $9.6 B  58  United States     Candy, pet food   \n",
       "197  195         Pamela Mars   $9.6 B  62  United States     Candy, pet food   \n",
       "198  195        Valerie Mars   $9.6 B  64  United States     Candy, pet food   \n",
       "\n",
       "                  Industry  \n",
       "0               Automotive  \n",
       "1               Technology  \n",
       "2               Technology  \n",
       "3    Finance & Investments  \n",
       "4               Technology  \n",
       "..                     ...  \n",
       "194                 Energy  \n",
       "195          Manufacturing  \n",
       "196        Food & Beverage  \n",
       "197        Food & Beverage  \n",
       "198        Food & Beverage  \n",
       "\n",
       "[199 rows x 7 columns]"
      ]
     },
     "execution_count": 96,
     "metadata": {},
     "output_type": "execute_result"
    }
   ],
   "source": [
    "df"
   ]
  },
  {
   "cell_type": "code",
   "execution_count": null,
   "id": "2c2ea2bd",
   "metadata": {},
   "outputs": [],
   "source": []
  },
  {
   "cell_type": "markdown",
   "id": "4ae29a94",
   "metadata": {},
   "source": [
    "Q:9"
   ]
  },
  {
   "cell_type": "code",
   "execution_count": 21,
   "id": "0c3f4b61",
   "metadata": {},
   "outputs": [],
   "source": [
    "driver.get(\"http://www.hostelworld.com/\")"
   ]
  },
  {
   "cell_type": "code",
   "execution_count": 26,
   "id": "08e0d978",
   "metadata": {},
   "outputs": [],
   "source": [
    "search=driver.find_element(By.XPATH,\"/html/body/div[3]/div/div/div[2]/div[2]/div[2]/div/div/div/div[1]/div[1]/div/div[2]/input\")\n",
    "search.send_keys('London')"
   ]
  },
  {
   "cell_type": "code",
   "execution_count": 27,
   "id": "9e2c4a55",
   "metadata": {},
   "outputs": [],
   "source": [
    "hostel_tags=[]"
   ]
  },
  {
   "cell_type": "code",
   "execution_count": 30,
   "id": "6ca68a86",
   "metadata": {},
   "outputs": [],
   "source": [
    "hostel_name=driver.find_elements(By.XPATH,\"//div[@class='property-info-header']/div[1]\")\n",
    "for i in hostel_name:\n",
    "    hostel=i.text\n",
    "    hostel_tags.append(hostel)"
   ]
  },
  {
   "cell_type": "code",
   "execution_count": 31,
   "id": "b65dc97d",
   "metadata": {},
   "outputs": [],
   "source": [
    "distance_tags=[]"
   ]
  },
  {
   "cell_type": "code",
   "execution_count": 34,
   "id": "28b5b168",
   "metadata": {},
   "outputs": [],
   "source": [
    "distance_name=driver.find_elements(By.XPATH,\"//span[@class='distance-description']\")\n",
    "for i in distance_name:\n",
    "    distance=i.text\n",
    "    distance_tags.append(distance)"
   ]
  },
  {
   "cell_type": "code",
   "execution_count": 35,
   "id": "c26df8d0",
   "metadata": {},
   "outputs": [],
   "source": [
    "rating_tags=[]"
   ]
  },
  {
   "cell_type": "code",
   "execution_count": 36,
   "id": "629e5f85",
   "metadata": {},
   "outputs": [],
   "source": [
    "rating_name=driver.find_elements(By.XPATH,\"//div[@class='rating medium theme-null']\")\n",
    "\n",
    "for i in rating_name:\n",
    "    rating=i.text\n",
    "    rating_tags.append(rating)"
   ]
  },
  {
   "cell_type": "code",
   "execution_count": 37,
   "id": "43cf9110",
   "metadata": {},
   "outputs": [],
   "source": [
    "reviewe_tags=[]"
   ]
  },
  {
   "cell_type": "code",
   "execution_count": 38,
   "id": "3a26d11c",
   "metadata": {},
   "outputs": [],
   "source": [
    "reviewe_name=driver.find_elements(By.XPATH,\"//div[@class='review']\")\n",
    "\n",
    "for i in reviewe_name:\n",
    "    reviewe=i.text\n",
    "    reviewe_tags.append(reviewe)"
   ]
  },
  {
   "cell_type": "code",
   "execution_count": 39,
   "id": "a329e002",
   "metadata": {},
   "outputs": [],
   "source": [
    "price_tags=[]"
   ]
  },
  {
   "cell_type": "code",
   "execution_count": 40,
   "id": "b43c9efd",
   "metadata": {},
   "outputs": [],
   "source": [
    "price_name=driver.find_elements(By.XPATH,\"//div[@class='property-accommodation-prices']/div[1]\")\n",
    "\n",
    "for i in price_name:\n",
    "    price=i.text\n",
    "    price_tags.append(price)"
   ]
  },
  {
   "cell_type": "code",
   "execution_count": 41,
   "id": "5c2bfd45",
   "metadata": {},
   "outputs": [],
   "source": [
    "dorms_tags=[]"
   ]
  },
  {
   "cell_type": "code",
   "execution_count": 42,
   "id": "eb94040f",
   "metadata": {},
   "outputs": [],
   "source": [
    "dorms_name=driver.find_elements(By.XPATH,\"//div[@class='property-accommodation-prices']/div[2]\")\n",
    "\n",
    "for i in dorms_name:\n",
    "    dorms=i.text\n",
    "    dorms_tags.append(dorms)"
   ]
  },
  {
   "cell_type": "code",
   "execution_count": 43,
   "id": "405aacb0",
   "metadata": {},
   "outputs": [],
   "source": [
    "facilities_tags=[]"
   ]
  },
  {
   "cell_type": "code",
   "execution_count": 44,
   "id": "4209246d",
   "metadata": {},
   "outputs": [],
   "source": [
    "facilities_name=driver.find_elements(By.XPATH,\"//div[@class='property-badges']\")\n",
    "\n",
    "for i in facilities_name:\n",
    "    facilities=i.text\n",
    "    facilities_tags.append(facilities)"
   ]
  },
  {
   "cell_type": "code",
   "execution_count": 46,
   "id": "fefaed22",
   "metadata": {},
   "outputs": [
    {
     "name": "stdout",
     "output_type": "stream",
     "text": [
      "30 30 30 30 30 30\n"
     ]
    }
   ],
   "source": [
    "print(len(rating_tags),len(reviewe_tags),len(price_tags),len(dorms_tags),len(distance_tags),len(facilities_tags))"
   ]
  },
  {
   "cell_type": "code",
   "execution_count": 47,
   "id": "71ab1e83",
   "metadata": {},
   "outputs": [],
   "source": [
    "df=pd.DataFrame({\"Ratings\":rating_tags,\"Reviewes\":reviewe_tags,\"Price\":price_tags,\"Dorms\":dorms_tags,\"Facilities\":facilities_tags})\n"
   ]
  },
  {
   "cell_type": "code",
   "execution_count": 48,
   "id": "154378fa",
   "metadata": {},
   "outputs": [
    {
     "data": {
      "text/html": [
       "<div>\n",
       "<style scoped>\n",
       "    .dataframe tbody tr th:only-of-type {\n",
       "        vertical-align: middle;\n",
       "    }\n",
       "\n",
       "    .dataframe tbody tr th {\n",
       "        vertical-align: top;\n",
       "    }\n",
       "\n",
       "    .dataframe thead th {\n",
       "        text-align: right;\n",
       "    }\n",
       "</style>\n",
       "<table border=\"1\" class=\"dataframe\">\n",
       "  <thead>\n",
       "    <tr style=\"text-align: right;\">\n",
       "      <th></th>\n",
       "      <th>Ratings</th>\n",
       "      <th>Reviewes</th>\n",
       "      <th>Price</th>\n",
       "      <th>Dorms</th>\n",
       "      <th>Facilities</th>\n",
       "    </tr>\n",
       "  </thead>\n",
       "  <tbody>\n",
       "    <tr>\n",
       "      <th>0</th>\n",
       "      <td>9.1\\nSuperb\\n(15894)</td>\n",
       "      <td>(15894)</td>\n",
       "      <td>-30%\\nPrivates From\\n₹18,899\\n₹13,229</td>\n",
       "      <td>No Dorms Available</td>\n",
       "      <td></td>\n",
       "    </tr>\n",
       "    <tr>\n",
       "      <th>1</th>\n",
       "      <td>8.8\\nFabulous\\n(15971)</td>\n",
       "      <td>(15971)</td>\n",
       "      <td>No Privates Available</td>\n",
       "      <td>-26%\\nDorms From\\n₹3,331\\n₹2,465</td>\n",
       "      <td></td>\n",
       "    </tr>\n",
       "    <tr>\n",
       "      <th>2</th>\n",
       "      <td>7.8\\nVery Good\\n(12871)</td>\n",
       "      <td>(12871)</td>\n",
       "      <td>No Privates Available</td>\n",
       "      <td>-10%\\nDorms From\\n₹1,849\\n₹1,664</td>\n",
       "      <td></td>\n",
       "    </tr>\n",
       "    <tr>\n",
       "      <th>3</th>\n",
       "      <td>8.9\\nFabulous\\n(2146)</td>\n",
       "      <td>(2146)</td>\n",
       "      <td>-20%\\nPrivates From\\n₹16,083\\n₹12,866</td>\n",
       "      <td>-15%\\nDorms From\\n₹3,424\\n₹2,910</td>\n",
       "      <td></td>\n",
       "    </tr>\n",
       "    <tr>\n",
       "      <th>4</th>\n",
       "      <td>9.5\\nSuperb\\n(1125)</td>\n",
       "      <td>(1125)</td>\n",
       "      <td>Privates From\\n₹12,469</td>\n",
       "      <td>Dorms From\\n₹3,318</td>\n",
       "      <td></td>\n",
       "    </tr>\n",
       "    <tr>\n",
       "      <th>5</th>\n",
       "      <td>9.6\\nSuperb\\n(2588)</td>\n",
       "      <td>(2588)</td>\n",
       "      <td>No Privates Available</td>\n",
       "      <td>Dorms From\\n₹3,260</td>\n",
       "      <td></td>\n",
       "    </tr>\n",
       "    <tr>\n",
       "      <th>6</th>\n",
       "      <td>7.5\\nVery Good\\n(8081)</td>\n",
       "      <td>(8081)</td>\n",
       "      <td>Privates From\\n₹11,964</td>\n",
       "      <td>Dorms From\\n₹3,185</td>\n",
       "      <td></td>\n",
       "    </tr>\n",
       "    <tr>\n",
       "      <th>7</th>\n",
       "      <td>9.6\\nSuperb\\n(131)</td>\n",
       "      <td>(131)</td>\n",
       "      <td>No Privates Available</td>\n",
       "      <td>Dorms From\\n₹4,322</td>\n",
       "      <td></td>\n",
       "    </tr>\n",
       "    <tr>\n",
       "      <th>8</th>\n",
       "      <td>8.2\\nFabulous\\n(12327)</td>\n",
       "      <td>(12327)</td>\n",
       "      <td>No Privates Available</td>\n",
       "      <td>-10%\\nDorms From\\n₹2,305\\n₹2,074</td>\n",
       "      <td></td>\n",
       "    </tr>\n",
       "    <tr>\n",
       "      <th>9</th>\n",
       "      <td>7.2\\nVery Good\\n(5278)</td>\n",
       "      <td>(5278)</td>\n",
       "      <td>Privates From\\n₹20,072</td>\n",
       "      <td>Dorms From\\n₹2,136</td>\n",
       "      <td></td>\n",
       "    </tr>\n",
       "    <tr>\n",
       "      <th>10</th>\n",
       "      <td>8.3\\nFabulous\\n(9455)</td>\n",
       "      <td>(9455)</td>\n",
       "      <td>Privates From\\n₹11,663</td>\n",
       "      <td>Dorms From\\n₹3,080</td>\n",
       "      <td></td>\n",
       "    </tr>\n",
       "    <tr>\n",
       "      <th>11</th>\n",
       "      <td>7.7\\nVery Good\\n(4178)</td>\n",
       "      <td>(4178)</td>\n",
       "      <td>No Privates Available</td>\n",
       "      <td>Dorms From\\n₹1,130</td>\n",
       "      <td></td>\n",
       "    </tr>\n",
       "    <tr>\n",
       "      <th>12</th>\n",
       "      <td>7.2\\nVery Good\\n(5201)</td>\n",
       "      <td>(5201)</td>\n",
       "      <td>Privates From\\n₹3,347</td>\n",
       "      <td>Dorms From\\n₹1,007</td>\n",
       "      <td></td>\n",
       "    </tr>\n",
       "    <tr>\n",
       "      <th>13</th>\n",
       "      <td>7.9\\nVery Good\\n(514)</td>\n",
       "      <td>(514)</td>\n",
       "      <td>Privates From\\n₹9,617</td>\n",
       "      <td>Dorms From\\n₹2,558</td>\n",
       "      <td></td>\n",
       "    </tr>\n",
       "    <tr>\n",
       "      <th>14</th>\n",
       "      <td>7.7\\nVery Good\\n(10205)</td>\n",
       "      <td>(10205)</td>\n",
       "      <td>No Privates Available</td>\n",
       "      <td>Dorms From\\n₹1,829</td>\n",
       "      <td></td>\n",
       "    </tr>\n",
       "    <tr>\n",
       "      <th>15</th>\n",
       "      <td>7.0\\nVery Good\\n(1781)</td>\n",
       "      <td>(1781)</td>\n",
       "      <td>No Privates Available</td>\n",
       "      <td>Dorms From\\n₹1,781</td>\n",
       "      <td></td>\n",
       "    </tr>\n",
       "    <tr>\n",
       "      <th>16</th>\n",
       "      <td>9.0\\nSuperb\\n(4703)</td>\n",
       "      <td>(4703)</td>\n",
       "      <td>Privates From\\n₹12,222</td>\n",
       "      <td>No Dorms Available</td>\n",
       "      <td></td>\n",
       "    </tr>\n",
       "    <tr>\n",
       "      <th>17</th>\n",
       "      <td>7.8\\nVery Good\\n(6800)</td>\n",
       "      <td>(6800)</td>\n",
       "      <td>Privates From\\n₹10,544</td>\n",
       "      <td>Dorms From\\n₹1,672</td>\n",
       "      <td></td>\n",
       "    </tr>\n",
       "    <tr>\n",
       "      <th>18</th>\n",
       "      <td>9.1\\nSuperb\\n(316)</td>\n",
       "      <td>(316)</td>\n",
       "      <td>No Privates Available</td>\n",
       "      <td>Dorms From\\n₹3,801</td>\n",
       "      <td></td>\n",
       "    </tr>\n",
       "    <tr>\n",
       "      <th>19</th>\n",
       "      <td>7.4\\nVery Good\\n(3685)</td>\n",
       "      <td>(3685)</td>\n",
       "      <td>No Privates Available</td>\n",
       "      <td>Dorms From\\n₹2,029</td>\n",
       "      <td></td>\n",
       "    </tr>\n",
       "    <tr>\n",
       "      <th>20</th>\n",
       "      <td>8.8\\nFabulous\\n(115)</td>\n",
       "      <td>(115)</td>\n",
       "      <td>No Privates Available</td>\n",
       "      <td>Dorms From\\n₹2,898</td>\n",
       "      <td></td>\n",
       "    </tr>\n",
       "    <tr>\n",
       "      <th>21</th>\n",
       "      <td>8.5\\nFabulous\\n(871)</td>\n",
       "      <td>(871)</td>\n",
       "      <td>No Privates Available</td>\n",
       "      <td>Dorms From\\n₹3,210</td>\n",
       "      <td></td>\n",
       "    </tr>\n",
       "    <tr>\n",
       "      <th>22</th>\n",
       "      <td>8.2\\nFabulous\\n(2977)</td>\n",
       "      <td>(2977)</td>\n",
       "      <td>No Privates Available</td>\n",
       "      <td>-20%\\nDorms From\\n₹4,562\\n₹3,650</td>\n",
       "      <td></td>\n",
       "    </tr>\n",
       "    <tr>\n",
       "      <th>23</th>\n",
       "      <td>8.1\\nFabulous\\n(4567)</td>\n",
       "      <td>(4567)</td>\n",
       "      <td>No Privates Available</td>\n",
       "      <td>Dorms From\\n₹1,467</td>\n",
       "      <td></td>\n",
       "    </tr>\n",
       "    <tr>\n",
       "      <th>24</th>\n",
       "      <td>8.3\\nFabulous\\n(3143)</td>\n",
       "      <td>(3143)</td>\n",
       "      <td>No Privates Available</td>\n",
       "      <td>Dorms From\\n₹2,175</td>\n",
       "      <td></td>\n",
       "    </tr>\n",
       "    <tr>\n",
       "      <th>25</th>\n",
       "      <td>8.5\\nFabulous\\n(6594)</td>\n",
       "      <td>(6594)</td>\n",
       "      <td>-10%\\nPrivates From\\n₹10,755\\n₹9,680</td>\n",
       "      <td>-10%\\nDorms From\\n₹1,956\\n₹1,760</td>\n",
       "      <td></td>\n",
       "    </tr>\n",
       "    <tr>\n",
       "      <th>26</th>\n",
       "      <td>7.7\\nVery Good\\n(4389)</td>\n",
       "      <td>(4389)</td>\n",
       "      <td>No Privates Available</td>\n",
       "      <td>-10%\\nDorms From\\n₹2,082\\n₹1,873</td>\n",
       "      <td></td>\n",
       "    </tr>\n",
       "    <tr>\n",
       "      <th>27</th>\n",
       "      <td>7.3\\nVery Good\\n(15097)</td>\n",
       "      <td>(15097)</td>\n",
       "      <td>Privates From\\n₹10,895</td>\n",
       "      <td>Dorms From\\n₹1,956</td>\n",
       "      <td></td>\n",
       "    </tr>\n",
       "    <tr>\n",
       "      <th>28</th>\n",
       "      <td>6.3\\nGood\\n(4624)</td>\n",
       "      <td>(4624)</td>\n",
       "      <td>-5%\\nPrivates From\\n₹6,003\\n₹5,703</td>\n",
       "      <td>-5%\\nDorms From\\n₹1,603\\n₹1,523</td>\n",
       "      <td></td>\n",
       "    </tr>\n",
       "    <tr>\n",
       "      <th>29</th>\n",
       "      <td>9.1\\nSuperb\\n(2041)</td>\n",
       "      <td>(2041)</td>\n",
       "      <td>Privates From\\n₹6,984</td>\n",
       "      <td>Dorms From\\n₹2,968</td>\n",
       "      <td></td>\n",
       "    </tr>\n",
       "  </tbody>\n",
       "</table>\n",
       "</div>"
      ],
      "text/plain": [
       "                    Ratings Reviewes                                  Price  \\\n",
       "0      9.1\\nSuperb\\n(15894)  (15894)  -30%\\nPrivates From\\n₹18,899\\n₹13,229   \n",
       "1    8.8\\nFabulous\\n(15971)  (15971)                  No Privates Available   \n",
       "2   7.8\\nVery Good\\n(12871)  (12871)                  No Privates Available   \n",
       "3     8.9\\nFabulous\\n(2146)   (2146)  -20%\\nPrivates From\\n₹16,083\\n₹12,866   \n",
       "4       9.5\\nSuperb\\n(1125)   (1125)                 Privates From\\n₹12,469   \n",
       "5       9.6\\nSuperb\\n(2588)   (2588)                  No Privates Available   \n",
       "6    7.5\\nVery Good\\n(8081)   (8081)                 Privates From\\n₹11,964   \n",
       "7        9.6\\nSuperb\\n(131)    (131)                  No Privates Available   \n",
       "8    8.2\\nFabulous\\n(12327)  (12327)                  No Privates Available   \n",
       "9    7.2\\nVery Good\\n(5278)   (5278)                 Privates From\\n₹20,072   \n",
       "10    8.3\\nFabulous\\n(9455)   (9455)                 Privates From\\n₹11,663   \n",
       "11   7.7\\nVery Good\\n(4178)   (4178)                  No Privates Available   \n",
       "12   7.2\\nVery Good\\n(5201)   (5201)                  Privates From\\n₹3,347   \n",
       "13    7.9\\nVery Good\\n(514)    (514)                  Privates From\\n₹9,617   \n",
       "14  7.7\\nVery Good\\n(10205)  (10205)                  No Privates Available   \n",
       "15   7.0\\nVery Good\\n(1781)   (1781)                  No Privates Available   \n",
       "16      9.0\\nSuperb\\n(4703)   (4703)                 Privates From\\n₹12,222   \n",
       "17   7.8\\nVery Good\\n(6800)   (6800)                 Privates From\\n₹10,544   \n",
       "18       9.1\\nSuperb\\n(316)    (316)                  No Privates Available   \n",
       "19   7.4\\nVery Good\\n(3685)   (3685)                  No Privates Available   \n",
       "20     8.8\\nFabulous\\n(115)    (115)                  No Privates Available   \n",
       "21     8.5\\nFabulous\\n(871)    (871)                  No Privates Available   \n",
       "22    8.2\\nFabulous\\n(2977)   (2977)                  No Privates Available   \n",
       "23    8.1\\nFabulous\\n(4567)   (4567)                  No Privates Available   \n",
       "24    8.3\\nFabulous\\n(3143)   (3143)                  No Privates Available   \n",
       "25    8.5\\nFabulous\\n(6594)   (6594)   -10%\\nPrivates From\\n₹10,755\\n₹9,680   \n",
       "26   7.7\\nVery Good\\n(4389)   (4389)                  No Privates Available   \n",
       "27  7.3\\nVery Good\\n(15097)  (15097)                 Privates From\\n₹10,895   \n",
       "28        6.3\\nGood\\n(4624)   (4624)     -5%\\nPrivates From\\n₹6,003\\n₹5,703   \n",
       "29      9.1\\nSuperb\\n(2041)   (2041)                  Privates From\\n₹6,984   \n",
       "\n",
       "                               Dorms Facilities  \n",
       "0                 No Dorms Available             \n",
       "1   -26%\\nDorms From\\n₹3,331\\n₹2,465             \n",
       "2   -10%\\nDorms From\\n₹1,849\\n₹1,664             \n",
       "3   -15%\\nDorms From\\n₹3,424\\n₹2,910             \n",
       "4                 Dorms From\\n₹3,318             \n",
       "5                 Dorms From\\n₹3,260             \n",
       "6                 Dorms From\\n₹3,185             \n",
       "7                 Dorms From\\n₹4,322             \n",
       "8   -10%\\nDorms From\\n₹2,305\\n₹2,074             \n",
       "9                 Dorms From\\n₹2,136             \n",
       "10                Dorms From\\n₹3,080             \n",
       "11                Dorms From\\n₹1,130             \n",
       "12                Dorms From\\n₹1,007             \n",
       "13                Dorms From\\n₹2,558             \n",
       "14                Dorms From\\n₹1,829             \n",
       "15                Dorms From\\n₹1,781             \n",
       "16                No Dorms Available             \n",
       "17                Dorms From\\n₹1,672             \n",
       "18                Dorms From\\n₹3,801             \n",
       "19                Dorms From\\n₹2,029             \n",
       "20                Dorms From\\n₹2,898             \n",
       "21                Dorms From\\n₹3,210             \n",
       "22  -20%\\nDorms From\\n₹4,562\\n₹3,650             \n",
       "23                Dorms From\\n₹1,467             \n",
       "24                Dorms From\\n₹2,175             \n",
       "25  -10%\\nDorms From\\n₹1,956\\n₹1,760             \n",
       "26  -10%\\nDorms From\\n₹2,082\\n₹1,873             \n",
       "27                Dorms From\\n₹1,956             \n",
       "28   -5%\\nDorms From\\n₹1,603\\n₹1,523             \n",
       "29                Dorms From\\n₹2,968             "
      ]
     },
     "execution_count": 48,
     "metadata": {},
     "output_type": "execute_result"
    }
   ],
   "source": [
    "df"
   ]
  },
  {
   "cell_type": "code",
   "execution_count": null,
   "id": "64407cad",
   "metadata": {},
   "outputs": [],
   "source": []
  },
  {
   "cell_type": "code",
   "execution_count": 4,
   "id": "8919eace",
   "metadata": {},
   "outputs": [],
   "source": [
    "driver.get(\"https://www.youtube.com/redirect?event=video_description&redir_token=QUFFLUhqbFRmR0FZaVNWZkJYZFBLNHlycE5tOWZodHAzZ3xBQ3Jtc0tuY0dsbVZHeFJTbjJNRkFKeXpyM1F6M2lBaFRGSFQwejROQjRPQXpZX1R1eEwwNFBuQVd1WDBCTXJKRXJ4ZE5sVlpGT0YtSnJxbTl4aFBZb0tQYkJ3R1RZOTUwNW0zenFuUGxha3l1aFBOWVZyZUcwbw&q=http%3A%2F%2Fbit.ly%2FTSeriesYouTube&v=2ibPLYwVM38\")"
   ]
  },
  {
   "cell_type": "code",
   "execution_count": 5,
   "id": "8297e790",
   "metadata": {},
   "outputs": [],
   "source": [
    "TSEREIS_Comment=[]"
   ]
  },
  {
   "cell_type": "code",
   "execution_count": 11,
   "id": "f7d2956f",
   "metadata": {},
   "outputs": [],
   "source": [
    "comments_x=driver.find_elements(By.XPATH,\"//span[@class='style-scope yt-formatted-string']\")\n",
    "\n",
    "for i in comments_x:\n",
    "    comment=i.text\n",
    "    TSEREIS_Comment.append(comment)"
   ]
  },
  {
   "cell_type": "code",
   "execution_count": 12,
   "id": "8d8d48e3",
   "metadata": {},
   "outputs": [],
   "source": [
    "df=pd.DataFrame({\"COMMENTS\":TSEREIS_Comment})"
   ]
  },
  {
   "cell_type": "code",
   "execution_count": 13,
   "id": "15c00a5f",
   "metadata": {},
   "outputs": [
    {
     "data": {
      "text/html": [
       "<div>\n",
       "<style scoped>\n",
       "    .dataframe tbody tr th:only-of-type {\n",
       "        vertical-align: middle;\n",
       "    }\n",
       "\n",
       "    .dataframe tbody tr th {\n",
       "        vertical-align: top;\n",
       "    }\n",
       "\n",
       "    .dataframe thead th {\n",
       "        text-align: right;\n",
       "    }\n",
       "</style>\n",
       "<table border=\"1\" class=\"dataframe\">\n",
       "  <thead>\n",
       "    <tr style=\"text-align: right;\">\n",
       "      <th></th>\n",
       "      <th>COMMENTS</th>\n",
       "    </tr>\n",
       "  </thead>\n",
       "  <tbody>\n",
       "    <tr>\n",
       "      <th>0</th>\n",
       "      <td></td>\n",
       "    </tr>\n",
       "    <tr>\n",
       "      <th>1</th>\n",
       "      <td></td>\n",
       "    </tr>\n",
       "    <tr>\n",
       "      <th>2</th>\n",
       "      <td></td>\n",
       "    </tr>\n",
       "    <tr>\n",
       "      <th>3</th>\n",
       "      <td></td>\n",
       "    </tr>\n",
       "    <tr>\n",
       "      <th>4</th>\n",
       "      <td></td>\n",
       "    </tr>\n",
       "    <tr>\n",
       "      <th>...</th>\n",
       "      <td>...</td>\n",
       "    </tr>\n",
       "    <tr>\n",
       "      <th>259</th>\n",
       "      <td>sidha Dil chu jaate hai</td>\n",
       "    </tr>\n",
       "    <tr>\n",
       "      <th>260</th>\n",
       "      <td>Arijit singh</td>\n",
       "    </tr>\n",
       "    <tr>\n",
       "      <th>261</th>\n",
       "      <td></td>\n",
       "    </tr>\n",
       "    <tr>\n",
       "      <th>262</th>\n",
       "      <td></td>\n",
       "    </tr>\n",
       "    <tr>\n",
       "      <th>263</th>\n",
       "      <td></td>\n",
       "    </tr>\n",
       "  </tbody>\n",
       "</table>\n",
       "<p>264 rows × 1 columns</p>\n",
       "</div>"
      ],
      "text/plain": [
       "                      COMMENTS\n",
       "0                             \n",
       "1                             \n",
       "2                             \n",
       "3                             \n",
       "4                             \n",
       "..                         ...\n",
       "259   sidha Dil chu jaate hai \n",
       "260              Arijit singh \n",
       "261                           \n",
       "262                           \n",
       "263                           \n",
       "\n",
       "[264 rows x 1 columns]"
      ]
     },
     "execution_count": 13,
     "metadata": {},
     "output_type": "execute_result"
    }
   ],
   "source": [
    "df"
   ]
  },
  {
   "cell_type": "code",
   "execution_count": 10,
   "id": "33183265",
   "metadata": {},
   "outputs": [
    {
     "data": {
      "text/html": [
       "<div>\n",
       "<style scoped>\n",
       "    .dataframe tbody tr th:only-of-type {\n",
       "        vertical-align: middle;\n",
       "    }\n",
       "\n",
       "    .dataframe tbody tr th {\n",
       "        vertical-align: top;\n",
       "    }\n",
       "\n",
       "    .dataframe thead th {\n",
       "        text-align: right;\n",
       "    }\n",
       "</style>\n",
       "<table border=\"1\" class=\"dataframe\">\n",
       "  <thead>\n",
       "    <tr style=\"text-align: right;\">\n",
       "      <th></th>\n",
       "      <th>COMMENTS</th>\n",
       "    </tr>\n",
       "  </thead>\n",
       "  <tbody>\n",
       "    <tr>\n",
       "      <th>0</th>\n",
       "      <td></td>\n",
       "    </tr>\n",
       "    <tr>\n",
       "      <th>1</th>\n",
       "      <td></td>\n",
       "    </tr>\n",
       "    <tr>\n",
       "      <th>2</th>\n",
       "      <td></td>\n",
       "    </tr>\n",
       "    <tr>\n",
       "      <th>3</th>\n",
       "      <td></td>\n",
       "    </tr>\n",
       "    <tr>\n",
       "      <th>4</th>\n",
       "      <td></td>\n",
       "    </tr>\n",
       "  </tbody>\n",
       "</table>\n",
       "</div>"
      ],
      "text/plain": [
       "  COMMENTS\n",
       "0         \n",
       "1         \n",
       "2         \n",
       "3         \n",
       "4         "
      ]
     },
     "execution_count": 10,
     "metadata": {},
     "output_type": "execute_result"
    }
   ],
   "source": [
    "df.head()"
   ]
  },
  {
   "cell_type": "markdown",
   "id": "c8fb1432",
   "metadata": {},
   "source": [
    "Q:3"
   ]
  },
  {
   "cell_type": "code",
   "execution_count": 44,
   "id": "8059f576",
   "metadata": {},
   "outputs": [],
   "source": [
    "search=driver.find_element(By.XPATH,\"/html/body/div[5]/div/form/input[1]\")\n",
    "search.send_keys(\"gaming laptops\")"
   ]
  },
  {
   "cell_type": "code",
   "execution_count": 45,
   "id": "e6507d20",
   "metadata": {},
   "outputs": [],
   "source": [
    "button=driver.find_element(By.XPATH,\"/html/body/div[5]/div/form/button/i\")\n",
    "button.click()"
   ]
  },
  {
   "cell_type": "markdown",
   "id": "2d52de84",
   "metadata": {},
   "source": [
    "Q:5"
   ]
  },
  {
   "cell_type": "code",
   "execution_count": 5,
   "id": "aaa64a9f",
   "metadata": {},
   "outputs": [],
   "source": [
    "driver.get(\"https://maps.google.com/\")"
   ]
  },
  {
   "cell_type": "code",
   "execution_count": 6,
   "id": "62519d60",
   "metadata": {},
   "outputs": [],
   "source": [
    "search=driver.find_element(By.XPATH,\"/html/body/div[1]/div[3]/div[8]/div[3]/div[1]/div[1]/div/div[2]/form/input\")\n",
    "search.send_keys(\"Pune\")"
   ]
  },
  {
   "cell_type": "code",
   "execution_count": 7,
   "id": "f398d9fb",
   "metadata": {},
   "outputs": [],
   "source": [
    "button=driver.find_element(By.XPATH,\"/html/body/div[1]/div[3]/div[8]/div[3]/div[1]/div[1]/div/div[2]/div[1]/button/span\")\n",
    "button.click()"
   ]
  },
  {
   "cell_type": "code",
   "execution_count": 8,
   "id": "441196c5",
   "metadata": {},
   "outputs": [],
   "source": [
    "import regex as re"
   ]
  },
  {
   "cell_type": "code",
   "execution_count": 9,
   "id": "2f984fe9",
   "metadata": {},
   "outputs": [],
   "source": [
    "url_string=driver.current_url\n",
    "    "
   ]
  },
  {
   "cell_type": "code",
   "execution_count": 10,
   "id": "02607189",
   "metadata": {},
   "outputs": [
    {
     "data": {
      "text/plain": [
       "'https://www.google.com/maps/place/Pune,+Maharashtra/@18.972803,72.8375046,14z/data=!4m6!3m5!1s0x3bc2bf2e67461101:0x828d43bf9d9ee343!8m2!3d18.5204303!4d73.8567437!16zL20vMDE1eTJx?entry=ttu'"
      ]
     },
     "execution_count": 10,
     "metadata": {},
     "output_type": "execute_result"
    }
   ],
   "source": [
    "url_string"
   ]
  },
  {
   "cell_type": "code",
   "execution_count": 11,
   "id": "ac73338f",
   "metadata": {},
   "outputs": [],
   "source": [
    "lat_lng=re.findall(r'@(.*)data',url_string)"
   ]
  },
  {
   "cell_type": "code",
   "execution_count": 12,
   "id": "5ee80a45",
   "metadata": {},
   "outputs": [
    {
     "name": "stdout",
     "output_type": "stream",
     "text": [
      "['18.972803,72.8375046,14z/']\n"
     ]
    }
   ],
   "source": [
    "print(lat_lng)"
   ]
  },
  {
   "cell_type": "code",
   "execution_count": 14,
   "id": "ccb882f9",
   "metadata": {},
   "outputs": [
    {
     "data": {
      "text/plain": [
       "list"
      ]
     },
     "execution_count": 14,
     "metadata": {},
     "output_type": "execute_result"
    }
   ],
   "source": [
    "type(lat_lng)"
   ]
  },
  {
   "cell_type": "code",
   "execution_count": 17,
   "id": "f155a6ba",
   "metadata": {},
   "outputs": [],
   "source": [
    "NEW=str(lat_lng)"
   ]
  },
  {
   "cell_type": "code",
   "execution_count": 18,
   "id": "44f3ca30",
   "metadata": {},
   "outputs": [
    {
     "data": {
      "text/plain": [
       "\"['18.972803,72.8375046,14z/']\""
      ]
     },
     "execution_count": 18,
     "metadata": {},
     "output_type": "execute_result"
    }
   ],
   "source": [
    "NEW"
   ]
  },
  {
   "cell_type": "code",
   "execution_count": 24,
   "id": "9910bc28",
   "metadata": {},
   "outputs": [
    {
     "data": {
      "text/plain": [
       "str"
      ]
     },
     "execution_count": 24,
     "metadata": {},
     "output_type": "execute_result"
    }
   ],
   "source": [
    "type(NEW)"
   ]
  },
  {
   "cell_type": "code",
   "execution_count": 70,
   "id": "3b4adc3b",
   "metadata": {},
   "outputs": [],
   "source": [
    "latittude=re.split(r\"^/d(,)$\",NEW,maxsplit=2)"
   ]
  },
  {
   "cell_type": "code",
   "execution_count": 71,
   "id": "9b06130b",
   "metadata": {},
   "outputs": [
    {
     "data": {
      "text/plain": [
       "[\"['18.972803,72.8375046,14z/']\"]"
      ]
     },
     "execution_count": 71,
     "metadata": {},
     "output_type": "execute_result"
    }
   ],
   "source": [
    "latittude"
   ]
  },
  {
   "cell_type": "code",
   "execution_count": null,
   "id": "14d31c56",
   "metadata": {},
   "outputs": [],
   "source": []
  },
  {
   "cell_type": "code",
   "execution_count": null,
   "id": "6a34df31",
   "metadata": {},
   "outputs": [],
   "source": []
  },
  {
   "cell_type": "code",
   "execution_count": null,
   "id": "0f392788",
   "metadata": {},
   "outputs": [],
   "source": []
  },
  {
   "cell_type": "code",
   "execution_count": null,
   "id": "0959d4ba",
   "metadata": {},
   "outputs": [],
   "source": []
  },
  {
   "cell_type": "code",
   "execution_count": null,
   "id": "e2332d33",
   "metadata": {},
   "outputs": [],
   "source": []
  },
  {
   "cell_type": "code",
   "execution_count": null,
   "id": "093ac414",
   "metadata": {},
   "outputs": [],
   "source": []
  },
  {
   "cell_type": "code",
   "execution_count": null,
   "id": "12d9c262",
   "metadata": {},
   "outputs": [],
   "source": []
  },
  {
   "cell_type": "code",
   "execution_count": null,
   "id": "1bb81644",
   "metadata": {},
   "outputs": [],
   "source": []
  },
  {
   "cell_type": "code",
   "execution_count": null,
   "id": "7e138c99",
   "metadata": {},
   "outputs": [],
   "source": []
  },
  {
   "cell_type": "code",
   "execution_count": null,
   "id": "16677095",
   "metadata": {},
   "outputs": [],
   "source": []
  },
  {
   "cell_type": "code",
   "execution_count": null,
   "id": "42d1f9d7",
   "metadata": {},
   "outputs": [],
   "source": []
  },
  {
   "cell_type": "code",
   "execution_count": null,
   "id": "23c0de91",
   "metadata": {},
   "outputs": [],
   "source": []
  },
  {
   "cell_type": "code",
   "execution_count": null,
   "id": "200c64cf",
   "metadata": {},
   "outputs": [],
   "source": []
  },
  {
   "cell_type": "code",
   "execution_count": null,
   "id": "176ee418",
   "metadata": {},
   "outputs": [],
   "source": []
  },
  {
   "cell_type": "code",
   "execution_count": null,
   "id": "ab2c9d7c",
   "metadata": {},
   "outputs": [],
   "source": []
  },
  {
   "cell_type": "code",
   "execution_count": null,
   "id": "988b33b4",
   "metadata": {},
   "outputs": [],
   "source": []
  },
  {
   "cell_type": "code",
   "execution_count": null,
   "id": "83d3255b",
   "metadata": {},
   "outputs": [],
   "source": []
  },
  {
   "cell_type": "code",
   "execution_count": null,
   "id": "5f8cdca9",
   "metadata": {},
   "outputs": [],
   "source": []
  },
  {
   "cell_type": "code",
   "execution_count": null,
   "id": "4c7859fc",
   "metadata": {},
   "outputs": [],
   "source": []
  },
  {
   "cell_type": "code",
   "execution_count": null,
   "id": "b78c8f04",
   "metadata": {},
   "outputs": [],
   "source": []
  },
  {
   "cell_type": "code",
   "execution_count": null,
   "id": "9c426b55",
   "metadata": {},
   "outputs": [],
   "source": []
  },
  {
   "cell_type": "code",
   "execution_count": null,
   "id": "9718ecf3",
   "metadata": {},
   "outputs": [],
   "source": []
  },
  {
   "cell_type": "code",
   "execution_count": null,
   "id": "89b237ce",
   "metadata": {},
   "outputs": [],
   "source": []
  },
  {
   "cell_type": "code",
   "execution_count": null,
   "id": "c83af773",
   "metadata": {},
   "outputs": [],
   "source": []
  },
  {
   "cell_type": "code",
   "execution_count": null,
   "id": "2a0d31cc",
   "metadata": {},
   "outputs": [],
   "source": []
  },
  {
   "cell_type": "code",
   "execution_count": null,
   "id": "a1b690ff",
   "metadata": {},
   "outputs": [],
   "source": []
  },
  {
   "cell_type": "code",
   "execution_count": null,
   "id": "da170add",
   "metadata": {},
   "outputs": [],
   "source": []
  },
  {
   "cell_type": "code",
   "execution_count": 14,
   "id": "fa2ea5e5",
   "metadata": {},
   "outputs": [
    {
     "name": "stdout",
     "output_type": "stream",
     "text": [
      "140164534\n"
     ]
    }
   ],
   "source": [
    "print(len(rank))"
   ]
  },
  {
   "cell_type": "code",
   "execution_count": null,
   "id": "726ba1d1",
   "metadata": {},
   "outputs": [],
   "source": []
  },
  {
   "cell_type": "code",
   "execution_count": null,
   "id": "e2a1f14f",
   "metadata": {},
   "outputs": [],
   "source": []
  },
  {
   "cell_type": "code",
   "execution_count": null,
   "id": "58be254f",
   "metadata": {},
   "outputs": [],
   "source": []
  },
  {
   "cell_type": "code",
   "execution_count": null,
   "id": "1bee72b8",
   "metadata": {},
   "outputs": [],
   "source": []
  },
  {
   "cell_type": "code",
   "execution_count": null,
   "id": "f4f57ab4",
   "metadata": {},
   "outputs": [],
   "source": []
  },
  {
   "cell_type": "code",
   "execution_count": null,
   "id": "cfc111f9",
   "metadata": {},
   "outputs": [],
   "source": []
  },
  {
   "cell_type": "code",
   "execution_count": null,
   "id": "89a6e7b6",
   "metadata": {},
   "outputs": [],
   "source": []
  },
  {
   "cell_type": "code",
   "execution_count": null,
   "id": "9be47377",
   "metadata": {},
   "outputs": [],
   "source": []
  },
  {
   "cell_type": "code",
   "execution_count": null,
   "id": "ee8c5610",
   "metadata": {},
   "outputs": [],
   "source": []
  },
  {
   "cell_type": "code",
   "execution_count": null,
   "id": "9cf00389",
   "metadata": {},
   "outputs": [],
   "source": []
  },
  {
   "cell_type": "code",
   "execution_count": null,
   "id": "d83633eb",
   "metadata": {},
   "outputs": [],
   "source": []
  },
  {
   "cell_type": "code",
   "execution_count": null,
   "id": "5ed0875f",
   "metadata": {},
   "outputs": [],
   "source": []
  },
  {
   "cell_type": "code",
   "execution_count": null,
   "id": "30a955c3",
   "metadata": {},
   "outputs": [],
   "source": []
  },
  {
   "cell_type": "code",
   "execution_count": null,
   "id": "49f9e808",
   "metadata": {},
   "outputs": [],
   "source": []
  },
  {
   "cell_type": "code",
   "execution_count": null,
   "id": "88e6e137",
   "metadata": {},
   "outputs": [],
   "source": []
  },
  {
   "cell_type": "code",
   "execution_count": null,
   "id": "7b786cdf",
   "metadata": {},
   "outputs": [],
   "source": []
  },
  {
   "cell_type": "code",
   "execution_count": null,
   "id": "f1c47e02",
   "metadata": {},
   "outputs": [],
   "source": []
  },
  {
   "cell_type": "code",
   "execution_count": null,
   "id": "759928a2",
   "metadata": {},
   "outputs": [],
   "source": []
  },
  {
   "cell_type": "code",
   "execution_count": null,
   "id": "5c330146",
   "metadata": {},
   "outputs": [],
   "source": []
  },
  {
   "cell_type": "code",
   "execution_count": null,
   "id": "cd2d4679",
   "metadata": {},
   "outputs": [],
   "source": []
  },
  {
   "cell_type": "code",
   "execution_count": null,
   "id": "098bdfda",
   "metadata": {},
   "outputs": [],
   "source": []
  },
  {
   "cell_type": "code",
   "execution_count": null,
   "id": "e6f48524",
   "metadata": {},
   "outputs": [],
   "source": []
  },
  {
   "cell_type": "code",
   "execution_count": null,
   "id": "3346f5eb",
   "metadata": {},
   "outputs": [],
   "source": []
  },
  {
   "cell_type": "code",
   "execution_count": null,
   "id": "f4f3bc5e",
   "metadata": {},
   "outputs": [],
   "source": []
  },
  {
   "cell_type": "code",
   "execution_count": null,
   "id": "f7df77d1",
   "metadata": {},
   "outputs": [],
   "source": []
  },
  {
   "cell_type": "code",
   "execution_count": null,
   "id": "fc120130",
   "metadata": {},
   "outputs": [],
   "source": []
  },
  {
   "cell_type": "code",
   "execution_count": null,
   "id": "3c670657",
   "metadata": {},
   "outputs": [],
   "source": []
  },
  {
   "cell_type": "code",
   "execution_count": null,
   "id": "eaadd64b",
   "metadata": {},
   "outputs": [],
   "source": []
  },
  {
   "cell_type": "code",
   "execution_count": null,
   "id": "44f2718f",
   "metadata": {},
   "outputs": [],
   "source": []
  },
  {
   "cell_type": "code",
   "execution_count": null,
   "id": "e45346c6",
   "metadata": {},
   "outputs": [],
   "source": []
  },
  {
   "cell_type": "code",
   "execution_count": null,
   "id": "2439ee4c",
   "metadata": {},
   "outputs": [],
   "source": []
  },
  {
   "cell_type": "code",
   "execution_count": null,
   "id": "1fd1e43e",
   "metadata": {},
   "outputs": [],
   "source": []
  },
  {
   "cell_type": "code",
   "execution_count": null,
   "id": "b94a166b",
   "metadata": {},
   "outputs": [],
   "source": []
  },
  {
   "cell_type": "code",
   "execution_count": null,
   "id": "99c18d88",
   "metadata": {},
   "outputs": [],
   "source": []
  },
  {
   "cell_type": "code",
   "execution_count": null,
   "id": "60ac6b6b",
   "metadata": {},
   "outputs": [],
   "source": []
  },
  {
   "cell_type": "code",
   "execution_count": null,
   "id": "1d70b6ed",
   "metadata": {},
   "outputs": [],
   "source": []
  },
  {
   "cell_type": "code",
   "execution_count": null,
   "id": "76db4ec8",
   "metadata": {},
   "outputs": [],
   "source": []
  },
  {
   "cell_type": "code",
   "execution_count": null,
   "id": "61edaacd",
   "metadata": {},
   "outputs": [],
   "source": []
  },
  {
   "cell_type": "code",
   "execution_count": null,
   "id": "3a09c72c",
   "metadata": {},
   "outputs": [],
   "source": []
  },
  {
   "cell_type": "code",
   "execution_count": null,
   "id": "a94544f4",
   "metadata": {},
   "outputs": [],
   "source": []
  },
  {
   "cell_type": "code",
   "execution_count": null,
   "id": "4a09bb5e",
   "metadata": {},
   "outputs": [],
   "source": []
  },
  {
   "cell_type": "code",
   "execution_count": null,
   "id": "56d3b2d0",
   "metadata": {},
   "outputs": [],
   "source": []
  },
  {
   "cell_type": "code",
   "execution_count": null,
   "id": "91c032df",
   "metadata": {},
   "outputs": [],
   "source": []
  },
  {
   "cell_type": "code",
   "execution_count": null,
   "id": "ad8f881c",
   "metadata": {},
   "outputs": [],
   "source": []
  },
  {
   "cell_type": "code",
   "execution_count": null,
   "id": "c72fcc3b",
   "metadata": {},
   "outputs": [],
   "source": []
  },
  {
   "cell_type": "code",
   "execution_count": null,
   "id": "8aa50fc7",
   "metadata": {},
   "outputs": [],
   "source": []
  },
  {
   "cell_type": "code",
   "execution_count": null,
   "id": "dc434777",
   "metadata": {},
   "outputs": [],
   "source": []
  },
  {
   "cell_type": "code",
   "execution_count": null,
   "id": "c600153a",
   "metadata": {},
   "outputs": [],
   "source": []
  }
 ],
 "metadata": {
  "kernelspec": {
   "display_name": "Python 3 (ipykernel)",
   "language": "python",
   "name": "python3"
  },
  "language_info": {
   "codemirror_mode": {
    "name": "ipython",
    "version": 3
   },
   "file_extension": ".py",
   "mimetype": "text/x-python",
   "name": "python",
   "nbconvert_exporter": "python",
   "pygments_lexer": "ipython3",
   "version": "3.10.9"
  }
 },
 "nbformat": 4,
 "nbformat_minor": 5
}
